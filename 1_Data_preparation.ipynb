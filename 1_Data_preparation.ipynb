{
  "nbformat": 4,
  "nbformat_minor": 0,
  "metadata": {
    "colab": {
      "name": "1_Data_preparation.ipynb",
      "provenance": [],
      "collapsed_sections": [],
      "authorship_tag": "ABX9TyNa67Vn+UDwN9bUydJmTTDu",
      "include_colab_link": true
    },
    "kernelspec": {
      "name": "python3",
      "display_name": "Python 3"
    },
    "language_info": {
      "name": "python"
    }
  },
  "cells": [
    {
      "cell_type": "markdown",
      "metadata": {
        "id": "view-in-github",
        "colab_type": "text"
      },
      "source": [
        "<a href=\"https://colab.research.google.com/github/thaitruong018/e_commerce_analysis/blob/main/1_Data_preparation.ipynb\" target=\"_parent\"><img src=\"https://colab.research.google.com/assets/colab-badge.svg\" alt=\"Open In Colab\"/></a>"
      ]
    },
    {
      "cell_type": "markdown",
      "metadata": {
        "id": "gFAcWjiBnfVa"
      },
      "source": [
        "**Brazilian E-Commerce Analysis**  \n",
        "This is a Brazilian ecommerce public dataset of orders made at Olist Store. [The dataset](https://www.kaggle.com/olistbr/brazilian-ecommerce) has information of 100k orders from 2016 to 2018 made at multiple marketplaces in Brazil. Its features allows viewing an order from multiple dimensions: from order status, price, payment and freight performance to customer location, product attributes and finally reviews written by customers.  \n",
        "Based on this dataset, I will do some exploration and analysis in 5 notebooks to get deeper understanding of e-commerce field.  \n",
        "- Retention rate  \n",
        "- Customer segmentation RFM  \n",
        "- Customer lifetime value  \n",
        "- Predict next month transaction   \n",
        "- Sales forcasting  \n",
        "For further analysis, hopefully, I will explore NLP and A/B testing.\n"
      ]
    },
    {
      "cell_type": "markdown",
      "metadata": {
        "id": "kSX6PGawxnNy"
      },
      "source": [
        "First and foremost, we need to get data"
      ]
    },
    {
      "cell_type": "markdown",
      "metadata": {
        "id": "rBsiTO4mnTK4"
      },
      "source": [
        "## Set-up"
      ]
    },
    {
      "cell_type": "code",
      "metadata": {
        "colab": {
          "base_uri": "https://localhost:8080/"
        },
        "id": "g7h4JQkGK3P8",
        "outputId": "3bb5ea65-d359-4460-c761-5392eb48629b"
      },
      "source": [
        "# connect to google drive\n",
        "from google.colab import drive\n",
        "drive.mount('/content/gdrive')"
      ],
      "execution_count": null,
      "outputs": [
        {
          "output_type": "stream",
          "name": "stdout",
          "text": [
            "Mounted at /content/gdrive\n"
          ]
        }
      ]
    },
    {
      "cell_type": "code",
      "metadata": {
        "id": "roroHe-NrKEd"
      },
      "source": [
        "# Upload 'kaggle.json' file\n",
        "from google.colab import files\n",
        "files.upload()   # upload your json file that you download from kaggle, you can take a quick look at here -->(https://www.kaggle.com/general/51898)"
      ],
      "execution_count": null,
      "outputs": []
    },
    {
      "cell_type": "code",
      "metadata": {
        "id": "GbTYJIIOrKjt",
        "colab": {
          "base_uri": "https://localhost:8080/"
        },
        "outputId": "bdec686b-8b93-46ca-8bfc-ed0f066dee24"
      },
      "source": [
        "# Install kaggle package\n",
        "!pip install --upgrade --force-reinstall --no-deps kaggle\n",
        "\n",
        "# Ensure kaggle.json is in the location ~/.kaggle/kaggle.json to use the API.\n",
        "!mkdir -p ~/.kaggle\n",
        "!mv kaggle.json ~/.kaggle/\n",
        "!chmod 600 ~/.kaggle/kaggle.json  # set permission"
      ],
      "execution_count": null,
      "outputs": [
        {
          "output_type": "stream",
          "name": "stdout",
          "text": [
            "Collecting kaggle\n",
            "  Downloading kaggle-1.5.12.tar.gz (58 kB)\n",
            "\u001b[?25l\r\u001b[K     |█████▋                          | 10 kB 23.3 MB/s eta 0:00:01\r\u001b[K     |███████████▏                    | 20 kB 29.3 MB/s eta 0:00:01\r\u001b[K     |████████████████▊               | 30 kB 35.2 MB/s eta 0:00:01\r\u001b[K     |██████████████████████▎         | 40 kB 37.6 MB/s eta 0:00:01\r\u001b[K     |███████████████████████████▉    | 51 kB 34.5 MB/s eta 0:00:01\r\u001b[K     |████████████████████████████████| 58 kB 5.9 MB/s \n",
            "\u001b[?25hBuilding wheels for collected packages: kaggle\n",
            "  Building wheel for kaggle (setup.py) ... \u001b[?25l\u001b[?25hdone\n",
            "  Created wheel for kaggle: filename=kaggle-1.5.12-py3-none-any.whl size=73051 sha256=67d26bac67afff0d27bbb6b6e7f178349d331b8297b473279cffd615a10c37af\n",
            "  Stored in directory: /root/.cache/pip/wheels/62/d6/58/5853130f941e75b2177d281eb7e44b4a98ed46dd155f556dc5\n",
            "Successfully built kaggle\n",
            "Installing collected packages: kaggle\n",
            "  Attempting uninstall: kaggle\n",
            "    Found existing installation: kaggle 1.5.12\n",
            "    Uninstalling kaggle-1.5.12:\n",
            "      Successfully uninstalled kaggle-1.5.12\n",
            "Successfully installed kaggle-1.5.12\n"
          ]
        }
      ]
    },
    {
      "cell_type": "code",
      "metadata": {
        "id": "boPg72ESrOB4",
        "colab": {
          "base_uri": "https://localhost:8080/"
        },
        "outputId": "4da7b295-1cf0-496f-c398-ed9409abf41c"
      },
      "source": [
        "#download data\n",
        "!kaggle datasets download -d olistbr/brazilian-ecommerce"
      ],
      "execution_count": null,
      "outputs": [
        {
          "output_type": "stream",
          "name": "stdout",
          "text": [
            "Downloading brazilian-ecommerce.zip to /content\n",
            " 96% 41.0M/42.6M [00:00<00:00, 103MB/s]\n",
            "100% 42.6M/42.6M [00:00<00:00, 105MB/s]\n"
          ]
        }
      ]
    },
    {
      "cell_type": "code",
      "metadata": {
        "id": "AlKa94RDrPsg"
      },
      "source": [
        "#Unzip\n",
        "!unzip -q /content/brazilian-ecommerce.zip -d /content/gdrive/MyDrive/brazilian_ecommerce "
      ],
      "execution_count": null,
      "outputs": []
    },
    {
      "cell_type": "code",
      "metadata": {
        "id": "BY_FQ1brLzq8"
      },
      "source": [
        "# import libraries\n",
        "import pandas as pd\n",
        "import os"
      ],
      "execution_count": null,
      "outputs": []
    },
    {
      "cell_type": "code",
      "metadata": {
        "id": "2ohmtq4vMHb8"
      },
      "source": [
        "# path to folder\n",
        "path = '/content/gdrive/MyDrive/brazilian_ecommerce'"
      ],
      "execution_count": null,
      "outputs": []
    },
    {
      "cell_type": "code",
      "metadata": {
        "colab": {
          "base_uri": "https://localhost:8080/"
        },
        "id": "nokLr25-OSG4",
        "outputId": "876a1310-93c4-4575-a622-e17671e9b57e"
      },
      "source": [
        "# how many files in this dataset?\n",
        "os.listdir(path)"
      ],
      "execution_count": null,
      "outputs": [
        {
          "output_type": "execute_result",
          "data": {
            "text/plain": [
              "['olist_customers_dataset.csv',\n",
              " 'olist_geolocation_dataset.csv',\n",
              " 'olist_order_items_dataset.csv',\n",
              " 'olist_order_payments_dataset.csv',\n",
              " 'olist_order_reviews_dataset.csv',\n",
              " 'olist_orders_dataset.csv',\n",
              " 'olist_products_dataset.csv',\n",
              " 'product_category_name_translation.csv',\n",
              " 'olist_sellers_dataset.csv']"
            ]
          },
          "metadata": {},
          "execution_count": 29
        }
      ]
    },
    {
      "cell_type": "code",
      "metadata": {
        "id": "srjfunXSL0I3"
      },
      "source": [
        "# Read dataset\n",
        "df_orders = pd.read_csv(os.path.join(path,'olist_orders_dataset.csv'))\n",
        "df_order_items = pd.read_csv(os.path.join(path,'olist_order_items_dataset.csv'))\n",
        "df_products = pd.read_csv(os.path.join(path,'olist_products_dataset.csv'))\n",
        "df_customer = pd.read_csv(os.path.join(path,'olist_customers_dataset.csv'))\n",
        "df_geolocation = pd.read_csv(os.path.join(path, 'olist_geolocation_dataset.csv'))\n",
        "df_order_payments = pd.read_csv(os.path.join(path, 'olist_order_payments_dataset.csv'))\n",
        "df_order_reviews =  pd.read_csv(os.path.join(path, 'olist_order_reviews_dataset.csv'))\n",
        "df_sellers = pd.read_csv(os.path.join(path, 'olist_sellers_dataset.csv'))\n",
        "df_category = pd.read_csv(os.path.join(path, 'product_category_name_translation.csv'))"
      ],
      "execution_count": null,
      "outputs": []
    },
    {
      "cell_type": "code",
      "metadata": {
        "id": "Bo2EKVkWJ-gg"
      },
      "source": [
        "# set variable names\n",
        "datasets = [df_orders, df_order_items, df_products, df_customer, df_geolocation, \n",
        "            df_order_payments, df_order_reviews, df_sellers, df_category]\n",
        "names = ['olist_orders','olist_order_items', 'olist_products', 'olist_customer', \n",
        "         'olist_geolocation', 'olist_order_payments',  'olist_order_reviews', 'olist_sellers', 'olist_category_name']"
      ],
      "execution_count": null,
      "outputs": []
    },
    {
      "cell_type": "code",
      "metadata": {
        "colab": {
          "base_uri": "https://localhost:8080/",
          "height": 292
        },
        "id": "5yPHnX8ILDf7",
        "outputId": "a017abec-de38-4a6b-e1a5-e1a7b96f883b"
      },
      "source": [
        "# Creating a DataFrame with useful information about all datasets\n",
        "df_info = pd.DataFrame({})\n",
        "df_info['dataset'] = names\n",
        "df_info['n_rows'] = [df.shape[0] for df in datasets]\n",
        "df_info['n_cols'] = [df.shape[1] for df in datasets]\n",
        "df_info['null_amount'] = [df.isnull().sum().sum() for df in datasets]\n",
        "df_info['null_columns_qty'] = [len([col for col, null in df.isnull().sum().items() if null > 0]) for df in datasets]\n",
        "df_info['null_columns_names'] = [', '.join([col for col, null in df.isnull().sum().items() if null > 0]) for df in datasets]\n",
        "\n",
        "df_info.style.background_gradient()"
      ],
      "execution_count": null,
      "outputs": [
        {
          "output_type": "execute_result",
          "data": {
            "text/html": [
              "<style  type=\"text/css\" >\n",
              "#T_6ae2ee82_3203_11ec_9ebc_0242ac1c0002row0_col1,#T_6ae2ee82_3203_11ec_9ebc_0242ac1c0002row3_col1,#T_6ae2ee82_3203_11ec_9ebc_0242ac1c0002row5_col1,#T_6ae2ee82_3203_11ec_9ebc_0242ac1c0002row6_col1{\n",
              "            background-color:  #f0eaf4;\n",
              "            color:  #000000;\n",
              "        }#T_6ae2ee82_3203_11ec_9ebc_0242ac1c0002row0_col2{\n",
              "            background-color:  #045d92;\n",
              "            color:  #f1f1f1;\n",
              "        }#T_6ae2ee82_3203_11ec_9ebc_0242ac1c0002row0_col3,#T_6ae2ee82_3203_11ec_9ebc_0242ac1c0002row2_col1{\n",
              "            background-color:  #faf3f9;\n",
              "            color:  #000000;\n",
              "        }#T_6ae2ee82_3203_11ec_9ebc_0242ac1c0002row0_col4{\n",
              "            background-color:  #a5bddb;\n",
              "            color:  #000000;\n",
              "        }#T_6ae2ee82_3203_11ec_9ebc_0242ac1c0002row1_col1{\n",
              "            background-color:  #eee9f3;\n",
              "            color:  #000000;\n",
              "        }#T_6ae2ee82_3203_11ec_9ebc_0242ac1c0002row1_col2,#T_6ae2ee82_3203_11ec_9ebc_0242ac1c0002row6_col2{\n",
              "            background-color:  #1379b5;\n",
              "            color:  #f1f1f1;\n",
              "        }#T_6ae2ee82_3203_11ec_9ebc_0242ac1c0002row1_col3,#T_6ae2ee82_3203_11ec_9ebc_0242ac1c0002row1_col4,#T_6ae2ee82_3203_11ec_9ebc_0242ac1c0002row3_col3,#T_6ae2ee82_3203_11ec_9ebc_0242ac1c0002row3_col4,#T_6ae2ee82_3203_11ec_9ebc_0242ac1c0002row4_col3,#T_6ae2ee82_3203_11ec_9ebc_0242ac1c0002row4_col4,#T_6ae2ee82_3203_11ec_9ebc_0242ac1c0002row5_col3,#T_6ae2ee82_3203_11ec_9ebc_0242ac1c0002row5_col4,#T_6ae2ee82_3203_11ec_9ebc_0242ac1c0002row7_col1,#T_6ae2ee82_3203_11ec_9ebc_0242ac1c0002row7_col3,#T_6ae2ee82_3203_11ec_9ebc_0242ac1c0002row7_col4,#T_6ae2ee82_3203_11ec_9ebc_0242ac1c0002row8_col1,#T_6ae2ee82_3203_11ec_9ebc_0242ac1c0002row8_col2,#T_6ae2ee82_3203_11ec_9ebc_0242ac1c0002row8_col3,#T_6ae2ee82_3203_11ec_9ebc_0242ac1c0002row8_col4{\n",
              "            background-color:  #fff7fb;\n",
              "            color:  #000000;\n",
              "        }#T_6ae2ee82_3203_11ec_9ebc_0242ac1c0002row2_col2,#T_6ae2ee82_3203_11ec_9ebc_0242ac1c0002row2_col4,#T_6ae2ee82_3203_11ec_9ebc_0242ac1c0002row4_col1,#T_6ae2ee82_3203_11ec_9ebc_0242ac1c0002row6_col3{\n",
              "            background-color:  #023858;\n",
              "            color:  #f1f1f1;\n",
              "        }#T_6ae2ee82_3203_11ec_9ebc_0242ac1c0002row2_col3{\n",
              "            background-color:  #fdf5fa;\n",
              "            color:  #000000;\n",
              "        }#T_6ae2ee82_3203_11ec_9ebc_0242ac1c0002row3_col2,#T_6ae2ee82_3203_11ec_9ebc_0242ac1c0002row4_col2,#T_6ae2ee82_3203_11ec_9ebc_0242ac1c0002row5_col2{\n",
              "            background-color:  #91b5d6;\n",
              "            color:  #000000;\n",
              "        }#T_6ae2ee82_3203_11ec_9ebc_0242ac1c0002row6_col4{\n",
              "            background-color:  #d0d1e6;\n",
              "            color:  #000000;\n",
              "        }#T_6ae2ee82_3203_11ec_9ebc_0242ac1c0002row7_col2{\n",
              "            background-color:  #c4cbe3;\n",
              "            color:  #000000;\n",
              "        }</style><table id=\"T_6ae2ee82_3203_11ec_9ebc_0242ac1c0002\" ><thead>    <tr>        <th class=\"blank level0\" ></th>        <th class=\"col_heading level0 col0\" >dataset</th>        <th class=\"col_heading level0 col1\" >n_rows</th>        <th class=\"col_heading level0 col2\" >n_cols</th>        <th class=\"col_heading level0 col3\" >null_amount</th>        <th class=\"col_heading level0 col4\" >null_columns_qty</th>        <th class=\"col_heading level0 col5\" >null_columns_names</th>    </tr></thead><tbody>\n",
              "                <tr>\n",
              "                        <th id=\"T_6ae2ee82_3203_11ec_9ebc_0242ac1c0002level0_row0\" class=\"row_heading level0 row0\" >0</th>\n",
              "                        <td id=\"T_6ae2ee82_3203_11ec_9ebc_0242ac1c0002row0_col0\" class=\"data row0 col0\" >olist_orders</td>\n",
              "                        <td id=\"T_6ae2ee82_3203_11ec_9ebc_0242ac1c0002row0_col1\" class=\"data row0 col1\" >99441</td>\n",
              "                        <td id=\"T_6ae2ee82_3203_11ec_9ebc_0242ac1c0002row0_col2\" class=\"data row0 col2\" >8</td>\n",
              "                        <td id=\"T_6ae2ee82_3203_11ec_9ebc_0242ac1c0002row0_col3\" class=\"data row0 col3\" >4908</td>\n",
              "                        <td id=\"T_6ae2ee82_3203_11ec_9ebc_0242ac1c0002row0_col4\" class=\"data row0 col4\" >3</td>\n",
              "                        <td id=\"T_6ae2ee82_3203_11ec_9ebc_0242ac1c0002row0_col5\" class=\"data row0 col5\" >order_approved_at, order_delivered_carrier_date, order_delivered_customer_date</td>\n",
              "            </tr>\n",
              "            <tr>\n",
              "                        <th id=\"T_6ae2ee82_3203_11ec_9ebc_0242ac1c0002level0_row1\" class=\"row_heading level0 row1\" >1</th>\n",
              "                        <td id=\"T_6ae2ee82_3203_11ec_9ebc_0242ac1c0002row1_col0\" class=\"data row1 col0\" >olist_order_items</td>\n",
              "                        <td id=\"T_6ae2ee82_3203_11ec_9ebc_0242ac1c0002row1_col1\" class=\"data row1 col1\" >112650</td>\n",
              "                        <td id=\"T_6ae2ee82_3203_11ec_9ebc_0242ac1c0002row1_col2\" class=\"data row1 col2\" >7</td>\n",
              "                        <td id=\"T_6ae2ee82_3203_11ec_9ebc_0242ac1c0002row1_col3\" class=\"data row1 col3\" >0</td>\n",
              "                        <td id=\"T_6ae2ee82_3203_11ec_9ebc_0242ac1c0002row1_col4\" class=\"data row1 col4\" >0</td>\n",
              "                        <td id=\"T_6ae2ee82_3203_11ec_9ebc_0242ac1c0002row1_col5\" class=\"data row1 col5\" ></td>\n",
              "            </tr>\n",
              "            <tr>\n",
              "                        <th id=\"T_6ae2ee82_3203_11ec_9ebc_0242ac1c0002level0_row2\" class=\"row_heading level0 row2\" >2</th>\n",
              "                        <td id=\"T_6ae2ee82_3203_11ec_9ebc_0242ac1c0002row2_col0\" class=\"data row2 col0\" >olist_products</td>\n",
              "                        <td id=\"T_6ae2ee82_3203_11ec_9ebc_0242ac1c0002row2_col1\" class=\"data row2 col1\" >32951</td>\n",
              "                        <td id=\"T_6ae2ee82_3203_11ec_9ebc_0242ac1c0002row2_col2\" class=\"data row2 col2\" >9</td>\n",
              "                        <td id=\"T_6ae2ee82_3203_11ec_9ebc_0242ac1c0002row2_col3\" class=\"data row2 col3\" >2448</td>\n",
              "                        <td id=\"T_6ae2ee82_3203_11ec_9ebc_0242ac1c0002row2_col4\" class=\"data row2 col4\" >8</td>\n",
              "                        <td id=\"T_6ae2ee82_3203_11ec_9ebc_0242ac1c0002row2_col5\" class=\"data row2 col5\" >product_category_name, product_name_lenght, product_description_lenght, product_photos_qty, product_weight_g, product_length_cm, product_height_cm, product_width_cm</td>\n",
              "            </tr>\n",
              "            <tr>\n",
              "                        <th id=\"T_6ae2ee82_3203_11ec_9ebc_0242ac1c0002level0_row3\" class=\"row_heading level0 row3\" >3</th>\n",
              "                        <td id=\"T_6ae2ee82_3203_11ec_9ebc_0242ac1c0002row3_col0\" class=\"data row3 col0\" >olist_customer</td>\n",
              "                        <td id=\"T_6ae2ee82_3203_11ec_9ebc_0242ac1c0002row3_col1\" class=\"data row3 col1\" >99441</td>\n",
              "                        <td id=\"T_6ae2ee82_3203_11ec_9ebc_0242ac1c0002row3_col2\" class=\"data row3 col2\" >5</td>\n",
              "                        <td id=\"T_6ae2ee82_3203_11ec_9ebc_0242ac1c0002row3_col3\" class=\"data row3 col3\" >0</td>\n",
              "                        <td id=\"T_6ae2ee82_3203_11ec_9ebc_0242ac1c0002row3_col4\" class=\"data row3 col4\" >0</td>\n",
              "                        <td id=\"T_6ae2ee82_3203_11ec_9ebc_0242ac1c0002row3_col5\" class=\"data row3 col5\" ></td>\n",
              "            </tr>\n",
              "            <tr>\n",
              "                        <th id=\"T_6ae2ee82_3203_11ec_9ebc_0242ac1c0002level0_row4\" class=\"row_heading level0 row4\" >4</th>\n",
              "                        <td id=\"T_6ae2ee82_3203_11ec_9ebc_0242ac1c0002row4_col0\" class=\"data row4 col0\" >olist_geolocation</td>\n",
              "                        <td id=\"T_6ae2ee82_3203_11ec_9ebc_0242ac1c0002row4_col1\" class=\"data row4 col1\" >1000163</td>\n",
              "                        <td id=\"T_6ae2ee82_3203_11ec_9ebc_0242ac1c0002row4_col2\" class=\"data row4 col2\" >5</td>\n",
              "                        <td id=\"T_6ae2ee82_3203_11ec_9ebc_0242ac1c0002row4_col3\" class=\"data row4 col3\" >0</td>\n",
              "                        <td id=\"T_6ae2ee82_3203_11ec_9ebc_0242ac1c0002row4_col4\" class=\"data row4 col4\" >0</td>\n",
              "                        <td id=\"T_6ae2ee82_3203_11ec_9ebc_0242ac1c0002row4_col5\" class=\"data row4 col5\" ></td>\n",
              "            </tr>\n",
              "            <tr>\n",
              "                        <th id=\"T_6ae2ee82_3203_11ec_9ebc_0242ac1c0002level0_row5\" class=\"row_heading level0 row5\" >5</th>\n",
              "                        <td id=\"T_6ae2ee82_3203_11ec_9ebc_0242ac1c0002row5_col0\" class=\"data row5 col0\" >olist_order_payments</td>\n",
              "                        <td id=\"T_6ae2ee82_3203_11ec_9ebc_0242ac1c0002row5_col1\" class=\"data row5 col1\" >103886</td>\n",
              "                        <td id=\"T_6ae2ee82_3203_11ec_9ebc_0242ac1c0002row5_col2\" class=\"data row5 col2\" >5</td>\n",
              "                        <td id=\"T_6ae2ee82_3203_11ec_9ebc_0242ac1c0002row5_col3\" class=\"data row5 col3\" >0</td>\n",
              "                        <td id=\"T_6ae2ee82_3203_11ec_9ebc_0242ac1c0002row5_col4\" class=\"data row5 col4\" >0</td>\n",
              "                        <td id=\"T_6ae2ee82_3203_11ec_9ebc_0242ac1c0002row5_col5\" class=\"data row5 col5\" ></td>\n",
              "            </tr>\n",
              "            <tr>\n",
              "                        <th id=\"T_6ae2ee82_3203_11ec_9ebc_0242ac1c0002level0_row6\" class=\"row_heading level0 row6\" >6</th>\n",
              "                        <td id=\"T_6ae2ee82_3203_11ec_9ebc_0242ac1c0002row6_col0\" class=\"data row6 col0\" >olist_order_reviews</td>\n",
              "                        <td id=\"T_6ae2ee82_3203_11ec_9ebc_0242ac1c0002row6_col1\" class=\"data row6 col1\" >99224</td>\n",
              "                        <td id=\"T_6ae2ee82_3203_11ec_9ebc_0242ac1c0002row6_col2\" class=\"data row6 col2\" >7</td>\n",
              "                        <td id=\"T_6ae2ee82_3203_11ec_9ebc_0242ac1c0002row6_col3\" class=\"data row6 col3\" >145903</td>\n",
              "                        <td id=\"T_6ae2ee82_3203_11ec_9ebc_0242ac1c0002row6_col4\" class=\"data row6 col4\" >2</td>\n",
              "                        <td id=\"T_6ae2ee82_3203_11ec_9ebc_0242ac1c0002row6_col5\" class=\"data row6 col5\" >review_comment_title, review_comment_message</td>\n",
              "            </tr>\n",
              "            <tr>\n",
              "                        <th id=\"T_6ae2ee82_3203_11ec_9ebc_0242ac1c0002level0_row7\" class=\"row_heading level0 row7\" >7</th>\n",
              "                        <td id=\"T_6ae2ee82_3203_11ec_9ebc_0242ac1c0002row7_col0\" class=\"data row7 col0\" >olist_sellers</td>\n",
              "                        <td id=\"T_6ae2ee82_3203_11ec_9ebc_0242ac1c0002row7_col1\" class=\"data row7 col1\" >3095</td>\n",
              "                        <td id=\"T_6ae2ee82_3203_11ec_9ebc_0242ac1c0002row7_col2\" class=\"data row7 col2\" >4</td>\n",
              "                        <td id=\"T_6ae2ee82_3203_11ec_9ebc_0242ac1c0002row7_col3\" class=\"data row7 col3\" >0</td>\n",
              "                        <td id=\"T_6ae2ee82_3203_11ec_9ebc_0242ac1c0002row7_col4\" class=\"data row7 col4\" >0</td>\n",
              "                        <td id=\"T_6ae2ee82_3203_11ec_9ebc_0242ac1c0002row7_col5\" class=\"data row7 col5\" ></td>\n",
              "            </tr>\n",
              "            <tr>\n",
              "                        <th id=\"T_6ae2ee82_3203_11ec_9ebc_0242ac1c0002level0_row8\" class=\"row_heading level0 row8\" >8</th>\n",
              "                        <td id=\"T_6ae2ee82_3203_11ec_9ebc_0242ac1c0002row8_col0\" class=\"data row8 col0\" >olist_category_name</td>\n",
              "                        <td id=\"T_6ae2ee82_3203_11ec_9ebc_0242ac1c0002row8_col1\" class=\"data row8 col1\" >71</td>\n",
              "                        <td id=\"T_6ae2ee82_3203_11ec_9ebc_0242ac1c0002row8_col2\" class=\"data row8 col2\" >2</td>\n",
              "                        <td id=\"T_6ae2ee82_3203_11ec_9ebc_0242ac1c0002row8_col3\" class=\"data row8 col3\" >0</td>\n",
              "                        <td id=\"T_6ae2ee82_3203_11ec_9ebc_0242ac1c0002row8_col4\" class=\"data row8 col4\" >0</td>\n",
              "                        <td id=\"T_6ae2ee82_3203_11ec_9ebc_0242ac1c0002row8_col5\" class=\"data row8 col5\" ></td>\n",
              "            </tr>\n",
              "    </tbody></table>"
            ],
            "text/plain": [
              "<pandas.io.formats.style.Styler at 0x7fa5794e4690>"
            ]
          },
          "metadata": {},
          "execution_count": 9
        }
      ]
    },
    {
      "cell_type": "markdown",
      "metadata": {
        "id": "YYOOtWRCmLkj"
      },
      "source": [
        "We already have overall informaiton about the dataset. To sum up, there are 9 csv files in this Olist dataset. However, in the scope of my analysis 4 files would be sufficient. And these are: olist orders dataset, olist order items, olist products, and olist customers dataset"
      ]
    },
    {
      "cell_type": "markdown",
      "metadata": {
        "id": "pCeWVZmT_rfK"
      },
      "source": [
        "## Orders dataset"
      ]
    },
    {
      "cell_type": "code",
      "metadata": {
        "colab": {
          "base_uri": "https://localhost:8080/",
          "height": 224
        },
        "id": "V5-ukeiWokMh",
        "outputId": "39ad17a0-b2db-4c1e-8613-f29b188fd4fc"
      },
      "source": [
        "# first 5 rows\n",
        "df_orders.head()"
      ],
      "execution_count": null,
      "outputs": [
        {
          "output_type": "execute_result",
          "data": {
            "text/html": [
              "<div>\n",
              "<style scoped>\n",
              "    .dataframe tbody tr th:only-of-type {\n",
              "        vertical-align: middle;\n",
              "    }\n",
              "\n",
              "    .dataframe tbody tr th {\n",
              "        vertical-align: top;\n",
              "    }\n",
              "\n",
              "    .dataframe thead th {\n",
              "        text-align: right;\n",
              "    }\n",
              "</style>\n",
              "<table border=\"1\" class=\"dataframe\">\n",
              "  <thead>\n",
              "    <tr style=\"text-align: right;\">\n",
              "      <th></th>\n",
              "      <th>order_id</th>\n",
              "      <th>customer_id</th>\n",
              "      <th>order_status</th>\n",
              "      <th>order_purchase_timestamp</th>\n",
              "      <th>order_approved_at</th>\n",
              "      <th>order_delivered_carrier_date</th>\n",
              "      <th>order_delivered_customer_date</th>\n",
              "      <th>order_estimated_delivery_date</th>\n",
              "    </tr>\n",
              "  </thead>\n",
              "  <tbody>\n",
              "    <tr>\n",
              "      <th>0</th>\n",
              "      <td>e481f51cbdc54678b7cc49136f2d6af7</td>\n",
              "      <td>9ef432eb6251297304e76186b10a928d</td>\n",
              "      <td>delivered</td>\n",
              "      <td>2017-10-02 10:56:33</td>\n",
              "      <td>2017-10-02 11:07:15</td>\n",
              "      <td>2017-10-04 19:55:00</td>\n",
              "      <td>2017-10-10 21:25:13</td>\n",
              "      <td>2017-10-18 00:00:00</td>\n",
              "    </tr>\n",
              "    <tr>\n",
              "      <th>1</th>\n",
              "      <td>53cdb2fc8bc7dce0b6741e2150273451</td>\n",
              "      <td>b0830fb4747a6c6d20dea0b8c802d7ef</td>\n",
              "      <td>delivered</td>\n",
              "      <td>2018-07-24 20:41:37</td>\n",
              "      <td>2018-07-26 03:24:27</td>\n",
              "      <td>2018-07-26 14:31:00</td>\n",
              "      <td>2018-08-07 15:27:45</td>\n",
              "      <td>2018-08-13 00:00:00</td>\n",
              "    </tr>\n",
              "    <tr>\n",
              "      <th>2</th>\n",
              "      <td>47770eb9100c2d0c44946d9cf07ec65d</td>\n",
              "      <td>41ce2a54c0b03bf3443c3d931a367089</td>\n",
              "      <td>delivered</td>\n",
              "      <td>2018-08-08 08:38:49</td>\n",
              "      <td>2018-08-08 08:55:23</td>\n",
              "      <td>2018-08-08 13:50:00</td>\n",
              "      <td>2018-08-17 18:06:29</td>\n",
              "      <td>2018-09-04 00:00:00</td>\n",
              "    </tr>\n",
              "    <tr>\n",
              "      <th>3</th>\n",
              "      <td>949d5b44dbf5de918fe9c16f97b45f8a</td>\n",
              "      <td>f88197465ea7920adcdbec7375364d82</td>\n",
              "      <td>delivered</td>\n",
              "      <td>2017-11-18 19:28:06</td>\n",
              "      <td>2017-11-18 19:45:59</td>\n",
              "      <td>2017-11-22 13:39:59</td>\n",
              "      <td>2017-12-02 00:28:42</td>\n",
              "      <td>2017-12-15 00:00:00</td>\n",
              "    </tr>\n",
              "    <tr>\n",
              "      <th>4</th>\n",
              "      <td>ad21c59c0840e6cb83a9ceb5573f8159</td>\n",
              "      <td>8ab97904e6daea8866dbdbc4fb7aad2c</td>\n",
              "      <td>delivered</td>\n",
              "      <td>2018-02-13 21:18:39</td>\n",
              "      <td>2018-02-13 22:20:29</td>\n",
              "      <td>2018-02-14 19:46:34</td>\n",
              "      <td>2018-02-16 18:17:02</td>\n",
              "      <td>2018-02-26 00:00:00</td>\n",
              "    </tr>\n",
              "  </tbody>\n",
              "</table>\n",
              "</div>"
            ],
            "text/plain": [
              "                           order_id  ... order_estimated_delivery_date\n",
              "0  e481f51cbdc54678b7cc49136f2d6af7  ...           2017-10-18 00:00:00\n",
              "1  53cdb2fc8bc7dce0b6741e2150273451  ...           2018-08-13 00:00:00\n",
              "2  47770eb9100c2d0c44946d9cf07ec65d  ...           2018-09-04 00:00:00\n",
              "3  949d5b44dbf5de918fe9c16f97b45f8a  ...           2017-12-15 00:00:00\n",
              "4  ad21c59c0840e6cb83a9ceb5573f8159  ...           2018-02-26 00:00:00\n",
              "\n",
              "[5 rows x 8 columns]"
            ]
          },
          "metadata": {},
          "execution_count": 33
        }
      ]
    },
    {
      "cell_type": "code",
      "metadata": {
        "colab": {
          "base_uri": "https://localhost:8080/"
        },
        "id": "TqH9nSz1P4fi",
        "outputId": "92cba635-3cf6-413a-f3db-dac66da70257"
      },
      "source": [
        "# overall info\n",
        "df_orders.info()"
      ],
      "execution_count": null,
      "outputs": [
        {
          "output_type": "stream",
          "name": "stdout",
          "text": [
            "<class 'pandas.core.frame.DataFrame'>\n",
            "RangeIndex: 99441 entries, 0 to 99440\n",
            "Data columns (total 8 columns):\n",
            " #   Column                         Non-Null Count  Dtype \n",
            "---  ------                         --------------  ----- \n",
            " 0   order_id                       99441 non-null  object\n",
            " 1   customer_id                    99441 non-null  object\n",
            " 2   order_status                   99441 non-null  object\n",
            " 3   order_purchase_timestamp       99441 non-null  object\n",
            " 4   order_approved_at              99281 non-null  object\n",
            " 5   order_delivered_carrier_date   97658 non-null  object\n",
            " 6   order_delivered_customer_date  96476 non-null  object\n",
            " 7   order_estimated_delivery_date  99441 non-null  object\n",
            "dtypes: object(8)\n",
            "memory usage: 6.1+ MB\n"
          ]
        }
      ]
    },
    {
      "cell_type": "code",
      "metadata": {
        "colab": {
          "base_uri": "https://localhost:8080/",
          "height": 297
        },
        "id": "GZf2V0E6P_RP",
        "outputId": "7df58a93-156c-4119-df46-4ed368658db0"
      },
      "source": [
        "# statistical info\n",
        "df_orders.describe().T"
      ],
      "execution_count": null,
      "outputs": [
        {
          "output_type": "execute_result",
          "data": {
            "text/html": [
              "<div>\n",
              "<style scoped>\n",
              "    .dataframe tbody tr th:only-of-type {\n",
              "        vertical-align: middle;\n",
              "    }\n",
              "\n",
              "    .dataframe tbody tr th {\n",
              "        vertical-align: top;\n",
              "    }\n",
              "\n",
              "    .dataframe thead th {\n",
              "        text-align: right;\n",
              "    }\n",
              "</style>\n",
              "<table border=\"1\" class=\"dataframe\">\n",
              "  <thead>\n",
              "    <tr style=\"text-align: right;\">\n",
              "      <th></th>\n",
              "      <th>count</th>\n",
              "      <th>unique</th>\n",
              "      <th>top</th>\n",
              "      <th>freq</th>\n",
              "    </tr>\n",
              "  </thead>\n",
              "  <tbody>\n",
              "    <tr>\n",
              "      <th>order_id</th>\n",
              "      <td>99441</td>\n",
              "      <td>99441</td>\n",
              "      <td>9eac94dce77597b831e8c0dfc584bc8b</td>\n",
              "      <td>1</td>\n",
              "    </tr>\n",
              "    <tr>\n",
              "      <th>customer_id</th>\n",
              "      <td>99441</td>\n",
              "      <td>99441</td>\n",
              "      <td>44cee6676b4cf6680ff8b82493a57cf4</td>\n",
              "      <td>1</td>\n",
              "    </tr>\n",
              "    <tr>\n",
              "      <th>order_status</th>\n",
              "      <td>99441</td>\n",
              "      <td>8</td>\n",
              "      <td>delivered</td>\n",
              "      <td>96478</td>\n",
              "    </tr>\n",
              "    <tr>\n",
              "      <th>order_purchase_timestamp</th>\n",
              "      <td>99441</td>\n",
              "      <td>98875</td>\n",
              "      <td>2018-08-02 12:06:09</td>\n",
              "      <td>3</td>\n",
              "    </tr>\n",
              "    <tr>\n",
              "      <th>order_approved_at</th>\n",
              "      <td>99281</td>\n",
              "      <td>90733</td>\n",
              "      <td>2018-02-27 04:31:10</td>\n",
              "      <td>9</td>\n",
              "    </tr>\n",
              "    <tr>\n",
              "      <th>order_delivered_carrier_date</th>\n",
              "      <td>97658</td>\n",
              "      <td>81018</td>\n",
              "      <td>2018-05-09 15:48:00</td>\n",
              "      <td>47</td>\n",
              "    </tr>\n",
              "    <tr>\n",
              "      <th>order_delivered_customer_date</th>\n",
              "      <td>96476</td>\n",
              "      <td>95664</td>\n",
              "      <td>2018-07-24 21:36:42</td>\n",
              "      <td>3</td>\n",
              "    </tr>\n",
              "    <tr>\n",
              "      <th>order_estimated_delivery_date</th>\n",
              "      <td>99441</td>\n",
              "      <td>459</td>\n",
              "      <td>2017-12-20 00:00:00</td>\n",
              "      <td>522</td>\n",
              "    </tr>\n",
              "  </tbody>\n",
              "</table>\n",
              "</div>"
            ],
            "text/plain": [
              "                               count  ...   freq\n",
              "order_id                       99441  ...      1\n",
              "customer_id                    99441  ...      1\n",
              "order_status                   99441  ...  96478\n",
              "order_purchase_timestamp       99441  ...      3\n",
              "order_approved_at              99281  ...      9\n",
              "order_delivered_carrier_date   97658  ...     47\n",
              "order_delivered_customer_date  96476  ...      3\n",
              "order_estimated_delivery_date  99441  ...    522\n",
              "\n",
              "[8 rows x 4 columns]"
            ]
          },
          "metadata": {},
          "execution_count": 35
        }
      ]
    },
    {
      "cell_type": "code",
      "metadata": {
        "colab": {
          "base_uri": "https://localhost:8080/"
        },
        "id": "TUoCYt5EQEbd",
        "outputId": "249dcb46-74ff-4be7-ee8a-da39707c83d9"
      },
      "source": [
        "# check missing values\n",
        "df_orders.isna().sum()"
      ],
      "execution_count": null,
      "outputs": [
        {
          "output_type": "execute_result",
          "data": {
            "text/plain": [
              "order_id                            0\n",
              "customer_id                         0\n",
              "order_status                        0\n",
              "order_purchase_timestamp            0\n",
              "order_approved_at                 160\n",
              "order_delivered_carrier_date     1783\n",
              "order_delivered_customer_date    2965\n",
              "order_estimated_delivery_date       0\n",
              "dtype: int64"
            ]
          },
          "metadata": {},
          "execution_count": 36
        }
      ]
    },
    {
      "cell_type": "code",
      "metadata": {
        "colab": {
          "base_uri": "https://localhost:8080/"
        },
        "id": "vh2kJoLjtngf",
        "outputId": "42790cd2-5ba8-474d-9645-7286ff6db51b"
      },
      "source": [
        "# calculate the ratio of missing values and whole data\n",
        "(df_orders['order_approved_at'].isna().sum() + \\\n",
        "df_orders['order_delivered_carrier_date'].isna().sum() + \\\n",
        "df_orders['order_delivered_customer_date'].isna().sum()) / df_orders.shape[0]"
      ],
      "execution_count": null,
      "outputs": [
        {
          "output_type": "execute_result",
          "data": {
            "text/plain": [
              "0.04935589947808248"
            ]
          },
          "metadata": {},
          "execution_count": 37
        }
      ]
    },
    {
      "cell_type": "markdown",
      "metadata": {
        "id": "0Q4p_AcYvIpy"
      },
      "source": [
        "Missing values account for approximately 5% of the entire data. It's quite small.  \n",
        "Besides, Date need to be formated as datetime, and truncated to date only (without time) for further analysis"
      ]
    },
    {
      "cell_type": "code",
      "metadata": {
        "colab": {
          "base_uri": "https://localhost:8080/",
          "height": 224
        },
        "id": "-ofyS_wwV-M9",
        "outputId": "5cfdaf14-e19a-42db-a347-433cc39921a1"
      },
      "source": [
        "# I convert date-format columns into datetime format and fill the missing values with 'fill'\n",
        "# One thing must be noticed is list must be sorted in order\n",
        "# type a function\n",
        "def convert_to_dt(df, cols):\n",
        "  for col in cols:\n",
        "    df[col] = pd.to_datetime(df[col], format='%Y-%m-%d').dt.date\n",
        "\n",
        "# call function\n",
        "convert_to_dt(df_orders, ['order_purchase_timestamp','order_approved_at','order_delivered_carrier_date',\n",
        "                       'order_delivered_customer_date','order_estimated_delivery_date' ])\n",
        "df_orders.sort_values(by='order_purchase_timestamp', inplace=True)\n",
        "\n",
        "# first three rows of 'order_delivered_customer_date' are empty -->Need to be filled with backward fill\n",
        "df_orders['order_delivered_customer_date'].iloc[:4].bfill(inplace= True)\n",
        "\n",
        "# substitute all missing date by forward fill\n",
        "cols = ['order_approved_at','order_delivered_carrier_date','order_delivered_customer_date']\n",
        "for col in cols:\n",
        "  df_orders[col].fillna(method= 'ffill', inplace= True)\n",
        "  \n",
        "df_orders.head()"
      ],
      "execution_count": null,
      "outputs": [
        {
          "output_type": "execute_result",
          "data": {
            "text/html": [
              "<div>\n",
              "<style scoped>\n",
              "    .dataframe tbody tr th:only-of-type {\n",
              "        vertical-align: middle;\n",
              "    }\n",
              "\n",
              "    .dataframe tbody tr th {\n",
              "        vertical-align: top;\n",
              "    }\n",
              "\n",
              "    .dataframe thead th {\n",
              "        text-align: right;\n",
              "    }\n",
              "</style>\n",
              "<table border=\"1\" class=\"dataframe\">\n",
              "  <thead>\n",
              "    <tr style=\"text-align: right;\">\n",
              "      <th></th>\n",
              "      <th>order_id</th>\n",
              "      <th>customer_id</th>\n",
              "      <th>order_status</th>\n",
              "      <th>order_purchase_timestamp</th>\n",
              "      <th>order_approved_at</th>\n",
              "      <th>order_delivered_carrier_date</th>\n",
              "      <th>order_delivered_customer_date</th>\n",
              "      <th>order_estimated_delivery_date</th>\n",
              "    </tr>\n",
              "  </thead>\n",
              "  <tbody>\n",
              "    <tr>\n",
              "      <th>4541</th>\n",
              "      <td>2e7a8482f6fb09756ca50c10d7bfc047</td>\n",
              "      <td>08c5351a6aca1c1589a38f244edeee9d</td>\n",
              "      <td>shipped</td>\n",
              "      <td>2016-09-04</td>\n",
              "      <td>2016-10-07</td>\n",
              "      <td>2016-10-18</td>\n",
              "      <td>2016-11-09</td>\n",
              "      <td>2016-10-20</td>\n",
              "    </tr>\n",
              "    <tr>\n",
              "      <th>4396</th>\n",
              "      <td>e5fa5a7210941f7d56d0208e4e071d35</td>\n",
              "      <td>683c54fc24d40ee9f8a6fc179fd9856c</td>\n",
              "      <td>canceled</td>\n",
              "      <td>2016-09-05</td>\n",
              "      <td>2016-10-07</td>\n",
              "      <td>2016-10-18</td>\n",
              "      <td>2016-11-09</td>\n",
              "      <td>2016-10-28</td>\n",
              "    </tr>\n",
              "    <tr>\n",
              "      <th>10071</th>\n",
              "      <td>809a282bbd5dbcabb6f2f724fca862ec</td>\n",
              "      <td>622e13439d6b5a0b486c435618b2679e</td>\n",
              "      <td>canceled</td>\n",
              "      <td>2016-09-13</td>\n",
              "      <td>2016-10-07</td>\n",
              "      <td>2016-10-18</td>\n",
              "      <td>2016-11-09</td>\n",
              "      <td>2016-09-30</td>\n",
              "    </tr>\n",
              "    <tr>\n",
              "      <th>30710</th>\n",
              "      <td>bfbd0f9bdef84302105ad712db648a6c</td>\n",
              "      <td>86dc2ffce2dfff336de2f386a786e574</td>\n",
              "      <td>delivered</td>\n",
              "      <td>2016-09-15</td>\n",
              "      <td>2016-09-15</td>\n",
              "      <td>2016-11-07</td>\n",
              "      <td>2016-11-09</td>\n",
              "      <td>2016-10-04</td>\n",
              "    </tr>\n",
              "    <tr>\n",
              "      <th>83078</th>\n",
              "      <td>71303d7e93b399f5bcd537d124c0bcfa</td>\n",
              "      <td>b106b360fe2ef8849fbbd056f777b4d5</td>\n",
              "      <td>canceled</td>\n",
              "      <td>2016-10-02</td>\n",
              "      <td>2016-10-06</td>\n",
              "      <td>2016-11-07</td>\n",
              "      <td>2016-11-09</td>\n",
              "      <td>2016-10-25</td>\n",
              "    </tr>\n",
              "  </tbody>\n",
              "</table>\n",
              "</div>"
            ],
            "text/plain": [
              "                               order_id  ... order_estimated_delivery_date\n",
              "4541   2e7a8482f6fb09756ca50c10d7bfc047  ...                    2016-10-20\n",
              "4396   e5fa5a7210941f7d56d0208e4e071d35  ...                    2016-10-28\n",
              "10071  809a282bbd5dbcabb6f2f724fca862ec  ...                    2016-09-30\n",
              "30710  bfbd0f9bdef84302105ad712db648a6c  ...                    2016-10-04\n",
              "83078  71303d7e93b399f5bcd537d124c0bcfa  ...                    2016-10-25\n",
              "\n",
              "[5 rows x 8 columns]"
            ]
          },
          "metadata": {},
          "execution_count": 38
        }
      ]
    },
    {
      "cell_type": "code",
      "metadata": {
        "colab": {
          "base_uri": "https://localhost:8080/"
        },
        "id": "wiQByo3FeRoF",
        "outputId": "d019cd77-1622-4282-ea36-4951fec0fdd7"
      },
      "source": [
        "# check missing values again\n",
        "df_orders.isna().sum()  "
      ],
      "execution_count": null,
      "outputs": [
        {
          "output_type": "execute_result",
          "data": {
            "text/plain": [
              "order_id                         0\n",
              "customer_id                      0\n",
              "order_status                     0\n",
              "order_purchase_timestamp         0\n",
              "order_approved_at                0\n",
              "order_delivered_carrier_date     0\n",
              "order_delivered_customer_date    0\n",
              "order_estimated_delivery_date    0\n",
              "dtype: int64"
            ]
          },
          "metadata": {},
          "execution_count": 39
        }
      ]
    },
    {
      "cell_type": "code",
      "metadata": {
        "colab": {
          "base_uri": "https://localhost:8080/"
        },
        "id": "rSomLq63hOzx",
        "outputId": "86029e90-4e50-497d-91d0-b015cd0c0cdc"
      },
      "source": [
        "# check duplicate\n",
        "df_orders.duplicated().sum()"
      ],
      "execution_count": null,
      "outputs": [
        {
          "output_type": "execute_result",
          "data": {
            "text/plain": [
              "0"
            ]
          },
          "metadata": {},
          "execution_count": 40
        }
      ]
    },
    {
      "cell_type": "code",
      "metadata": {
        "colab": {
          "base_uri": "https://localhost:8080/"
        },
        "id": "-yCusG7-98ni",
        "outputId": "dfdf0552-bfdb-4722-e652-ec53755fdb43"
      },
      "source": [
        "# how many order status?\n",
        "df_orders['order_status'].value_counts()"
      ],
      "execution_count": null,
      "outputs": [
        {
          "output_type": "execute_result",
          "data": {
            "text/plain": [
              "delivered      96478\n",
              "shipped         1107\n",
              "canceled         625\n",
              "unavailable      609\n",
              "invoiced         314\n",
              "processing       301\n",
              "created            5\n",
              "approved           2\n",
              "Name: order_status, dtype: int64"
            ]
          },
          "metadata": {},
          "execution_count": 41
        }
      ]
    },
    {
      "cell_type": "markdown",
      "metadata": {
        "id": "aKDxr0k3_zTJ"
      },
      "source": [
        "## Order items"
      ]
    },
    {
      "cell_type": "code",
      "metadata": {
        "colab": {
          "base_uri": "https://localhost:8080/",
          "height": 204
        },
        "id": "XkJG3Vl7AGXH",
        "outputId": "287f511c-23af-42f9-fdbd-d275249a50ad"
      },
      "source": [
        "# first 5 rows\n",
        "df_order_items.head()"
      ],
      "execution_count": null,
      "outputs": [
        {
          "output_type": "execute_result",
          "data": {
            "text/html": [
              "<div>\n",
              "<style scoped>\n",
              "    .dataframe tbody tr th:only-of-type {\n",
              "        vertical-align: middle;\n",
              "    }\n",
              "\n",
              "    .dataframe tbody tr th {\n",
              "        vertical-align: top;\n",
              "    }\n",
              "\n",
              "    .dataframe thead th {\n",
              "        text-align: right;\n",
              "    }\n",
              "</style>\n",
              "<table border=\"1\" class=\"dataframe\">\n",
              "  <thead>\n",
              "    <tr style=\"text-align: right;\">\n",
              "      <th></th>\n",
              "      <th>order_id</th>\n",
              "      <th>order_item_id</th>\n",
              "      <th>product_id</th>\n",
              "      <th>seller_id</th>\n",
              "      <th>shipping_limit_date</th>\n",
              "      <th>price</th>\n",
              "      <th>freight_value</th>\n",
              "    </tr>\n",
              "  </thead>\n",
              "  <tbody>\n",
              "    <tr>\n",
              "      <th>0</th>\n",
              "      <td>00010242fe8c5a6d1ba2dd792cb16214</td>\n",
              "      <td>1</td>\n",
              "      <td>4244733e06e7ecb4970a6e2683c13e61</td>\n",
              "      <td>48436dade18ac8b2bce089ec2a041202</td>\n",
              "      <td>2017-09-19 09:45:35</td>\n",
              "      <td>58.90</td>\n",
              "      <td>13.29</td>\n",
              "    </tr>\n",
              "    <tr>\n",
              "      <th>1</th>\n",
              "      <td>00018f77f2f0320c557190d7a144bdd3</td>\n",
              "      <td>1</td>\n",
              "      <td>e5f2d52b802189ee658865ca93d83a8f</td>\n",
              "      <td>dd7ddc04e1b6c2c614352b383efe2d36</td>\n",
              "      <td>2017-05-03 11:05:13</td>\n",
              "      <td>239.90</td>\n",
              "      <td>19.93</td>\n",
              "    </tr>\n",
              "    <tr>\n",
              "      <th>2</th>\n",
              "      <td>000229ec398224ef6ca0657da4fc703e</td>\n",
              "      <td>1</td>\n",
              "      <td>c777355d18b72b67abbeef9df44fd0fd</td>\n",
              "      <td>5b51032eddd242adc84c38acab88f23d</td>\n",
              "      <td>2018-01-18 14:48:30</td>\n",
              "      <td>199.00</td>\n",
              "      <td>17.87</td>\n",
              "    </tr>\n",
              "    <tr>\n",
              "      <th>3</th>\n",
              "      <td>00024acbcdf0a6daa1e931b038114c75</td>\n",
              "      <td>1</td>\n",
              "      <td>7634da152a4610f1595efa32f14722fc</td>\n",
              "      <td>9d7a1d34a5052409006425275ba1c2b4</td>\n",
              "      <td>2018-08-15 10:10:18</td>\n",
              "      <td>12.99</td>\n",
              "      <td>12.79</td>\n",
              "    </tr>\n",
              "    <tr>\n",
              "      <th>4</th>\n",
              "      <td>00042b26cf59d7ce69dfabb4e55b4fd9</td>\n",
              "      <td>1</td>\n",
              "      <td>ac6c3623068f30de03045865e4e10089</td>\n",
              "      <td>df560393f3a51e74553ab94004ba5c87</td>\n",
              "      <td>2017-02-13 13:57:51</td>\n",
              "      <td>199.90</td>\n",
              "      <td>18.14</td>\n",
              "    </tr>\n",
              "  </tbody>\n",
              "</table>\n",
              "</div>"
            ],
            "text/plain": [
              "                           order_id  order_item_id  ...   price freight_value\n",
              "0  00010242fe8c5a6d1ba2dd792cb16214              1  ...   58.90         13.29\n",
              "1  00018f77f2f0320c557190d7a144bdd3              1  ...  239.90         19.93\n",
              "2  000229ec398224ef6ca0657da4fc703e              1  ...  199.00         17.87\n",
              "3  00024acbcdf0a6daa1e931b038114c75              1  ...   12.99         12.79\n",
              "4  00042b26cf59d7ce69dfabb4e55b4fd9              1  ...  199.90         18.14\n",
              "\n",
              "[5 rows x 7 columns]"
            ]
          },
          "metadata": {},
          "execution_count": 27
        }
      ]
    },
    {
      "cell_type": "code",
      "metadata": {
        "id": "8OsMeYB4_vWC",
        "colab": {
          "base_uri": "https://localhost:8080/"
        },
        "outputId": "e080bbf7-ec32-4249-ccd9-0906ee4a6567"
      },
      "source": [
        "# overall info\n",
        "df_order_items.info()"
      ],
      "execution_count": null,
      "outputs": [
        {
          "output_type": "stream",
          "name": "stdout",
          "text": [
            "<class 'pandas.core.frame.DataFrame'>\n",
            "RangeIndex: 112650 entries, 0 to 112649\n",
            "Data columns (total 7 columns):\n",
            " #   Column               Non-Null Count   Dtype  \n",
            "---  ------               --------------   -----  \n",
            " 0   order_id             112650 non-null  object \n",
            " 1   order_item_id        112650 non-null  int64  \n",
            " 2   product_id           112650 non-null  object \n",
            " 3   seller_id            112650 non-null  object \n",
            " 4   shipping_limit_date  112650 non-null  object \n",
            " 5   price                112650 non-null  float64\n",
            " 6   freight_value        112650 non-null  float64\n",
            "dtypes: float64(2), int64(1), object(4)\n",
            "memory usage: 6.0+ MB\n"
          ]
        }
      ]
    },
    {
      "cell_type": "code",
      "metadata": {
        "id": "jo76x35QhfjO",
        "colab": {
          "base_uri": "https://localhost:8080/",
          "height": 297
        },
        "outputId": "0389e97b-8389-435f-ef63-009b52267938"
      },
      "source": [
        "# statistical info\n",
        "df_order_items.describe()"
      ],
      "execution_count": null,
      "outputs": [
        {
          "output_type": "execute_result",
          "data": {
            "text/html": [
              "<div>\n",
              "<style scoped>\n",
              "    .dataframe tbody tr th:only-of-type {\n",
              "        vertical-align: middle;\n",
              "    }\n",
              "\n",
              "    .dataframe tbody tr th {\n",
              "        vertical-align: top;\n",
              "    }\n",
              "\n",
              "    .dataframe thead th {\n",
              "        text-align: right;\n",
              "    }\n",
              "</style>\n",
              "<table border=\"1\" class=\"dataframe\">\n",
              "  <thead>\n",
              "    <tr style=\"text-align: right;\">\n",
              "      <th></th>\n",
              "      <th>order_item_id</th>\n",
              "      <th>price</th>\n",
              "      <th>freight_value</th>\n",
              "    </tr>\n",
              "  </thead>\n",
              "  <tbody>\n",
              "    <tr>\n",
              "      <th>count</th>\n",
              "      <td>112650.000000</td>\n",
              "      <td>112650.000000</td>\n",
              "      <td>112650.000000</td>\n",
              "    </tr>\n",
              "    <tr>\n",
              "      <th>mean</th>\n",
              "      <td>1.197834</td>\n",
              "      <td>120.653739</td>\n",
              "      <td>19.990320</td>\n",
              "    </tr>\n",
              "    <tr>\n",
              "      <th>std</th>\n",
              "      <td>0.705124</td>\n",
              "      <td>183.633928</td>\n",
              "      <td>15.806405</td>\n",
              "    </tr>\n",
              "    <tr>\n",
              "      <th>min</th>\n",
              "      <td>1.000000</td>\n",
              "      <td>0.850000</td>\n",
              "      <td>0.000000</td>\n",
              "    </tr>\n",
              "    <tr>\n",
              "      <th>25%</th>\n",
              "      <td>1.000000</td>\n",
              "      <td>39.900000</td>\n",
              "      <td>13.080000</td>\n",
              "    </tr>\n",
              "    <tr>\n",
              "      <th>50%</th>\n",
              "      <td>1.000000</td>\n",
              "      <td>74.990000</td>\n",
              "      <td>16.260000</td>\n",
              "    </tr>\n",
              "    <tr>\n",
              "      <th>75%</th>\n",
              "      <td>1.000000</td>\n",
              "      <td>134.900000</td>\n",
              "      <td>21.150000</td>\n",
              "    </tr>\n",
              "    <tr>\n",
              "      <th>max</th>\n",
              "      <td>21.000000</td>\n",
              "      <td>6735.000000</td>\n",
              "      <td>409.680000</td>\n",
              "    </tr>\n",
              "  </tbody>\n",
              "</table>\n",
              "</div>"
            ],
            "text/plain": [
              "       order_item_id          price  freight_value\n",
              "count  112650.000000  112650.000000  112650.000000\n",
              "mean        1.197834     120.653739      19.990320\n",
              "std         0.705124     183.633928      15.806405\n",
              "min         1.000000       0.850000       0.000000\n",
              "25%         1.000000      39.900000      13.080000\n",
              "50%         1.000000      74.990000      16.260000\n",
              "75%         1.000000     134.900000      21.150000\n",
              "max        21.000000    6735.000000     409.680000"
            ]
          },
          "metadata": {},
          "execution_count": 30
        }
      ]
    },
    {
      "cell_type": "code",
      "metadata": {
        "id": "NPD2lCnxAA0a",
        "colab": {
          "base_uri": "https://localhost:8080/"
        },
        "outputId": "d30354ee-176e-40e2-8413-79ef50e48cae"
      },
      "source": [
        "# check duplicated rows\n",
        "df_order_items.duplicated().sum()"
      ],
      "execution_count": null,
      "outputs": [
        {
          "output_type": "execute_result",
          "data": {
            "text/plain": [
              "0"
            ]
          },
          "metadata": {},
          "execution_count": 31
        }
      ]
    },
    {
      "cell_type": "code",
      "metadata": {
        "colab": {
          "base_uri": "https://localhost:8080/"
        },
        "id": "eN3KEeulp3qL",
        "outputId": "eb434242-ee30-491c-8dcd-a278d93475f4"
      },
      "source": [
        "# check mislabeled data\n",
        "df_order_items['order_item_id'].value_counts()"
      ],
      "execution_count": null,
      "outputs": [
        {
          "output_type": "execute_result",
          "data": {
            "text/plain": [
              "1     98666\n",
              "2      9803\n",
              "3      2287\n",
              "4       965\n",
              "5       460\n",
              "6       256\n",
              "7        58\n",
              "8        36\n",
              "9        28\n",
              "10       25\n",
              "11       17\n",
              "12       13\n",
              "13        8\n",
              "14        7\n",
              "15        5\n",
              "20        3\n",
              "16        3\n",
              "17        3\n",
              "18        3\n",
              "19        3\n",
              "21        1\n",
              "Name: order_item_id, dtype: int64"
            ]
          },
          "metadata": {},
          "execution_count": 42
        }
      ]
    },
    {
      "cell_type": "code",
      "metadata": {
        "colab": {
          "base_uri": "https://localhost:8080/"
        },
        "id": "JhWx_Di-q_sy",
        "outputId": "672a54a6-14b5-42b9-c2ac-e00c46899a31"
      },
      "source": [
        "# check for duplication in order_id and product_id cols\n",
        "df_order_items[['order_id', 'product_id']].duplicated().sum()"
      ],
      "execution_count": null,
      "outputs": [
        {
          "output_type": "execute_result",
          "data": {
            "text/plain": [
              "10225"
            ]
          },
          "metadata": {},
          "execution_count": 43
        }
      ]
    },
    {
      "cell_type": "code",
      "metadata": {
        "colab": {
          "base_uri": "https://localhost:8080/",
          "height": 142
        },
        "id": "2uUf00GlrRqY",
        "outputId": "353d604b-8c2a-4746-acf4-8e5cf2d83521"
      },
      "source": [
        "# last 3 rows of duplicated dataframe\n",
        "df_order_items[df_order_items[['order_id', 'product_id']].duplicated()].tail(3)"
      ],
      "execution_count": null,
      "outputs": [
        {
          "output_type": "execute_result",
          "data": {
            "text/html": [
              "<div>\n",
              "<style scoped>\n",
              "    .dataframe tbody tr th:only-of-type {\n",
              "        vertical-align: middle;\n",
              "    }\n",
              "\n",
              "    .dataframe tbody tr th {\n",
              "        vertical-align: top;\n",
              "    }\n",
              "\n",
              "    .dataframe thead th {\n",
              "        text-align: right;\n",
              "    }\n",
              "</style>\n",
              "<table border=\"1\" class=\"dataframe\">\n",
              "  <thead>\n",
              "    <tr style=\"text-align: right;\">\n",
              "      <th></th>\n",
              "      <th>order_id</th>\n",
              "      <th>order_item_id</th>\n",
              "      <th>product_id</th>\n",
              "      <th>seller_id</th>\n",
              "      <th>shipping_limit_date</th>\n",
              "      <th>price</th>\n",
              "      <th>freight_value</th>\n",
              "    </tr>\n",
              "  </thead>\n",
              "  <tbody>\n",
              "    <tr>\n",
              "      <th>112641</th>\n",
              "      <td>fffb9224b6fc7c43ebb0904318b10b5f</td>\n",
              "      <td>2</td>\n",
              "      <td>43423cdffde7fda63d0414ed38c11a73</td>\n",
              "      <td>b1fc4f64df5a0e8b6913ab38803c57a9</td>\n",
              "      <td>2017-11-03 02:55:58</td>\n",
              "      <td>55.0</td>\n",
              "      <td>34.19</td>\n",
              "    </tr>\n",
              "    <tr>\n",
              "      <th>112642</th>\n",
              "      <td>fffb9224b6fc7c43ebb0904318b10b5f</td>\n",
              "      <td>3</td>\n",
              "      <td>43423cdffde7fda63d0414ed38c11a73</td>\n",
              "      <td>b1fc4f64df5a0e8b6913ab38803c57a9</td>\n",
              "      <td>2017-11-03 02:55:58</td>\n",
              "      <td>55.0</td>\n",
              "      <td>34.19</td>\n",
              "    </tr>\n",
              "    <tr>\n",
              "      <th>112643</th>\n",
              "      <td>fffb9224b6fc7c43ebb0904318b10b5f</td>\n",
              "      <td>4</td>\n",
              "      <td>43423cdffde7fda63d0414ed38c11a73</td>\n",
              "      <td>b1fc4f64df5a0e8b6913ab38803c57a9</td>\n",
              "      <td>2017-11-03 02:55:58</td>\n",
              "      <td>55.0</td>\n",
              "      <td>34.19</td>\n",
              "    </tr>\n",
              "  </tbody>\n",
              "</table>\n",
              "</div>"
            ],
            "text/plain": [
              "                                order_id  order_item_id  ... price freight_value\n",
              "112641  fffb9224b6fc7c43ebb0904318b10b5f              2  ...  55.0         34.19\n",
              "112642  fffb9224b6fc7c43ebb0904318b10b5f              3  ...  55.0         34.19\n",
              "112643  fffb9224b6fc7c43ebb0904318b10b5f              4  ...  55.0         34.19\n",
              "\n",
              "[3 rows x 7 columns]"
            ]
          },
          "metadata": {},
          "execution_count": 46
        }
      ]
    },
    {
      "cell_type": "code",
      "metadata": {
        "colab": {
          "base_uri": "https://localhost:8080/",
          "height": 173
        },
        "id": "eZ8W8YRirk3J",
        "outputId": "178c4905-79ae-4c07-b638-f5375f6b45af"
      },
      "source": [
        "#check randomly an order_id\n",
        "df_order_items[df_order_items['order_id']=='fffb9224b6fc7c43ebb0904318b10b5f']"
      ],
      "execution_count": null,
      "outputs": [
        {
          "output_type": "execute_result",
          "data": {
            "text/html": [
              "<div>\n",
              "<style scoped>\n",
              "    .dataframe tbody tr th:only-of-type {\n",
              "        vertical-align: middle;\n",
              "    }\n",
              "\n",
              "    .dataframe tbody tr th {\n",
              "        vertical-align: top;\n",
              "    }\n",
              "\n",
              "    .dataframe thead th {\n",
              "        text-align: right;\n",
              "    }\n",
              "</style>\n",
              "<table border=\"1\" class=\"dataframe\">\n",
              "  <thead>\n",
              "    <tr style=\"text-align: right;\">\n",
              "      <th></th>\n",
              "      <th>order_id</th>\n",
              "      <th>order_item_id</th>\n",
              "      <th>product_id</th>\n",
              "      <th>seller_id</th>\n",
              "      <th>shipping_limit_date</th>\n",
              "      <th>price</th>\n",
              "      <th>freight_value</th>\n",
              "    </tr>\n",
              "  </thead>\n",
              "  <tbody>\n",
              "    <tr>\n",
              "      <th>112640</th>\n",
              "      <td>fffb9224b6fc7c43ebb0904318b10b5f</td>\n",
              "      <td>1</td>\n",
              "      <td>43423cdffde7fda63d0414ed38c11a73</td>\n",
              "      <td>b1fc4f64df5a0e8b6913ab38803c57a9</td>\n",
              "      <td>2017-11-03 02:55:58</td>\n",
              "      <td>55.0</td>\n",
              "      <td>34.19</td>\n",
              "    </tr>\n",
              "    <tr>\n",
              "      <th>112641</th>\n",
              "      <td>fffb9224b6fc7c43ebb0904318b10b5f</td>\n",
              "      <td>2</td>\n",
              "      <td>43423cdffde7fda63d0414ed38c11a73</td>\n",
              "      <td>b1fc4f64df5a0e8b6913ab38803c57a9</td>\n",
              "      <td>2017-11-03 02:55:58</td>\n",
              "      <td>55.0</td>\n",
              "      <td>34.19</td>\n",
              "    </tr>\n",
              "    <tr>\n",
              "      <th>112642</th>\n",
              "      <td>fffb9224b6fc7c43ebb0904318b10b5f</td>\n",
              "      <td>3</td>\n",
              "      <td>43423cdffde7fda63d0414ed38c11a73</td>\n",
              "      <td>b1fc4f64df5a0e8b6913ab38803c57a9</td>\n",
              "      <td>2017-11-03 02:55:58</td>\n",
              "      <td>55.0</td>\n",
              "      <td>34.19</td>\n",
              "    </tr>\n",
              "    <tr>\n",
              "      <th>112643</th>\n",
              "      <td>fffb9224b6fc7c43ebb0904318b10b5f</td>\n",
              "      <td>4</td>\n",
              "      <td>43423cdffde7fda63d0414ed38c11a73</td>\n",
              "      <td>b1fc4f64df5a0e8b6913ab38803c57a9</td>\n",
              "      <td>2017-11-03 02:55:58</td>\n",
              "      <td>55.0</td>\n",
              "      <td>34.19</td>\n",
              "    </tr>\n",
              "  </tbody>\n",
              "</table>\n",
              "</div>"
            ],
            "text/plain": [
              "                                order_id  order_item_id  ... price freight_value\n",
              "112640  fffb9224b6fc7c43ebb0904318b10b5f              1  ...  55.0         34.19\n",
              "112641  fffb9224b6fc7c43ebb0904318b10b5f              2  ...  55.0         34.19\n",
              "112642  fffb9224b6fc7c43ebb0904318b10b5f              3  ...  55.0         34.19\n",
              "112643  fffb9224b6fc7c43ebb0904318b10b5f              4  ...  55.0         34.19\n",
              "\n",
              "[4 rows x 7 columns]"
            ]
          },
          "metadata": {},
          "execution_count": 47
        }
      ]
    },
    {
      "cell_type": "markdown",
      "metadata": {
        "id": "_BTl9kk5xYVT"
      },
      "source": [
        "The reason why order_id, product_id have 10225 dupliacted rows is that the order_item_id (=quantity) was split into multiple rows instead of just recording final quantities in a single row"
      ]
    },
    {
      "cell_type": "code",
      "metadata": {
        "id": "Ngpj_x8nCv6o",
        "colab": {
          "base_uri": "https://localhost:8080/"
        },
        "outputId": "4561806a-e781-40ad-ae96-55e70f5419dc"
      },
      "source": [
        "# checking whether all order_ids from order_items are contained in orders\n",
        "df_order_items['order_id'].isin(df_orders['order_id']).value_counts()"
      ],
      "execution_count": null,
      "outputs": [
        {
          "output_type": "execute_result",
          "data": {
            "text/plain": [
              "True    112650\n",
              "Name: order_id, dtype: int64"
            ]
          },
          "metadata": {},
          "execution_count": 49
        }
      ]
    },
    {
      "cell_type": "code",
      "metadata": {
        "colab": {
          "base_uri": "https://localhost:8080/"
        },
        "id": "u_GAWS2y69uz",
        "outputId": "17649ffd-0d05-4bb2-ce2d-ea38d1e241c7"
      },
      "source": [
        "# checking whether all order_ids from orders are contained in order_items\n",
        "df_orders['order_id'].isin(df_order_items['order_id']).value_counts()"
      ],
      "execution_count": null,
      "outputs": [
        {
          "output_type": "execute_result",
          "data": {
            "text/plain": [
              "True     98666\n",
              "False      775\n",
              "Name: order_id, dtype: int64"
            ]
          },
          "metadata": {},
          "execution_count": 50
        }
      ]
    },
    {
      "cell_type": "code",
      "metadata": {
        "id": "bPXy12xwAnF5",
        "colab": {
          "base_uri": "https://localhost:8080/"
        },
        "outputId": "69e06d85-ddca-428f-c1b9-95c705594abd"
      },
      "source": [
        "# calculate diff\n",
        "x = df_order_items['order_id'].nunique()\n",
        "y = df_orders['order_id'].nunique()\n",
        "print(f'Total of unique order_ids in order_item table: {x}\\n\\\n",
        "Total of unique order_ids in order table: {y}\\n\\\n",
        "Diff: {y-x}')"
      ],
      "execution_count": null,
      "outputs": [
        {
          "output_type": "stream",
          "name": "stdout",
          "text": [
            "Total of unique order_ids in order_item table: 98666\n",
            "Total of unique order_ids in order table: 99441\n",
            "Diff: 775\n"
          ]
        }
      ]
    },
    {
      "cell_type": "code",
      "metadata": {
        "id": "dCMJpqSyELRv",
        "colab": {
          "base_uri": "https://localhost:8080/",
          "height": 280
        },
        "outputId": "d71c5e3c-d831-427d-c3ed-66d8b768c87f"
      },
      "source": [
        "# plot different records\n",
        "df_orders[~df_orders['order_id'].isin(df_order_items['order_id'])]['order_status'].value_counts().plot(kind='bar',rot=15);"
      ],
      "execution_count": null,
      "outputs": [
        {
          "output_type": "display_data",
          "data": {
            "image/png": "[encoded data removed]",
            "text/plain": [
              "<Figure size 432x288 with 1 Axes>"
            ]
          },
          "metadata": {
            "needs_background": "light"
          }
        }
      ]
    },
    {
      "cell_type": "markdown",
      "metadata": {
        "id": "lOt37_pP9PeY"
      },
      "source": [
        "The quantities of order_id of two dataframe was not equal because there were 775 order_ids unavailabled and canceled"
      ]
    },
    {
      "cell_type": "code",
      "metadata": {
        "id": "uM7Ws1fLHEVb"
      },
      "source": [
        "# redefine orders dataframe\n",
        "df_orders = df_orders[df_orders['order_id'].isin(df_order_items['order_id'])]"
      ],
      "execution_count": null,
      "outputs": []
    },
    {
      "cell_type": "code",
      "metadata": {
        "id": "QhoOxHqdPg8E",
        "colab": {
          "base_uri": "https://localhost:8080/",
          "height": 204
        },
        "outputId": "55d8b652-7c46-4d22-b035-c16ce701d265"
      },
      "source": [
        "# restructure order_items dataframe\n",
        "df_order_items_ = df_order_items.groupby(['product_id','order_id'], as_index=False).agg({\n",
        "                                                      'order_item_id':'count', # we record total quantity\n",
        "                                                       'seller_id':'first',  # assume we have only one seller for one product_id\n",
        "                                                       'shipping_limit_date': 'first', # we choose the first date if rows were duplicated\n",
        "                                                       'price': 'first',  # we choose the first price if rows were duplicated\n",
        "                                                       'freight_value': 'first'}) # the same as above\n",
        "df_order_items_.head()\n"
      ],
      "execution_count": null,
      "outputs": [
        {
          "output_type": "execute_result",
          "data": {
            "text/html": [
              "<div>\n",
              "<style scoped>\n",
              "    .dataframe tbody tr th:only-of-type {\n",
              "        vertical-align: middle;\n",
              "    }\n",
              "\n",
              "    .dataframe tbody tr th {\n",
              "        vertical-align: top;\n",
              "    }\n",
              "\n",
              "    .dataframe thead th {\n",
              "        text-align: right;\n",
              "    }\n",
              "</style>\n",
              "<table border=\"1\" class=\"dataframe\">\n",
              "  <thead>\n",
              "    <tr style=\"text-align: right;\">\n",
              "      <th></th>\n",
              "      <th>product_id</th>\n",
              "      <th>order_id</th>\n",
              "      <th>order_item_id</th>\n",
              "      <th>seller_id</th>\n",
              "      <th>shipping_limit_date</th>\n",
              "      <th>price</th>\n",
              "      <th>freight_value</th>\n",
              "    </tr>\n",
              "  </thead>\n",
              "  <tbody>\n",
              "    <tr>\n",
              "      <th>0</th>\n",
              "      <td>00066f42aeeb9f3007548bb9d3f33c38</td>\n",
              "      <td>f30149f4a8882a08895b6a242aa0d612</td>\n",
              "      <td>1</td>\n",
              "      <td>5670f4db5b62c43d542e1b2d56b0cf7c</td>\n",
              "      <td>2018-05-24 18:58:59</td>\n",
              "      <td>101.65</td>\n",
              "      <td>18.59</td>\n",
              "    </tr>\n",
              "    <tr>\n",
              "      <th>1</th>\n",
              "      <td>00088930e925c41fd95ebfe695fd2655</td>\n",
              "      <td>f5eda0ded77c1293b04c953138c8331d</td>\n",
              "      <td>1</td>\n",
              "      <td>7142540dd4c91e2237acb7e911c4eba2</td>\n",
              "      <td>2017-12-18 19:32:19</td>\n",
              "      <td>129.90</td>\n",
              "      <td>13.93</td>\n",
              "    </tr>\n",
              "    <tr>\n",
              "      <th>2</th>\n",
              "      <td>0009406fd7479715e4bef61dd91f2462</td>\n",
              "      <td>0bf736fd0fd5169d60de3699fcbcf986</td>\n",
              "      <td>1</td>\n",
              "      <td>4a3ca9315b744ce9f8e9374361493884</td>\n",
              "      <td>2017-12-29 16:12:36</td>\n",
              "      <td>229.00</td>\n",
              "      <td>13.10</td>\n",
              "    </tr>\n",
              "    <tr>\n",
              "      <th>3</th>\n",
              "      <td>000b8f95fcb9e0096488278317764d19</td>\n",
              "      <td>3aba44d8e554ab4bb8c09f6f78032ca8</td>\n",
              "      <td>1</td>\n",
              "      <td>40ec8ab6cdafbcc4f544da38c67da39a</td>\n",
              "      <td>2018-08-16 13:35:21</td>\n",
              "      <td>58.90</td>\n",
              "      <td>19.60</td>\n",
              "    </tr>\n",
              "    <tr>\n",
              "      <th>4</th>\n",
              "      <td>000b8f95fcb9e0096488278317764d19</td>\n",
              "      <td>6f0dfb5b5398b271cc6bbd9ee263530e</td>\n",
              "      <td>1</td>\n",
              "      <td>40ec8ab6cdafbcc4f544da38c67da39a</td>\n",
              "      <td>2018-08-07 22:15:19</td>\n",
              "      <td>58.90</td>\n",
              "      <td>19.60</td>\n",
              "    </tr>\n",
              "  </tbody>\n",
              "</table>\n",
              "</div>"
            ],
            "text/plain": [
              "                         product_id  ... freight_value\n",
              "0  00066f42aeeb9f3007548bb9d3f33c38  ...         18.59\n",
              "1  00088930e925c41fd95ebfe695fd2655  ...         13.93\n",
              "2  0009406fd7479715e4bef61dd91f2462  ...         13.10\n",
              "3  000b8f95fcb9e0096488278317764d19  ...         19.60\n",
              "4  000b8f95fcb9e0096488278317764d19  ...         19.60\n",
              "\n",
              "[5 rows x 7 columns]"
            ]
          },
          "metadata": {},
          "execution_count": 55
        }
      ]
    },
    {
      "cell_type": "code",
      "metadata": {
        "id": "xryMp0WUSu_Q",
        "colab": {
          "base_uri": "https://localhost:8080/"
        },
        "outputId": "e0d81368-e866-4e8d-873d-f052d52fc713"
      },
      "source": [
        "# check whether we restructure right or not\n",
        "x = df_order_items_['order_id'].nunique()\n",
        "y = df_order_items_['product_id'].nunique()\n",
        "z =  df_order_items_['order_item_id'].sum()\n",
        "\n",
        "a = df_order_items['order_id'].nunique()\n",
        "b = df_order_items['product_id'].nunique()\n",
        "c = len(df_order_items) # since number of rows equivalent quantity of products in 'df_order_items' table\n",
        "\n",
        "print(f'Orders in new table: {x} \\n\\\n",
        "Orders in old table: {a} \\n\\\n",
        "Products in new table: {y} \\n\\\n",
        "Products in old table: {b} \\n\\\n",
        "Total quantity in new table: {z} \\n\\\n",
        "Total quantity in old table: {c}')"
      ],
      "execution_count": null,
      "outputs": [
        {
          "output_type": "stream",
          "name": "stdout",
          "text": [
            "Orders in new table: 98666 \n",
            "Orders in old table: 98666 \n",
            "Products in new table: 32951 \n",
            "Products in old table: 32951 \n",
            "Total quantity in new table: 112650 \n",
            "Total quantity in old table: 112650\n"
          ]
        }
      ]
    },
    {
      "cell_type": "code",
      "metadata": {
        "id": "UfjZiu9bVeBc"
      },
      "source": [
        "# rename ordier_item_id to quantity\n",
        "df_order_items_.rename(columns={'order_item_id':'quantity'}, inplace = True)"
      ],
      "execution_count": null,
      "outputs": []
    },
    {
      "cell_type": "code",
      "metadata": {
        "id": "nYfQlfUiefMd",
        "colab": {
          "base_uri": "https://localhost:8080/",
          "height": 204
        },
        "outputId": "df603283-0a0f-4844-d81f-62d6871a5a0e"
      },
      "source": [
        "# first 5 rows after restructuring\n",
        "df_order_items_.head()"
      ],
      "execution_count": null,
      "outputs": [
        {
          "output_type": "execute_result",
          "data": {
            "text/html": [
              "<div>\n",
              "<style scoped>\n",
              "    .dataframe tbody tr th:only-of-type {\n",
              "        vertical-align: middle;\n",
              "    }\n",
              "\n",
              "    .dataframe tbody tr th {\n",
              "        vertical-align: top;\n",
              "    }\n",
              "\n",
              "    .dataframe thead th {\n",
              "        text-align: right;\n",
              "    }\n",
              "</style>\n",
              "<table border=\"1\" class=\"dataframe\">\n",
              "  <thead>\n",
              "    <tr style=\"text-align: right;\">\n",
              "      <th></th>\n",
              "      <th>product_id</th>\n",
              "      <th>order_id</th>\n",
              "      <th>quantity</th>\n",
              "      <th>seller_id</th>\n",
              "      <th>shipping_limit_date</th>\n",
              "      <th>price</th>\n",
              "      <th>freight_value</th>\n",
              "    </tr>\n",
              "  </thead>\n",
              "  <tbody>\n",
              "    <tr>\n",
              "      <th>0</th>\n",
              "      <td>00066f42aeeb9f3007548bb9d3f33c38</td>\n",
              "      <td>f30149f4a8882a08895b6a242aa0d612</td>\n",
              "      <td>1</td>\n",
              "      <td>5670f4db5b62c43d542e1b2d56b0cf7c</td>\n",
              "      <td>2018-05-24 18:58:59</td>\n",
              "      <td>101.65</td>\n",
              "      <td>18.59</td>\n",
              "    </tr>\n",
              "    <tr>\n",
              "      <th>1</th>\n",
              "      <td>00088930e925c41fd95ebfe695fd2655</td>\n",
              "      <td>f5eda0ded77c1293b04c953138c8331d</td>\n",
              "      <td>1</td>\n",
              "      <td>7142540dd4c91e2237acb7e911c4eba2</td>\n",
              "      <td>2017-12-18 19:32:19</td>\n",
              "      <td>129.90</td>\n",
              "      <td>13.93</td>\n",
              "    </tr>\n",
              "    <tr>\n",
              "      <th>2</th>\n",
              "      <td>0009406fd7479715e4bef61dd91f2462</td>\n",
              "      <td>0bf736fd0fd5169d60de3699fcbcf986</td>\n",
              "      <td>1</td>\n",
              "      <td>4a3ca9315b744ce9f8e9374361493884</td>\n",
              "      <td>2017-12-29 16:12:36</td>\n",
              "      <td>229.00</td>\n",
              "      <td>13.10</td>\n",
              "    </tr>\n",
              "    <tr>\n",
              "      <th>3</th>\n",
              "      <td>000b8f95fcb9e0096488278317764d19</td>\n",
              "      <td>3aba44d8e554ab4bb8c09f6f78032ca8</td>\n",
              "      <td>1</td>\n",
              "      <td>40ec8ab6cdafbcc4f544da38c67da39a</td>\n",
              "      <td>2018-08-16 13:35:21</td>\n",
              "      <td>58.90</td>\n",
              "      <td>19.60</td>\n",
              "    </tr>\n",
              "    <tr>\n",
              "      <th>4</th>\n",
              "      <td>000b8f95fcb9e0096488278317764d19</td>\n",
              "      <td>6f0dfb5b5398b271cc6bbd9ee263530e</td>\n",
              "      <td>1</td>\n",
              "      <td>40ec8ab6cdafbcc4f544da38c67da39a</td>\n",
              "      <td>2018-08-07 22:15:19</td>\n",
              "      <td>58.90</td>\n",
              "      <td>19.60</td>\n",
              "    </tr>\n",
              "  </tbody>\n",
              "</table>\n",
              "</div>"
            ],
            "text/plain": [
              "                         product_id  ... freight_value\n",
              "0  00066f42aeeb9f3007548bb9d3f33c38  ...         18.59\n",
              "1  00088930e925c41fd95ebfe695fd2655  ...         13.93\n",
              "2  0009406fd7479715e4bef61dd91f2462  ...         13.10\n",
              "3  000b8f95fcb9e0096488278317764d19  ...         19.60\n",
              "4  000b8f95fcb9e0096488278317764d19  ...         19.60\n",
              "\n",
              "[5 rows x 7 columns]"
            ]
          },
          "metadata": {},
          "execution_count": 58
        }
      ]
    },
    {
      "cell_type": "code",
      "metadata": {
        "id": "7FV8UtRieonE",
        "colab": {
          "base_uri": "https://localhost:8080/",
          "height": 224
        },
        "outputId": "8ca4e6cb-193b-4a6e-d20d-596042e5d9bd"
      },
      "source": [
        "# merge orders dataframe and order_items df into one\n",
        "df_order_items_consolidated = pd.merge(df_orders, df_order_items_,\n",
        "                                       how='inner', on='order_id')\n",
        "df_order_items_consolidated.head()"
      ],
      "execution_count": null,
      "outputs": [
        {
          "output_type": "execute_result",
          "data": {
            "text/html": [
              "<div>\n",
              "<style scoped>\n",
              "    .dataframe tbody tr th:only-of-type {\n",
              "        vertical-align: middle;\n",
              "    }\n",
              "\n",
              "    .dataframe tbody tr th {\n",
              "        vertical-align: top;\n",
              "    }\n",
              "\n",
              "    .dataframe thead th {\n",
              "        text-align: right;\n",
              "    }\n",
              "</style>\n",
              "<table border=\"1\" class=\"dataframe\">\n",
              "  <thead>\n",
              "    <tr style=\"text-align: right;\">\n",
              "      <th></th>\n",
              "      <th>order_id</th>\n",
              "      <th>customer_id</th>\n",
              "      <th>order_status</th>\n",
              "      <th>order_purchase_timestamp</th>\n",
              "      <th>order_approved_at</th>\n",
              "      <th>order_delivered_carrier_date</th>\n",
              "      <th>order_delivered_customer_date</th>\n",
              "      <th>order_estimated_delivery_date</th>\n",
              "      <th>product_id</th>\n",
              "      <th>quantity</th>\n",
              "      <th>seller_id</th>\n",
              "      <th>shipping_limit_date</th>\n",
              "      <th>price</th>\n",
              "      <th>freight_value</th>\n",
              "    </tr>\n",
              "  </thead>\n",
              "  <tbody>\n",
              "    <tr>\n",
              "      <th>0</th>\n",
              "      <td>2e7a8482f6fb09756ca50c10d7bfc047</td>\n",
              "      <td>08c5351a6aca1c1589a38f244edeee9d</td>\n",
              "      <td>shipped</td>\n",
              "      <td>2016-09-04</td>\n",
              "      <td>2016-10-07</td>\n",
              "      <td>2016-10-18</td>\n",
              "      <td>2016-11-09</td>\n",
              "      <td>2016-10-20</td>\n",
              "      <td>c1488892604e4ba5cff5b4eb4d595400</td>\n",
              "      <td>1</td>\n",
              "      <td>1554a68530182680ad5c8b042c3ab563</td>\n",
              "      <td>2016-10-26 18:25:19</td>\n",
              "      <td>39.99</td>\n",
              "      <td>31.67</td>\n",
              "    </tr>\n",
              "    <tr>\n",
              "      <th>1</th>\n",
              "      <td>2e7a8482f6fb09756ca50c10d7bfc047</td>\n",
              "      <td>08c5351a6aca1c1589a38f244edeee9d</td>\n",
              "      <td>shipped</td>\n",
              "      <td>2016-09-04</td>\n",
              "      <td>2016-10-07</td>\n",
              "      <td>2016-10-18</td>\n",
              "      <td>2016-11-09</td>\n",
              "      <td>2016-10-20</td>\n",
              "      <td>f293394c72c9b5fafd7023301fc21fc2</td>\n",
              "      <td>1</td>\n",
              "      <td>1554a68530182680ad5c8b042c3ab563</td>\n",
              "      <td>2016-10-26 18:25:19</td>\n",
              "      <td>32.90</td>\n",
              "      <td>31.67</td>\n",
              "    </tr>\n",
              "    <tr>\n",
              "      <th>2</th>\n",
              "      <td>e5fa5a7210941f7d56d0208e4e071d35</td>\n",
              "      <td>683c54fc24d40ee9f8a6fc179fd9856c</td>\n",
              "      <td>canceled</td>\n",
              "      <td>2016-09-05</td>\n",
              "      <td>2016-10-07</td>\n",
              "      <td>2016-10-18</td>\n",
              "      <td>2016-11-09</td>\n",
              "      <td>2016-10-28</td>\n",
              "      <td>f3c2d01a84c947b078e32bbef0718962</td>\n",
              "      <td>1</td>\n",
              "      <td>a425f92c199eb576938df686728acd20</td>\n",
              "      <td>2016-09-19 00:15:34</td>\n",
              "      <td>59.50</td>\n",
              "      <td>15.56</td>\n",
              "    </tr>\n",
              "    <tr>\n",
              "      <th>3</th>\n",
              "      <td>bfbd0f9bdef84302105ad712db648a6c</td>\n",
              "      <td>86dc2ffce2dfff336de2f386a786e574</td>\n",
              "      <td>delivered</td>\n",
              "      <td>2016-09-15</td>\n",
              "      <td>2016-09-15</td>\n",
              "      <td>2016-11-07</td>\n",
              "      <td>2016-11-09</td>\n",
              "      <td>2016-10-04</td>\n",
              "      <td>5a6b04657a4c5ee34285d1e4619a96b4</td>\n",
              "      <td>3</td>\n",
              "      <td>ecccfa2bb93b34a3bf033cc5d1dcdc69</td>\n",
              "      <td>2016-09-19 23:11:33</td>\n",
              "      <td>44.99</td>\n",
              "      <td>2.83</td>\n",
              "    </tr>\n",
              "    <tr>\n",
              "      <th>4</th>\n",
              "      <td>71303d7e93b399f5bcd537d124c0bcfa</td>\n",
              "      <td>b106b360fe2ef8849fbbd056f777b4d5</td>\n",
              "      <td>canceled</td>\n",
              "      <td>2016-10-02</td>\n",
              "      <td>2016-10-06</td>\n",
              "      <td>2016-11-07</td>\n",
              "      <td>2016-11-09</td>\n",
              "      <td>2016-10-25</td>\n",
              "      <td>d2998d7ced12f83f9b832f33cf6507b6</td>\n",
              "      <td>1</td>\n",
              "      <td>25e6ffe976bd75618accfe16cefcbd0d</td>\n",
              "      <td>2016-10-21 16:19:54</td>\n",
              "      <td>100.00</td>\n",
              "      <td>9.34</td>\n",
              "    </tr>\n",
              "  </tbody>\n",
              "</table>\n",
              "</div>"
            ],
            "text/plain": [
              "                           order_id  ... freight_value\n",
              "0  2e7a8482f6fb09756ca50c10d7bfc047  ...         31.67\n",
              "1  2e7a8482f6fb09756ca50c10d7bfc047  ...         31.67\n",
              "2  e5fa5a7210941f7d56d0208e4e071d35  ...         15.56\n",
              "3  bfbd0f9bdef84302105ad712db648a6c  ...          2.83\n",
              "4  71303d7e93b399f5bcd537d124c0bcfa  ...          9.34\n",
              "\n",
              "[5 rows x 14 columns]"
            ]
          },
          "metadata": {},
          "execution_count": 60
        }
      ]
    },
    {
      "cell_type": "code",
      "metadata": {
        "id": "7DlhRSIxVZ8Q",
        "colab": {
          "base_uri": "https://localhost:8080/"
        },
        "outputId": "163816a6-fc00-4890-904d-7b5500a2d5b4"
      },
      "source": [
        "# overall info\n",
        "df_order_items_consolidated.info()"
      ],
      "execution_count": null,
      "outputs": [
        {
          "output_type": "stream",
          "name": "stdout",
          "text": [
            "<class 'pandas.core.frame.DataFrame'>\n",
            "Int64Index: 102425 entries, 0 to 102424\n",
            "Data columns (total 14 columns):\n",
            " #   Column                         Non-Null Count   Dtype  \n",
            "---  ------                         --------------   -----  \n",
            " 0   order_id                       102425 non-null  object \n",
            " 1   customer_id                    102425 non-null  object \n",
            " 2   order_status                   102425 non-null  object \n",
            " 3   order_purchase_timestamp       102425 non-null  object \n",
            " 4   order_approved_at              102425 non-null  object \n",
            " 5   order_delivered_carrier_date   102425 non-null  object \n",
            " 6   order_delivered_customer_date  102425 non-null  object \n",
            " 7   order_estimated_delivery_date  102425 non-null  object \n",
            " 8   product_id                     102425 non-null  object \n",
            " 9   quantity                       102425 non-null  int64  \n",
            " 10  seller_id                      102425 non-null  object \n",
            " 11  shipping_limit_date            102425 non-null  object \n",
            " 12  price                          102425 non-null  float64\n",
            " 13  freight_value                  102425 non-null  float64\n",
            "dtypes: float64(2), int64(1), object(11)\n",
            "memory usage: 11.7+ MB\n"
          ]
        }
      ]
    },
    {
      "cell_type": "code",
      "metadata": {
        "id": "JjF3tso8VQac",
        "colab": {
          "base_uri": "https://localhost:8080/",
          "height": 297
        },
        "outputId": "f8be7cb6-b5c3-49f5-a892-efb27278a9d1"
      },
      "source": [
        "# statistical info\n",
        "df_order_items_consolidated.describe()"
      ],
      "execution_count": null,
      "outputs": [
        {
          "output_type": "execute_result",
          "data": {
            "text/html": [
              "<div>\n",
              "<style scoped>\n",
              "    .dataframe tbody tr th:only-of-type {\n",
              "        vertical-align: middle;\n",
              "    }\n",
              "\n",
              "    .dataframe tbody tr th {\n",
              "        vertical-align: top;\n",
              "    }\n",
              "\n",
              "    .dataframe thead th {\n",
              "        text-align: right;\n",
              "    }\n",
              "</style>\n",
              "<table border=\"1\" class=\"dataframe\">\n",
              "  <thead>\n",
              "    <tr style=\"text-align: right;\">\n",
              "      <th></th>\n",
              "      <th>quantity</th>\n",
              "      <th>price</th>\n",
              "      <th>freight_value</th>\n",
              "    </tr>\n",
              "  </thead>\n",
              "  <tbody>\n",
              "    <tr>\n",
              "      <th>count</th>\n",
              "      <td>102425.000000</td>\n",
              "      <td>102425.000000</td>\n",
              "      <td>102425.000000</td>\n",
              "    </tr>\n",
              "    <tr>\n",
              "      <th>mean</th>\n",
              "      <td>1.099829</td>\n",
              "      <td>124.422006</td>\n",
              "      <td>20.111152</td>\n",
              "    </tr>\n",
              "    <tr>\n",
              "      <th>std</th>\n",
              "      <td>0.456926</td>\n",
              "      <td>188.926084</td>\n",
              "      <td>15.884700</td>\n",
              "    </tr>\n",
              "    <tr>\n",
              "      <th>min</th>\n",
              "      <td>1.000000</td>\n",
              "      <td>0.850000</td>\n",
              "      <td>0.000000</td>\n",
              "    </tr>\n",
              "    <tr>\n",
              "      <th>25%</th>\n",
              "      <td>1.000000</td>\n",
              "      <td>40.000000</td>\n",
              "      <td>13.140000</td>\n",
              "    </tr>\n",
              "    <tr>\n",
              "      <th>50%</th>\n",
              "      <td>1.000000</td>\n",
              "      <td>78.800000</td>\n",
              "      <td>16.320000</td>\n",
              "    </tr>\n",
              "    <tr>\n",
              "      <th>75%</th>\n",
              "      <td>1.000000</td>\n",
              "      <td>139.000000</td>\n",
              "      <td>21.220000</td>\n",
              "    </tr>\n",
              "    <tr>\n",
              "      <th>max</th>\n",
              "      <td>20.000000</td>\n",
              "      <td>6735.000000</td>\n",
              "      <td>409.680000</td>\n",
              "    </tr>\n",
              "  </tbody>\n",
              "</table>\n",
              "</div>"
            ],
            "text/plain": [
              "            quantity          price  freight_value\n",
              "count  102425.000000  102425.000000  102425.000000\n",
              "mean        1.099829     124.422006      20.111152\n",
              "std         0.456926     188.926084      15.884700\n",
              "min         1.000000       0.850000       0.000000\n",
              "25%         1.000000      40.000000      13.140000\n",
              "50%         1.000000      78.800000      16.320000\n",
              "75%         1.000000     139.000000      21.220000\n",
              "max        20.000000    6735.000000     409.680000"
            ]
          },
          "metadata": {},
          "execution_count": 62
        }
      ]
    },
    {
      "cell_type": "markdown",
      "metadata": {
        "id": "0YdD6pVuV8cb"
      },
      "source": [
        "## Products"
      ]
    },
    {
      "cell_type": "code",
      "metadata": {
        "colab": {
          "base_uri": "https://localhost:8080/",
          "height": 224
        },
        "id": "NJ7t4glvVSSt",
        "outputId": "d4ca9f96-126d-47b5-fcef-28c3d54df54e"
      },
      "source": [
        "# last 5 rows\n",
        "df_products.tail()"
      ],
      "execution_count": null,
      "outputs": [
        {
          "output_type": "execute_result",
          "data": {
            "text/html": [
              "<div>\n",
              "<style scoped>\n",
              "    .dataframe tbody tr th:only-of-type {\n",
              "        vertical-align: middle;\n",
              "    }\n",
              "\n",
              "    .dataframe tbody tr th {\n",
              "        vertical-align: top;\n",
              "    }\n",
              "\n",
              "    .dataframe thead th {\n",
              "        text-align: right;\n",
              "    }\n",
              "</style>\n",
              "<table border=\"1\" class=\"dataframe\">\n",
              "  <thead>\n",
              "    <tr style=\"text-align: right;\">\n",
              "      <th></th>\n",
              "      <th>product_id</th>\n",
              "      <th>product_category_name</th>\n",
              "      <th>product_name_lenght</th>\n",
              "      <th>product_description_lenght</th>\n",
              "      <th>product_photos_qty</th>\n",
              "      <th>product_weight_g</th>\n",
              "      <th>product_length_cm</th>\n",
              "      <th>product_height_cm</th>\n",
              "      <th>product_width_cm</th>\n",
              "    </tr>\n",
              "  </thead>\n",
              "  <tbody>\n",
              "    <tr>\n",
              "      <th>32946</th>\n",
              "      <td>a0b7d5a992ccda646f2d34e418fff5a0</td>\n",
              "      <td>moveis_decoracao</td>\n",
              "      <td>45.0</td>\n",
              "      <td>67.0</td>\n",
              "      <td>2.0</td>\n",
              "      <td>12300.0</td>\n",
              "      <td>40.0</td>\n",
              "      <td>40.0</td>\n",
              "      <td>40.0</td>\n",
              "    </tr>\n",
              "    <tr>\n",
              "      <th>32947</th>\n",
              "      <td>bf4538d88321d0fd4412a93c974510e6</td>\n",
              "      <td>construcao_ferramentas_iluminacao</td>\n",
              "      <td>41.0</td>\n",
              "      <td>971.0</td>\n",
              "      <td>1.0</td>\n",
              "      <td>1700.0</td>\n",
              "      <td>16.0</td>\n",
              "      <td>19.0</td>\n",
              "      <td>16.0</td>\n",
              "    </tr>\n",
              "    <tr>\n",
              "      <th>32948</th>\n",
              "      <td>9a7c6041fa9592d9d9ef6cfe62a71f8c</td>\n",
              "      <td>cama_mesa_banho</td>\n",
              "      <td>50.0</td>\n",
              "      <td>799.0</td>\n",
              "      <td>1.0</td>\n",
              "      <td>1400.0</td>\n",
              "      <td>27.0</td>\n",
              "      <td>7.0</td>\n",
              "      <td>27.0</td>\n",
              "    </tr>\n",
              "    <tr>\n",
              "      <th>32949</th>\n",
              "      <td>83808703fc0706a22e264b9d75f04a2e</td>\n",
              "      <td>informatica_acessorios</td>\n",
              "      <td>60.0</td>\n",
              "      <td>156.0</td>\n",
              "      <td>2.0</td>\n",
              "      <td>700.0</td>\n",
              "      <td>31.0</td>\n",
              "      <td>13.0</td>\n",
              "      <td>20.0</td>\n",
              "    </tr>\n",
              "    <tr>\n",
              "      <th>32950</th>\n",
              "      <td>106392145fca363410d287a815be6de4</td>\n",
              "      <td>cama_mesa_banho</td>\n",
              "      <td>58.0</td>\n",
              "      <td>309.0</td>\n",
              "      <td>1.0</td>\n",
              "      <td>2083.0</td>\n",
              "      <td>12.0</td>\n",
              "      <td>2.0</td>\n",
              "      <td>7.0</td>\n",
              "    </tr>\n",
              "  </tbody>\n",
              "</table>\n",
              "</div>"
            ],
            "text/plain": [
              "                             product_id  ... product_width_cm\n",
              "32946  a0b7d5a992ccda646f2d34e418fff5a0  ...             40.0\n",
              "32947  bf4538d88321d0fd4412a93c974510e6  ...             16.0\n",
              "32948  9a7c6041fa9592d9d9ef6cfe62a71f8c  ...             27.0\n",
              "32949  83808703fc0706a22e264b9d75f04a2e  ...             20.0\n",
              "32950  106392145fca363410d287a815be6de4  ...              7.0\n",
              "\n",
              "[5 rows x 9 columns]"
            ]
          },
          "metadata": {},
          "execution_count": 63
        }
      ]
    },
    {
      "cell_type": "code",
      "metadata": {
        "colab": {
          "base_uri": "https://localhost:8080/"
        },
        "id": "7M4ChN72Wdq5",
        "outputId": "2de0fc1c-0a4b-4947-b7ed-da7ec6687df0"
      },
      "source": [
        "# overall info\n",
        "df_products.info()"
      ],
      "execution_count": null,
      "outputs": [
        {
          "output_type": "stream",
          "name": "stdout",
          "text": [
            "<class 'pandas.core.frame.DataFrame'>\n",
            "RangeIndex: 32951 entries, 0 to 32950\n",
            "Data columns (total 9 columns):\n",
            " #   Column                      Non-Null Count  Dtype  \n",
            "---  ------                      --------------  -----  \n",
            " 0   product_id                  32951 non-null  object \n",
            " 1   product_category_name       32341 non-null  object \n",
            " 2   product_name_lenght         32341 non-null  float64\n",
            " 3   product_description_lenght  32341 non-null  float64\n",
            " 4   product_photos_qty          32341 non-null  float64\n",
            " 5   product_weight_g            32949 non-null  float64\n",
            " 6   product_length_cm           32949 non-null  float64\n",
            " 7   product_height_cm           32949 non-null  float64\n",
            " 8   product_width_cm            32949 non-null  float64\n",
            "dtypes: float64(7), object(2)\n",
            "memory usage: 2.3+ MB\n"
          ]
        }
      ]
    },
    {
      "cell_type": "code",
      "metadata": {
        "colab": {
          "base_uri": "https://localhost:8080/",
          "height": 297
        },
        "id": "F0d8fQiRWiA3",
        "outputId": "612f5a8d-8bd5-45d8-ca99-370aee5401fa"
      },
      "source": [
        "# statistical info\n",
        "df_products.describe()"
      ],
      "execution_count": null,
      "outputs": [
        {
          "output_type": "execute_result",
          "data": {
            "text/html": [
              "<div>\n",
              "<style scoped>\n",
              "    .dataframe tbody tr th:only-of-type {\n",
              "        vertical-align: middle;\n",
              "    }\n",
              "\n",
              "    .dataframe tbody tr th {\n",
              "        vertical-align: top;\n",
              "    }\n",
              "\n",
              "    .dataframe thead th {\n",
              "        text-align: right;\n",
              "    }\n",
              "</style>\n",
              "<table border=\"1\" class=\"dataframe\">\n",
              "  <thead>\n",
              "    <tr style=\"text-align: right;\">\n",
              "      <th></th>\n",
              "      <th>product_name_lenght</th>\n",
              "      <th>product_description_lenght</th>\n",
              "      <th>product_photos_qty</th>\n",
              "      <th>product_weight_g</th>\n",
              "      <th>product_length_cm</th>\n",
              "      <th>product_height_cm</th>\n",
              "      <th>product_width_cm</th>\n",
              "    </tr>\n",
              "  </thead>\n",
              "  <tbody>\n",
              "    <tr>\n",
              "      <th>count</th>\n",
              "      <td>32341.000000</td>\n",
              "      <td>32341.000000</td>\n",
              "      <td>32341.000000</td>\n",
              "      <td>32949.000000</td>\n",
              "      <td>32949.000000</td>\n",
              "      <td>32949.000000</td>\n",
              "      <td>32949.000000</td>\n",
              "    </tr>\n",
              "    <tr>\n",
              "      <th>mean</th>\n",
              "      <td>48.476949</td>\n",
              "      <td>771.495285</td>\n",
              "      <td>2.188986</td>\n",
              "      <td>2276.472488</td>\n",
              "      <td>30.815078</td>\n",
              "      <td>16.937661</td>\n",
              "      <td>23.196728</td>\n",
              "    </tr>\n",
              "    <tr>\n",
              "      <th>std</th>\n",
              "      <td>10.245741</td>\n",
              "      <td>635.115225</td>\n",
              "      <td>1.736766</td>\n",
              "      <td>4282.038731</td>\n",
              "      <td>16.914458</td>\n",
              "      <td>13.637554</td>\n",
              "      <td>12.079047</td>\n",
              "    </tr>\n",
              "    <tr>\n",
              "      <th>min</th>\n",
              "      <td>5.000000</td>\n",
              "      <td>4.000000</td>\n",
              "      <td>1.000000</td>\n",
              "      <td>0.000000</td>\n",
              "      <td>7.000000</td>\n",
              "      <td>2.000000</td>\n",
              "      <td>6.000000</td>\n",
              "    </tr>\n",
              "    <tr>\n",
              "      <th>25%</th>\n",
              "      <td>42.000000</td>\n",
              "      <td>339.000000</td>\n",
              "      <td>1.000000</td>\n",
              "      <td>300.000000</td>\n",
              "      <td>18.000000</td>\n",
              "      <td>8.000000</td>\n",
              "      <td>15.000000</td>\n",
              "    </tr>\n",
              "    <tr>\n",
              "      <th>50%</th>\n",
              "      <td>51.000000</td>\n",
              "      <td>595.000000</td>\n",
              "      <td>1.000000</td>\n",
              "      <td>700.000000</td>\n",
              "      <td>25.000000</td>\n",
              "      <td>13.000000</td>\n",
              "      <td>20.000000</td>\n",
              "    </tr>\n",
              "    <tr>\n",
              "      <th>75%</th>\n",
              "      <td>57.000000</td>\n",
              "      <td>972.000000</td>\n",
              "      <td>3.000000</td>\n",
              "      <td>1900.000000</td>\n",
              "      <td>38.000000</td>\n",
              "      <td>21.000000</td>\n",
              "      <td>30.000000</td>\n",
              "    </tr>\n",
              "    <tr>\n",
              "      <th>max</th>\n",
              "      <td>76.000000</td>\n",
              "      <td>3992.000000</td>\n",
              "      <td>20.000000</td>\n",
              "      <td>40425.000000</td>\n",
              "      <td>105.000000</td>\n",
              "      <td>105.000000</td>\n",
              "      <td>118.000000</td>\n",
              "    </tr>\n",
              "  </tbody>\n",
              "</table>\n",
              "</div>"
            ],
            "text/plain": [
              "       product_name_lenght  ...  product_width_cm\n",
              "count         32341.000000  ...      32949.000000\n",
              "mean             48.476949  ...         23.196728\n",
              "std              10.245741  ...         12.079047\n",
              "min               5.000000  ...          6.000000\n",
              "25%              42.000000  ...         15.000000\n",
              "50%              51.000000  ...         20.000000\n",
              "75%              57.000000  ...         30.000000\n",
              "max              76.000000  ...        118.000000\n",
              "\n",
              "[8 rows x 7 columns]"
            ]
          },
          "metadata": {},
          "execution_count": 65
        }
      ]
    },
    {
      "cell_type": "code",
      "metadata": {
        "colab": {
          "base_uri": "https://localhost:8080/"
        },
        "id": "03DVNYNpXL6g",
        "outputId": "3806bd02-bc23-4b33-a7ff-9e9cb73ce8f5"
      },
      "source": [
        "# check duplicated rows\n",
        "df_products.duplicated().sum()"
      ],
      "execution_count": null,
      "outputs": [
        {
          "output_type": "execute_result",
          "data": {
            "text/plain": [
              "0"
            ]
          },
          "metadata": {},
          "execution_count": 66
        }
      ]
    },
    {
      "cell_type": "code",
      "metadata": {
        "colab": {
          "base_uri": "https://localhost:8080/"
        },
        "id": "4ZPUPgcZWmTR",
        "outputId": "e44d9457-08b4-4a9e-d6a3-59464e445c56"
      },
      "source": [
        "# check for duplication in product_id\n",
        "df_products['product_id'].duplicated().sum()"
      ],
      "execution_count": null,
      "outputs": [
        {
          "output_type": "execute_result",
          "data": {
            "text/plain": [
              "0"
            ]
          },
          "metadata": {},
          "execution_count": 67
        }
      ]
    },
    {
      "cell_type": "code",
      "metadata": {
        "colab": {
          "base_uri": "https://localhost:8080/"
        },
        "id": "U21TDyrKaJKh",
        "outputId": "8a0b04eb-539d-41e3-8052-50045adbac12"
      },
      "source": [
        "# check missing values\n",
        "df_products.isna().sum()"
      ],
      "execution_count": null,
      "outputs": [
        {
          "output_type": "execute_result",
          "data": {
            "text/plain": [
              "product_id                      0\n",
              "product_category_name         610\n",
              "product_name_lenght           610\n",
              "product_description_lenght    610\n",
              "product_photos_qty            610\n",
              "product_weight_g                2\n",
              "product_length_cm               2\n",
              "product_height_cm               2\n",
              "product_width_cm                2\n",
              "dtype: int64"
            ]
          },
          "metadata": {},
          "execution_count": 68
        }
      ]
    },
    {
      "cell_type": "code",
      "metadata": {
        "id": "K2WxHW_MeRT3"
      },
      "source": [
        "# fill null values with unknow\n",
        "df_products['product_category_name'] = df_products['product_category_name'].fillna('Unknown')"
      ],
      "execution_count": null,
      "outputs": []
    },
    {
      "cell_type": "code",
      "metadata": {
        "colab": {
          "base_uri": "https://localhost:8080/",
          "height": 439
        },
        "id": "A-d9pZn-e8G-",
        "outputId": "3a6417f6-38c2-4701-aefc-c2724aba1f76"
      },
      "source": [
        "# drop NA \n",
        "df_products.dropna()"
      ],
      "execution_count": null,
      "outputs": [
        {
          "output_type": "execute_result",
          "data": {
            "text/html": [
              "<div>\n",
              "<style scoped>\n",
              "    .dataframe tbody tr th:only-of-type {\n",
              "        vertical-align: middle;\n",
              "    }\n",
              "\n",
              "    .dataframe tbody tr th {\n",
              "        vertical-align: top;\n",
              "    }\n",
              "\n",
              "    .dataframe thead th {\n",
              "        text-align: right;\n",
              "    }\n",
              "</style>\n",
              "<table border=\"1\" class=\"dataframe\">\n",
              "  <thead>\n",
              "    <tr style=\"text-align: right;\">\n",
              "      <th></th>\n",
              "      <th>product_id</th>\n",
              "      <th>product_category_name</th>\n",
              "      <th>product_name_lenght</th>\n",
              "      <th>product_description_lenght</th>\n",
              "      <th>product_photos_qty</th>\n",
              "      <th>product_weight_g</th>\n",
              "      <th>product_length_cm</th>\n",
              "      <th>product_height_cm</th>\n",
              "      <th>product_width_cm</th>\n",
              "    </tr>\n",
              "  </thead>\n",
              "  <tbody>\n",
              "    <tr>\n",
              "      <th>0</th>\n",
              "      <td>1e9e8ef04dbcff4541ed26657ea517e5</td>\n",
              "      <td>perfumaria</td>\n",
              "      <td>40.0</td>\n",
              "      <td>287.0</td>\n",
              "      <td>1.0</td>\n",
              "      <td>225.0</td>\n",
              "      <td>16.0</td>\n",
              "      <td>10.0</td>\n",
              "      <td>14.0</td>\n",
              "    </tr>\n",
              "    <tr>\n",
              "      <th>1</th>\n",
              "      <td>3aa071139cb16b67ca9e5dea641aaa2f</td>\n",
              "      <td>artes</td>\n",
              "      <td>44.0</td>\n",
              "      <td>276.0</td>\n",
              "      <td>1.0</td>\n",
              "      <td>1000.0</td>\n",
              "      <td>30.0</td>\n",
              "      <td>18.0</td>\n",
              "      <td>20.0</td>\n",
              "    </tr>\n",
              "    <tr>\n",
              "      <th>2</th>\n",
              "      <td>96bd76ec8810374ed1b65e291975717f</td>\n",
              "      <td>esporte_lazer</td>\n",
              "      <td>46.0</td>\n",
              "      <td>250.0</td>\n",
              "      <td>1.0</td>\n",
              "      <td>154.0</td>\n",
              "      <td>18.0</td>\n",
              "      <td>9.0</td>\n",
              "      <td>15.0</td>\n",
              "    </tr>\n",
              "    <tr>\n",
              "      <th>3</th>\n",
              "      <td>cef67bcfe19066a932b7673e239eb23d</td>\n",
              "      <td>bebes</td>\n",
              "      <td>27.0</td>\n",
              "      <td>261.0</td>\n",
              "      <td>1.0</td>\n",
              "      <td>371.0</td>\n",
              "      <td>26.0</td>\n",
              "      <td>4.0</td>\n",
              "      <td>26.0</td>\n",
              "    </tr>\n",
              "    <tr>\n",
              "      <th>4</th>\n",
              "      <td>9dc1a7de274444849c219cff195d0b71</td>\n",
              "      <td>utilidades_domesticas</td>\n",
              "      <td>37.0</td>\n",
              "      <td>402.0</td>\n",
              "      <td>4.0</td>\n",
              "      <td>625.0</td>\n",
              "      <td>20.0</td>\n",
              "      <td>17.0</td>\n",
              "      <td>13.0</td>\n",
              "    </tr>\n",
              "    <tr>\n",
              "      <th>...</th>\n",
              "      <td>...</td>\n",
              "      <td>...</td>\n",
              "      <td>...</td>\n",
              "      <td>...</td>\n",
              "      <td>...</td>\n",
              "      <td>...</td>\n",
              "      <td>...</td>\n",
              "      <td>...</td>\n",
              "      <td>...</td>\n",
              "    </tr>\n",
              "    <tr>\n",
              "      <th>32946</th>\n",
              "      <td>a0b7d5a992ccda646f2d34e418fff5a0</td>\n",
              "      <td>moveis_decoracao</td>\n",
              "      <td>45.0</td>\n",
              "      <td>67.0</td>\n",
              "      <td>2.0</td>\n",
              "      <td>12300.0</td>\n",
              "      <td>40.0</td>\n",
              "      <td>40.0</td>\n",
              "      <td>40.0</td>\n",
              "    </tr>\n",
              "    <tr>\n",
              "      <th>32947</th>\n",
              "      <td>bf4538d88321d0fd4412a93c974510e6</td>\n",
              "      <td>construcao_ferramentas_iluminacao</td>\n",
              "      <td>41.0</td>\n",
              "      <td>971.0</td>\n",
              "      <td>1.0</td>\n",
              "      <td>1700.0</td>\n",
              "      <td>16.0</td>\n",
              "      <td>19.0</td>\n",
              "      <td>16.0</td>\n",
              "    </tr>\n",
              "    <tr>\n",
              "      <th>32948</th>\n",
              "      <td>9a7c6041fa9592d9d9ef6cfe62a71f8c</td>\n",
              "      <td>cama_mesa_banho</td>\n",
              "      <td>50.0</td>\n",
              "      <td>799.0</td>\n",
              "      <td>1.0</td>\n",
              "      <td>1400.0</td>\n",
              "      <td>27.0</td>\n",
              "      <td>7.0</td>\n",
              "      <td>27.0</td>\n",
              "    </tr>\n",
              "    <tr>\n",
              "      <th>32949</th>\n",
              "      <td>83808703fc0706a22e264b9d75f04a2e</td>\n",
              "      <td>informatica_acessorios</td>\n",
              "      <td>60.0</td>\n",
              "      <td>156.0</td>\n",
              "      <td>2.0</td>\n",
              "      <td>700.0</td>\n",
              "      <td>31.0</td>\n",
              "      <td>13.0</td>\n",
              "      <td>20.0</td>\n",
              "    </tr>\n",
              "    <tr>\n",
              "      <th>32950</th>\n",
              "      <td>106392145fca363410d287a815be6de4</td>\n",
              "      <td>cama_mesa_banho</td>\n",
              "      <td>58.0</td>\n",
              "      <td>309.0</td>\n",
              "      <td>1.0</td>\n",
              "      <td>2083.0</td>\n",
              "      <td>12.0</td>\n",
              "      <td>2.0</td>\n",
              "      <td>7.0</td>\n",
              "    </tr>\n",
              "  </tbody>\n",
              "</table>\n",
              "<p>32340 rows × 9 columns</p>\n",
              "</div>"
            ],
            "text/plain": [
              "                             product_id  ... product_width_cm\n",
              "0      1e9e8ef04dbcff4541ed26657ea517e5  ...             14.0\n",
              "1      3aa071139cb16b67ca9e5dea641aaa2f  ...             20.0\n",
              "2      96bd76ec8810374ed1b65e291975717f  ...             15.0\n",
              "3      cef67bcfe19066a932b7673e239eb23d  ...             26.0\n",
              "4      9dc1a7de274444849c219cff195d0b71  ...             13.0\n",
              "...                                 ...  ...              ...\n",
              "32946  a0b7d5a992ccda646f2d34e418fff5a0  ...             40.0\n",
              "32947  bf4538d88321d0fd4412a93c974510e6  ...             16.0\n",
              "32948  9a7c6041fa9592d9d9ef6cfe62a71f8c  ...             27.0\n",
              "32949  83808703fc0706a22e264b9d75f04a2e  ...             20.0\n",
              "32950  106392145fca363410d287a815be6de4  ...              7.0\n",
              "\n",
              "[32340 rows x 9 columns]"
            ]
          },
          "metadata": {},
          "execution_count": 74
        }
      ]
    },
    {
      "cell_type": "code",
      "metadata": {
        "id": "0lIj1kExfjBq"
      },
      "source": [
        "# keep only two cols as we dont analyze the other cols\n",
        "df_products = df_products[['product_id', 'product_category_name']].copy()"
      ],
      "execution_count": null,
      "outputs": []
    },
    {
      "cell_type": "code",
      "metadata": {
        "colab": {
          "base_uri": "https://localhost:8080/",
          "height": 224
        },
        "id": "3o96heBbZTAc",
        "outputId": "e7f29351-569c-422f-c27a-cc178b357d11"
      },
      "source": [
        "# merge df_order_items_consolidated,and df_products into one\n",
        "df_order_items_products = pd.merge(df_order_items_consolidated, df_products,\n",
        "                                       how='inner', on='product_id')\n",
        "df_order_items_products.head()"
      ],
      "execution_count": null,
      "outputs": [
        {
          "output_type": "execute_result",
          "data": {
            "text/html": [
              "<div>\n",
              "<style scoped>\n",
              "    .dataframe tbody tr th:only-of-type {\n",
              "        vertical-align: middle;\n",
              "    }\n",
              "\n",
              "    .dataframe tbody tr th {\n",
              "        vertical-align: top;\n",
              "    }\n",
              "\n",
              "    .dataframe thead th {\n",
              "        text-align: right;\n",
              "    }\n",
              "</style>\n",
              "<table border=\"1\" class=\"dataframe\">\n",
              "  <thead>\n",
              "    <tr style=\"text-align: right;\">\n",
              "      <th></th>\n",
              "      <th>order_id</th>\n",
              "      <th>customer_id</th>\n",
              "      <th>order_status</th>\n",
              "      <th>order_purchase_timestamp</th>\n",
              "      <th>order_approved_at</th>\n",
              "      <th>order_delivered_carrier_date</th>\n",
              "      <th>order_delivered_customer_date</th>\n",
              "      <th>order_estimated_delivery_date</th>\n",
              "      <th>product_id</th>\n",
              "      <th>quantity</th>\n",
              "      <th>seller_id</th>\n",
              "      <th>shipping_limit_date</th>\n",
              "      <th>price</th>\n",
              "      <th>freight_value</th>\n",
              "      <th>product_category_name</th>\n",
              "    </tr>\n",
              "  </thead>\n",
              "  <tbody>\n",
              "    <tr>\n",
              "      <th>0</th>\n",
              "      <td>2e7a8482f6fb09756ca50c10d7bfc047</td>\n",
              "      <td>08c5351a6aca1c1589a38f244edeee9d</td>\n",
              "      <td>shipped</td>\n",
              "      <td>2016-09-04</td>\n",
              "      <td>2016-10-07</td>\n",
              "      <td>2016-10-18</td>\n",
              "      <td>2016-11-09</td>\n",
              "      <td>2016-10-20</td>\n",
              "      <td>c1488892604e4ba5cff5b4eb4d595400</td>\n",
              "      <td>1</td>\n",
              "      <td>1554a68530182680ad5c8b042c3ab563</td>\n",
              "      <td>2016-10-26 18:25:19</td>\n",
              "      <td>39.99</td>\n",
              "      <td>31.67</td>\n",
              "      <td>moveis_decoracao</td>\n",
              "    </tr>\n",
              "    <tr>\n",
              "      <th>1</th>\n",
              "      <td>35d3a51724a47ef1d0b89911e39cc4ff</td>\n",
              "      <td>27ab53f26192510ff85872aeb3759dcc</td>\n",
              "      <td>delivered</td>\n",
              "      <td>2016-10-04</td>\n",
              "      <td>2016-10-05</td>\n",
              "      <td>2016-10-14</td>\n",
              "      <td>2016-10-26</td>\n",
              "      <td>2016-12-20</td>\n",
              "      <td>c1488892604e4ba5cff5b4eb4d595400</td>\n",
              "      <td>1</td>\n",
              "      <td>1554a68530182680ad5c8b042c3ab563</td>\n",
              "      <td>2016-10-14 02:44:30</td>\n",
              "      <td>39.99</td>\n",
              "      <td>22.34</td>\n",
              "      <td>moveis_decoracao</td>\n",
              "    </tr>\n",
              "    <tr>\n",
              "      <th>2</th>\n",
              "      <td>c4f710df20f7d1500da1aef81a993f65</td>\n",
              "      <td>4b671f05b6eb9dc1d2c1bae9c8c78536</td>\n",
              "      <td>delivered</td>\n",
              "      <td>2016-10-10</td>\n",
              "      <td>2016-10-10</td>\n",
              "      <td>2016-10-18</td>\n",
              "      <td>2016-10-26</td>\n",
              "      <td>2016-12-14</td>\n",
              "      <td>c1488892604e4ba5cff5b4eb4d595400</td>\n",
              "      <td>1</td>\n",
              "      <td>1554a68530182680ad5c8b042c3ab563</td>\n",
              "      <td>2016-10-26 16:35:46</td>\n",
              "      <td>39.99</td>\n",
              "      <td>11.80</td>\n",
              "      <td>moveis_decoracao</td>\n",
              "    </tr>\n",
              "    <tr>\n",
              "      <th>3</th>\n",
              "      <td>81e5043198a44ddeb226002ff55d8ad4</td>\n",
              "      <td>ddd15ef77c83eea8c534d2896173a927</td>\n",
              "      <td>delivered</td>\n",
              "      <td>2017-01-09</td>\n",
              "      <td>2017-01-09</td>\n",
              "      <td>2017-01-09</td>\n",
              "      <td>2017-02-24</td>\n",
              "      <td>2017-02-24</td>\n",
              "      <td>c1488892604e4ba5cff5b4eb4d595400</td>\n",
              "      <td>2</td>\n",
              "      <td>1554a68530182680ad5c8b042c3ab563</td>\n",
              "      <td>2017-01-13 00:37:18</td>\n",
              "      <td>38.50</td>\n",
              "      <td>15.56</td>\n",
              "      <td>moveis_decoracao</td>\n",
              "    </tr>\n",
              "    <tr>\n",
              "      <th>4</th>\n",
              "      <td>03b218d39c422c250f389120c531b61f</td>\n",
              "      <td>db857a86c685a6a3a02a705961ec1ff1</td>\n",
              "      <td>delivered</td>\n",
              "      <td>2017-01-14</td>\n",
              "      <td>2017-01-14</td>\n",
              "      <td>2017-01-16</td>\n",
              "      <td>2017-01-18</td>\n",
              "      <td>2017-03-01</td>\n",
              "      <td>c1488892604e4ba5cff5b4eb4d595400</td>\n",
              "      <td>1</td>\n",
              "      <td>1554a68530182680ad5c8b042c3ab563</td>\n",
              "      <td>2017-01-18 14:20:01</td>\n",
              "      <td>38.50</td>\n",
              "      <td>11.74</td>\n",
              "      <td>moveis_decoracao</td>\n",
              "    </tr>\n",
              "  </tbody>\n",
              "</table>\n",
              "</div>"
            ],
            "text/plain": [
              "                           order_id  ... product_category_name\n",
              "0  2e7a8482f6fb09756ca50c10d7bfc047  ...      moveis_decoracao\n",
              "1  35d3a51724a47ef1d0b89911e39cc4ff  ...      moveis_decoracao\n",
              "2  c4f710df20f7d1500da1aef81a993f65  ...      moveis_decoracao\n",
              "3  81e5043198a44ddeb226002ff55d8ad4  ...      moveis_decoracao\n",
              "4  03b218d39c422c250f389120c531b61f  ...      moveis_decoracao\n",
              "\n",
              "[5 rows x 15 columns]"
            ]
          },
          "metadata": {},
          "execution_count": 77
        }
      ]
    },
    {
      "cell_type": "code",
      "metadata": {
        "colab": {
          "base_uri": "https://localhost:8080/"
        },
        "id": "gvVGTGFqZidg",
        "outputId": "936003c3-3821-496b-9be1-b80653e7d32c"
      },
      "source": [
        "# info\n",
        "df_order_items_products.info()"
      ],
      "execution_count": null,
      "outputs": [
        {
          "output_type": "stream",
          "name": "stdout",
          "text": [
            "<class 'pandas.core.frame.DataFrame'>\n",
            "Int64Index: 102425 entries, 0 to 102424\n",
            "Data columns (total 15 columns):\n",
            " #   Column                         Non-Null Count   Dtype  \n",
            "---  ------                         --------------   -----  \n",
            " 0   order_id                       102425 non-null  object \n",
            " 1   customer_id                    102425 non-null  object \n",
            " 2   order_status                   102425 non-null  object \n",
            " 3   order_purchase_timestamp       102425 non-null  object \n",
            " 4   order_approved_at              102425 non-null  object \n",
            " 5   order_delivered_carrier_date   102425 non-null  object \n",
            " 6   order_delivered_customer_date  102425 non-null  object \n",
            " 7   order_estimated_delivery_date  102425 non-null  object \n",
            " 8   product_id                     102425 non-null  object \n",
            " 9   quantity                       102425 non-null  int64  \n",
            " 10  seller_id                      102425 non-null  object \n",
            " 11  shipping_limit_date            102425 non-null  object \n",
            " 12  price                          102425 non-null  float64\n",
            " 13  freight_value                  102425 non-null  float64\n",
            " 14  product_category_name          102425 non-null  object \n",
            "dtypes: float64(2), int64(1), object(12)\n",
            "memory usage: 12.5+ MB\n"
          ]
        }
      ]
    },
    {
      "cell_type": "code",
      "metadata": {
        "colab": {
          "base_uri": "https://localhost:8080/",
          "height": 142
        },
        "id": "Y6x_KJF9a2Dv",
        "outputId": "ab93b368-2a6a-41b5-cf11-966d3f41d878"
      },
      "source": [
        "# statistical info\n",
        "df_order_items_products.describe().T"
      ],
      "execution_count": null,
      "outputs": [
        {
          "output_type": "execute_result",
          "data": {
            "text/html": [
              "<div>\n",
              "<style scoped>\n",
              "    .dataframe tbody tr th:only-of-type {\n",
              "        vertical-align: middle;\n",
              "    }\n",
              "\n",
              "    .dataframe tbody tr th {\n",
              "        vertical-align: top;\n",
              "    }\n",
              "\n",
              "    .dataframe thead th {\n",
              "        text-align: right;\n",
              "    }\n",
              "</style>\n",
              "<table border=\"1\" class=\"dataframe\">\n",
              "  <thead>\n",
              "    <tr style=\"text-align: right;\">\n",
              "      <th></th>\n",
              "      <th>count</th>\n",
              "      <th>mean</th>\n",
              "      <th>std</th>\n",
              "      <th>min</th>\n",
              "      <th>25%</th>\n",
              "      <th>50%</th>\n",
              "      <th>75%</th>\n",
              "      <th>max</th>\n",
              "    </tr>\n",
              "  </thead>\n",
              "  <tbody>\n",
              "    <tr>\n",
              "      <th>quantity</th>\n",
              "      <td>102425.0</td>\n",
              "      <td>1.099829</td>\n",
              "      <td>0.456926</td>\n",
              "      <td>1.00</td>\n",
              "      <td>1.00</td>\n",
              "      <td>1.00</td>\n",
              "      <td>1.00</td>\n",
              "      <td>20.00</td>\n",
              "    </tr>\n",
              "    <tr>\n",
              "      <th>price</th>\n",
              "      <td>102425.0</td>\n",
              "      <td>124.422006</td>\n",
              "      <td>188.926084</td>\n",
              "      <td>0.85</td>\n",
              "      <td>40.00</td>\n",
              "      <td>78.80</td>\n",
              "      <td>139.00</td>\n",
              "      <td>6735.00</td>\n",
              "    </tr>\n",
              "    <tr>\n",
              "      <th>freight_value</th>\n",
              "      <td>102425.0</td>\n",
              "      <td>20.111152</td>\n",
              "      <td>15.884700</td>\n",
              "      <td>0.00</td>\n",
              "      <td>13.14</td>\n",
              "      <td>16.32</td>\n",
              "      <td>21.22</td>\n",
              "      <td>409.68</td>\n",
              "    </tr>\n",
              "  </tbody>\n",
              "</table>\n",
              "</div>"
            ],
            "text/plain": [
              "                  count        mean         std  ...    50%     75%      max\n",
              "quantity       102425.0    1.099829    0.456926  ...   1.00    1.00    20.00\n",
              "price          102425.0  124.422006  188.926084  ...  78.80  139.00  6735.00\n",
              "freight_value  102425.0   20.111152   15.884700  ...  16.32   21.22   409.68\n",
              "\n",
              "[3 rows x 8 columns]"
            ]
          },
          "metadata": {},
          "execution_count": 80
        }
      ]
    },
    {
      "cell_type": "markdown",
      "metadata": {
        "id": "anwpbhnaxF-i"
      },
      "source": [
        "## Customers"
      ]
    },
    {
      "cell_type": "code",
      "metadata": {
        "colab": {
          "base_uri": "https://localhost:8080/",
          "height": 204
        },
        "id": "0U65I4Z1xFYi",
        "outputId": "392aa54f-ccf8-47fa-eb2d-913ae772dbd9"
      },
      "source": [
        "# customere data\n",
        "df_customer.head()"
      ],
      "execution_count": null,
      "outputs": [
        {
          "output_type": "execute_result",
          "data": {
            "text/html": [
              "<div>\n",
              "<style scoped>\n",
              "    .dataframe tbody tr th:only-of-type {\n",
              "        vertical-align: middle;\n",
              "    }\n",
              "\n",
              "    .dataframe tbody tr th {\n",
              "        vertical-align: top;\n",
              "    }\n",
              "\n",
              "    .dataframe thead th {\n",
              "        text-align: right;\n",
              "    }\n",
              "</style>\n",
              "<table border=\"1\" class=\"dataframe\">\n",
              "  <thead>\n",
              "    <tr style=\"text-align: right;\">\n",
              "      <th></th>\n",
              "      <th>customer_id</th>\n",
              "      <th>customer_unique_id</th>\n",
              "      <th>customer_zip_code_prefix</th>\n",
              "      <th>customer_city</th>\n",
              "      <th>customer_state</th>\n",
              "    </tr>\n",
              "  </thead>\n",
              "  <tbody>\n",
              "    <tr>\n",
              "      <th>0</th>\n",
              "      <td>06b8999e2fba1a1fbc88172c00ba8bc7</td>\n",
              "      <td>861eff4711a542e4b93843c6dd7febb0</td>\n",
              "      <td>14409</td>\n",
              "      <td>franca</td>\n",
              "      <td>SP</td>\n",
              "    </tr>\n",
              "    <tr>\n",
              "      <th>1</th>\n",
              "      <td>18955e83d337fd6b2def6b18a428ac77</td>\n",
              "      <td>290c77bc529b7ac935b93aa66c333dc3</td>\n",
              "      <td>9790</td>\n",
              "      <td>sao bernardo do campo</td>\n",
              "      <td>SP</td>\n",
              "    </tr>\n",
              "    <tr>\n",
              "      <th>2</th>\n",
              "      <td>4e7b3e00288586ebd08712fdd0374a03</td>\n",
              "      <td>060e732b5b29e8181a18229c7b0b2b5e</td>\n",
              "      <td>1151</td>\n",
              "      <td>sao paulo</td>\n",
              "      <td>SP</td>\n",
              "    </tr>\n",
              "    <tr>\n",
              "      <th>3</th>\n",
              "      <td>b2b6027bc5c5109e529d4dc6358b12c3</td>\n",
              "      <td>259dac757896d24d7702b9acbbff3f3c</td>\n",
              "      <td>8775</td>\n",
              "      <td>mogi das cruzes</td>\n",
              "      <td>SP</td>\n",
              "    </tr>\n",
              "    <tr>\n",
              "      <th>4</th>\n",
              "      <td>4f2d8ab171c80ec8364f7c12e35b23ad</td>\n",
              "      <td>345ecd01c38d18a9036ed96c73b8d066</td>\n",
              "      <td>13056</td>\n",
              "      <td>campinas</td>\n",
              "      <td>SP</td>\n",
              "    </tr>\n",
              "  </tbody>\n",
              "</table>\n",
              "</div>"
            ],
            "text/plain": [
              "                        customer_id  ... customer_state\n",
              "0  06b8999e2fba1a1fbc88172c00ba8bc7  ...             SP\n",
              "1  18955e83d337fd6b2def6b18a428ac77  ...             SP\n",
              "2  4e7b3e00288586ebd08712fdd0374a03  ...             SP\n",
              "3  b2b6027bc5c5109e529d4dc6358b12c3  ...             SP\n",
              "4  4f2d8ab171c80ec8364f7c12e35b23ad  ...             SP\n",
              "\n",
              "[5 rows x 5 columns]"
            ]
          },
          "metadata": {},
          "execution_count": 81
        }
      ]
    },
    {
      "cell_type": "code",
      "metadata": {
        "colab": {
          "base_uri": "https://localhost:8080/"
        },
        "id": "0B9O8olExy_W",
        "outputId": "6c859d00-afe7-4eb1-eb85-55f2369be2df"
      },
      "source": [
        "# overall info\n",
        "df_customer.info()"
      ],
      "execution_count": null,
      "outputs": [
        {
          "output_type": "stream",
          "name": "stdout",
          "text": [
            "<class 'pandas.core.frame.DataFrame'>\n",
            "RangeIndex: 99441 entries, 0 to 99440\n",
            "Data columns (total 5 columns):\n",
            " #   Column                    Non-Null Count  Dtype \n",
            "---  ------                    --------------  ----- \n",
            " 0   customer_id               99441 non-null  object\n",
            " 1   customer_unique_id        99441 non-null  object\n",
            " 2   customer_zip_code_prefix  99441 non-null  int64 \n",
            " 3   customer_city             99441 non-null  object\n",
            " 4   customer_state            99441 non-null  object\n",
            "dtypes: int64(1), object(4)\n",
            "memory usage: 3.8+ MB\n"
          ]
        }
      ]
    },
    {
      "cell_type": "code",
      "metadata": {
        "colab": {
          "base_uri": "https://localhost:8080/"
        },
        "id": "OJzeefn1yDg5",
        "outputId": "57e66b07-1882-48ee-b962-69b7e3fb6f8d"
      },
      "source": [
        "# check duplicated rows\n",
        "df_customer.duplicated().sum()"
      ],
      "execution_count": null,
      "outputs": [
        {
          "output_type": "execute_result",
          "data": {
            "text/plain": [
              "0"
            ]
          },
          "metadata": {},
          "execution_count": 83
        }
      ]
    },
    {
      "cell_type": "code",
      "metadata": {
        "colab": {
          "base_uri": "https://localhost:8080/"
        },
        "id": "3z8Oslh8r-sd",
        "outputId": "59290289-6729-4370-eb2d-c349202b6ed5"
      },
      "source": [
        "# check duplication in customerid\n",
        "df_customer['customer_id'].duplicated().sum()"
      ],
      "execution_count": null,
      "outputs": [
        {
          "output_type": "execute_result",
          "data": {
            "text/plain": [
              "0"
            ]
          },
          "metadata": {},
          "execution_count": 84
        }
      ]
    },
    {
      "cell_type": "code",
      "metadata": {
        "colab": {
          "base_uri": "https://localhost:8080/"
        },
        "id": "LaRpt1VhsWMl",
        "outputId": "365df06d-4d7d-4def-f4e3-c24524d38c20"
      },
      "source": [
        "# check duplication in customer_unique_id\n",
        "df_customer['customer_unique_id'].duplicated().sum()"
      ],
      "execution_count": null,
      "outputs": [
        {
          "output_type": "execute_result",
          "data": {
            "text/plain": [
              "3345"
            ]
          },
          "metadata": {},
          "execution_count": 85
        }
      ]
    },
    {
      "cell_type": "markdown",
      "metadata": {
        "id": "e2KbPjoCtJS1"
      },
      "source": [
        "Since the customer_id contains all unique values, we cannot base on that to do further analysis like retention rate, RFM,...  \n",
        "Hence, we need to use customer_unique_id"
      ]
    },
    {
      "cell_type": "markdown",
      "metadata": {
        "id": "TgP6MUZxQM1E"
      },
      "source": [
        "# Final dataset"
      ]
    },
    {
      "cell_type": "code",
      "metadata": {
        "id": "rP5rjc5RyjyG",
        "colab": {
          "base_uri": "https://localhost:8080/",
          "height": 241
        },
        "outputId": "bf27bd7d-1979-495a-feec-2f669ae9640a"
      },
      "source": [
        "# merge df_order_items_products, and df_customer into one\n",
        "df_order_items_products_customers = pd.merge(df_order_items_products,df_customer, how='inner', on='customer_id')\n",
        "df_order_items_products_customers.head()"
      ],
      "execution_count": null,
      "outputs": [
        {
          "output_type": "execute_result",
          "data": {
            "text/html": [
              "<div>\n",
              "<style scoped>\n",
              "    .dataframe tbody tr th:only-of-type {\n",
              "        vertical-align: middle;\n",
              "    }\n",
              "\n",
              "    .dataframe tbody tr th {\n",
              "        vertical-align: top;\n",
              "    }\n",
              "\n",
              "    .dataframe thead th {\n",
              "        text-align: right;\n",
              "    }\n",
              "</style>\n",
              "<table border=\"1\" class=\"dataframe\">\n",
              "  <thead>\n",
              "    <tr style=\"text-align: right;\">\n",
              "      <th></th>\n",
              "      <th>order_id</th>\n",
              "      <th>customer_id</th>\n",
              "      <th>order_status</th>\n",
              "      <th>order_purchase_timestamp</th>\n",
              "      <th>order_approved_at</th>\n",
              "      <th>order_delivered_carrier_date</th>\n",
              "      <th>order_delivered_customer_date</th>\n",
              "      <th>order_estimated_delivery_date</th>\n",
              "      <th>product_id</th>\n",
              "      <th>quantity</th>\n",
              "      <th>seller_id</th>\n",
              "      <th>shipping_limit_date</th>\n",
              "      <th>price</th>\n",
              "      <th>freight_value</th>\n",
              "      <th>product_category_name</th>\n",
              "      <th>customer_unique_id</th>\n",
              "      <th>customer_zip_code_prefix</th>\n",
              "      <th>customer_city</th>\n",
              "      <th>customer_state</th>\n",
              "    </tr>\n",
              "  </thead>\n",
              "  <tbody>\n",
              "    <tr>\n",
              "      <th>0</th>\n",
              "      <td>2e7a8482f6fb09756ca50c10d7bfc047</td>\n",
              "      <td>08c5351a6aca1c1589a38f244edeee9d</td>\n",
              "      <td>shipped</td>\n",
              "      <td>2016-09-04</td>\n",
              "      <td>2016-10-07</td>\n",
              "      <td>2016-10-18</td>\n",
              "      <td>2016-11-09</td>\n",
              "      <td>2016-10-20</td>\n",
              "      <td>c1488892604e4ba5cff5b4eb4d595400</td>\n",
              "      <td>1</td>\n",
              "      <td>1554a68530182680ad5c8b042c3ab563</td>\n",
              "      <td>2016-10-26 18:25:19</td>\n",
              "      <td>39.99</td>\n",
              "      <td>31.67</td>\n",
              "      <td>moveis_decoracao</td>\n",
              "      <td>b7d76e111c89f7ebf14761390f0f7d17</td>\n",
              "      <td>69309</td>\n",
              "      <td>boa vista</td>\n",
              "      <td>RR</td>\n",
              "    </tr>\n",
              "    <tr>\n",
              "      <th>1</th>\n",
              "      <td>2e7a8482f6fb09756ca50c10d7bfc047</td>\n",
              "      <td>08c5351a6aca1c1589a38f244edeee9d</td>\n",
              "      <td>shipped</td>\n",
              "      <td>2016-09-04</td>\n",
              "      <td>2016-10-07</td>\n",
              "      <td>2016-10-18</td>\n",
              "      <td>2016-11-09</td>\n",
              "      <td>2016-10-20</td>\n",
              "      <td>f293394c72c9b5fafd7023301fc21fc2</td>\n",
              "      <td>1</td>\n",
              "      <td>1554a68530182680ad5c8b042c3ab563</td>\n",
              "      <td>2016-10-26 18:25:19</td>\n",
              "      <td>32.90</td>\n",
              "      <td>31.67</td>\n",
              "      <td>moveis_decoracao</td>\n",
              "      <td>b7d76e111c89f7ebf14761390f0f7d17</td>\n",
              "      <td>69309</td>\n",
              "      <td>boa vista</td>\n",
              "      <td>RR</td>\n",
              "    </tr>\n",
              "    <tr>\n",
              "      <th>2</th>\n",
              "      <td>35d3a51724a47ef1d0b89911e39cc4ff</td>\n",
              "      <td>27ab53f26192510ff85872aeb3759dcc</td>\n",
              "      <td>delivered</td>\n",
              "      <td>2016-10-04</td>\n",
              "      <td>2016-10-05</td>\n",
              "      <td>2016-10-14</td>\n",
              "      <td>2016-10-26</td>\n",
              "      <td>2016-12-20</td>\n",
              "      <td>c1488892604e4ba5cff5b4eb4d595400</td>\n",
              "      <td>1</td>\n",
              "      <td>1554a68530182680ad5c8b042c3ab563</td>\n",
              "      <td>2016-10-14 02:44:30</td>\n",
              "      <td>39.99</td>\n",
              "      <td>22.34</td>\n",
              "      <td>moveis_decoracao</td>\n",
              "      <td>f922896769e9517ea3c630f3c8de86d0</td>\n",
              "      <td>96832</td>\n",
              "      <td>santa cruz do sul</td>\n",
              "      <td>RS</td>\n",
              "    </tr>\n",
              "    <tr>\n",
              "      <th>3</th>\n",
              "      <td>c4f710df20f7d1500da1aef81a993f65</td>\n",
              "      <td>4b671f05b6eb9dc1d2c1bae9c8c78536</td>\n",
              "      <td>delivered</td>\n",
              "      <td>2016-10-10</td>\n",
              "      <td>2016-10-10</td>\n",
              "      <td>2016-10-18</td>\n",
              "      <td>2016-10-26</td>\n",
              "      <td>2016-12-14</td>\n",
              "      <td>c1488892604e4ba5cff5b4eb4d595400</td>\n",
              "      <td>1</td>\n",
              "      <td>1554a68530182680ad5c8b042c3ab563</td>\n",
              "      <td>2016-10-26 16:35:46</td>\n",
              "      <td>39.99</td>\n",
              "      <td>11.80</td>\n",
              "      <td>moveis_decoracao</td>\n",
              "      <td>0ecf7f65b5ff3b9e61b637e59f495e0a</td>\n",
              "      <td>30411</td>\n",
              "      <td>belo horizonte</td>\n",
              "      <td>MG</td>\n",
              "    </tr>\n",
              "    <tr>\n",
              "      <th>4</th>\n",
              "      <td>81e5043198a44ddeb226002ff55d8ad4</td>\n",
              "      <td>ddd15ef77c83eea8c534d2896173a927</td>\n",
              "      <td>delivered</td>\n",
              "      <td>2017-01-09</td>\n",
              "      <td>2017-01-09</td>\n",
              "      <td>2017-01-09</td>\n",
              "      <td>2017-02-24</td>\n",
              "      <td>2017-02-24</td>\n",
              "      <td>c1488892604e4ba5cff5b4eb4d595400</td>\n",
              "      <td>2</td>\n",
              "      <td>1554a68530182680ad5c8b042c3ab563</td>\n",
              "      <td>2017-01-13 00:37:18</td>\n",
              "      <td>38.50</td>\n",
              "      <td>15.56</td>\n",
              "      <td>moveis_decoracao</td>\n",
              "      <td>853ba75a0b423722ccf270eea3b4cfe4</td>\n",
              "      <td>21843</td>\n",
              "      <td>rio de janeiro</td>\n",
              "      <td>RJ</td>\n",
              "    </tr>\n",
              "  </tbody>\n",
              "</table>\n",
              "</div>"
            ],
            "text/plain": [
              "                           order_id  ... customer_state\n",
              "0  2e7a8482f6fb09756ca50c10d7bfc047  ...             RR\n",
              "1  2e7a8482f6fb09756ca50c10d7bfc047  ...             RR\n",
              "2  35d3a51724a47ef1d0b89911e39cc4ff  ...             RS\n",
              "3  c4f710df20f7d1500da1aef81a993f65  ...             MG\n",
              "4  81e5043198a44ddeb226002ff55d8ad4  ...             RJ\n",
              "\n",
              "[5 rows x 19 columns]"
            ]
          },
          "metadata": {},
          "execution_count": 86
        }
      ]
    },
    {
      "cell_type": "code",
      "metadata": {
        "colab": {
          "base_uri": "https://localhost:8080/"
        },
        "id": "PdxMDl4FzDYz",
        "outputId": "8a99ab3f-eb9f-4539-b0ce-356e9e9e71c5"
      },
      "source": [
        "# overall info\n",
        "df_order_items_products_customers.info()"
      ],
      "execution_count": null,
      "outputs": [
        {
          "output_type": "stream",
          "name": "stdout",
          "text": [
            "<class 'pandas.core.frame.DataFrame'>\n",
            "Int64Index: 102425 entries, 0 to 102424\n",
            "Data columns (total 19 columns):\n",
            " #   Column                         Non-Null Count   Dtype  \n",
            "---  ------                         --------------   -----  \n",
            " 0   order_id                       102425 non-null  object \n",
            " 1   customer_id                    102425 non-null  object \n",
            " 2   order_status                   102425 non-null  object \n",
            " 3   order_purchase_timestamp       102425 non-null  object \n",
            " 4   order_approved_at              102425 non-null  object \n",
            " 5   order_delivered_carrier_date   102425 non-null  object \n",
            " 6   order_delivered_customer_date  102425 non-null  object \n",
            " 7   order_estimated_delivery_date  102425 non-null  object \n",
            " 8   product_id                     102425 non-null  object \n",
            " 9   quantity                       102425 non-null  int64  \n",
            " 10  seller_id                      102425 non-null  object \n",
            " 11  shipping_limit_date            102425 non-null  object \n",
            " 12  price                          102425 non-null  float64\n",
            " 13  freight_value                  102425 non-null  float64\n",
            " 14  product_category_name          102425 non-null  object \n",
            " 15  customer_unique_id             102425 non-null  object \n",
            " 16  customer_zip_code_prefix       102425 non-null  int64  \n",
            " 17  customer_city                  102425 non-null  object \n",
            " 18  customer_state                 102425 non-null  object \n",
            "dtypes: float64(2), int64(2), object(15)\n",
            "memory usage: 15.6+ MB\n"
          ]
        }
      ]
    },
    {
      "cell_type": "markdown",
      "metadata": {
        "id": "fAi4pnaVwVLH"
      },
      "source": [
        "Explain main columns name  \n",
        "- order_id:            A unique id of order made by the customer\n",
        "- customer_id:         Id of the customer who made the purchase\n",
        "- customer_unique_id:  Unique id of the customer\n",
        "- order_status:        Status of the order made\n",
        "- order_purchase_timestamp:  Timestamp of the purchase\n",
        "- product_id:          A unique id given to each product available on the site  \n",
        "- quantity:            The number of products which was purchased \n",
        "- price:               Actual price of the products ordered  \n",
        "- freight_value:       Price rate at which a product is delivered from one point to another  \n",
        "- product_category_name:  Name of the product category\n"
      ]
    },
    {
      "cell_type": "code",
      "metadata": {
        "id": "oiRkYHxnzUuA"
      },
      "source": [
        "# save final file\n",
        "df_order_items_products_customers.to_csv(os.path.join(path,'df_order_items_products_customers.csv'), encoding='utf-8-sig', index=False)"
      ],
      "execution_count": null,
      "outputs": []
    }
  ]
}