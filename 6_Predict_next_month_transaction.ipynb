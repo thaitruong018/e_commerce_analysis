{
  "nbformat": 4,
  "nbformat_minor": 0,
  "metadata": {
    "colab": {
      "name": "6_Predict_next_month_transaction.ipynb",
      "provenance": [],
      "authorship_tag": "ABX9TyMWYhQ5ZRgESgCr/LUcCjFQ",
      "include_colab_link": true
    },
    "kernelspec": {
      "name": "python3",
      "display_name": "Python 3"
    },
    "language_info": {
      "name": "python"
    }
  },
  "cells": [
    {
      "cell_type": "markdown",
      "metadata": {
        "id": "view-in-github",
        "colab_type": "text"
      },
      "source": [
        "<a href=\"https://colab.research.google.com/github/thaitruong018/e_commerce_analysis/blob/main/6_Predict_next_month_transaction.ipynb\" target=\"_parent\"><img src=\"https://colab.research.google.com/assets/colab-badge.svg\" alt=\"Open In Colab\"/></a>"
      ]
    },
    {
      "cell_type": "markdown",
      "metadata": {
        "id": "mC-nV41x8m2h"
      },
      "source": [
        "## Set-up"
      ]
    },
    {
      "cell_type": "code",
      "metadata": {
        "colab": {
          "base_uri": "https://localhost:8080/"
        },
        "id": "mI-WSOEeAUBb",
        "outputId": "be5f6aa1-184a-4c5a-9866-8b0ea3555490"
      },
      "source": [
        "# gg drive\n",
        "from google.colab import drive\n",
        "drive.mount('/content/gdrive')"
      ],
      "execution_count": 1,
      "outputs": [
        {
          "output_type": "stream",
          "name": "stdout",
          "text": [
            "Mounted at /content/gdrive\n"
          ]
        }
      ]
    },
    {
      "cell_type": "code",
      "metadata": {
        "id": "91aCFIE1EX2d"
      },
      "source": [
        "# Import packages\n",
        "import os\n",
        "import pandas as pd\n",
        "import numpy as np\n",
        "import datetime as dt\n",
        "from sklearn.pipeline import Pipeline\n",
        "from sklearn.linear_model import LinearRegression\n",
        "from sklearn.metrics import mean_absolute_error, mean_squared_error\n",
        "from sklearn.preprocessing import StandardScaler\n",
        "from sklearn.model_selection import train_test_split"
      ],
      "execution_count": 2,
      "outputs": []
    },
    {
      "cell_type": "code",
      "metadata": {
        "id": "hQmnLfzVEZh8"
      },
      "source": [
        "# path to data\n",
        "path = '/content/gdrive/MyDrive/brazilian_ecommerce'"
      ],
      "execution_count": 3,
      "outputs": []
    },
    {
      "cell_type": "code",
      "metadata": {
        "colab": {
          "base_uri": "https://localhost:8080/",
          "height": 241
        },
        "id": "V0LiuO-MEbXl",
        "outputId": "30ec2fa9-78c3-42c9-e368-071b24b3423f"
      },
      "source": [
        "# read data\n",
        "df_orders = pd.read_csv(os.path.join(path,'df_order_items_products_customers.csv'))\n",
        "df_orders.head()"
      ],
      "execution_count": 4,
      "outputs": [
        {
          "output_type": "execute_result",
          "data": {
            "text/html": [
              "<div>\n",
              "<style scoped>\n",
              "    .dataframe tbody tr th:only-of-type {\n",
              "        vertical-align: middle;\n",
              "    }\n",
              "\n",
              "    .dataframe tbody tr th {\n",
              "        vertical-align: top;\n",
              "    }\n",
              "\n",
              "    .dataframe thead th {\n",
              "        text-align: right;\n",
              "    }\n",
              "</style>\n",
              "<table border=\"1\" class=\"dataframe\">\n",
              "  <thead>\n",
              "    <tr style=\"text-align: right;\">\n",
              "      <th></th>\n",
              "      <th>order_id</th>\n",
              "      <th>customer_id</th>\n",
              "      <th>order_status</th>\n",
              "      <th>order_purchase_timestamp</th>\n",
              "      <th>order_approved_at</th>\n",
              "      <th>order_delivered_carrier_date</th>\n",
              "      <th>order_delivered_customer_date</th>\n",
              "      <th>order_estimated_delivery_date</th>\n",
              "      <th>product_id</th>\n",
              "      <th>quantity</th>\n",
              "      <th>seller_id</th>\n",
              "      <th>shipping_limit_date</th>\n",
              "      <th>price</th>\n",
              "      <th>freight_value</th>\n",
              "      <th>product_category_name</th>\n",
              "      <th>customer_unique_id</th>\n",
              "      <th>customer_zip_code_prefix</th>\n",
              "      <th>customer_city</th>\n",
              "      <th>customer_state</th>\n",
              "    </tr>\n",
              "  </thead>\n",
              "  <tbody>\n",
              "    <tr>\n",
              "      <th>0</th>\n",
              "      <td>2e7a8482f6fb09756ca50c10d7bfc047</td>\n",
              "      <td>08c5351a6aca1c1589a38f244edeee9d</td>\n",
              "      <td>shipped</td>\n",
              "      <td>2016-09-04</td>\n",
              "      <td>2016-10-07</td>\n",
              "      <td>2016-10-18</td>\n",
              "      <td>2016-11-09</td>\n",
              "      <td>2016-10-20</td>\n",
              "      <td>c1488892604e4ba5cff5b4eb4d595400</td>\n",
              "      <td>1</td>\n",
              "      <td>1554a68530182680ad5c8b042c3ab563</td>\n",
              "      <td>2016-10-26 18:25:19</td>\n",
              "      <td>39.99</td>\n",
              "      <td>31.67</td>\n",
              "      <td>moveis_decoracao</td>\n",
              "      <td>b7d76e111c89f7ebf14761390f0f7d17</td>\n",
              "      <td>69309</td>\n",
              "      <td>boa vista</td>\n",
              "      <td>RR</td>\n",
              "    </tr>\n",
              "    <tr>\n",
              "      <th>1</th>\n",
              "      <td>2e7a8482f6fb09756ca50c10d7bfc047</td>\n",
              "      <td>08c5351a6aca1c1589a38f244edeee9d</td>\n",
              "      <td>shipped</td>\n",
              "      <td>2016-09-04</td>\n",
              "      <td>2016-10-07</td>\n",
              "      <td>2016-10-18</td>\n",
              "      <td>2016-11-09</td>\n",
              "      <td>2016-10-20</td>\n",
              "      <td>f293394c72c9b5fafd7023301fc21fc2</td>\n",
              "      <td>1</td>\n",
              "      <td>1554a68530182680ad5c8b042c3ab563</td>\n",
              "      <td>2016-10-26 18:25:19</td>\n",
              "      <td>32.90</td>\n",
              "      <td>31.67</td>\n",
              "      <td>moveis_decoracao</td>\n",
              "      <td>b7d76e111c89f7ebf14761390f0f7d17</td>\n",
              "      <td>69309</td>\n",
              "      <td>boa vista</td>\n",
              "      <td>RR</td>\n",
              "    </tr>\n",
              "    <tr>\n",
              "      <th>2</th>\n",
              "      <td>35d3a51724a47ef1d0b89911e39cc4ff</td>\n",
              "      <td>27ab53f26192510ff85872aeb3759dcc</td>\n",
              "      <td>delivered</td>\n",
              "      <td>2016-10-04</td>\n",
              "      <td>2016-10-05</td>\n",
              "      <td>2016-10-14</td>\n",
              "      <td>2016-10-26</td>\n",
              "      <td>2016-12-20</td>\n",
              "      <td>c1488892604e4ba5cff5b4eb4d595400</td>\n",
              "      <td>1</td>\n",
              "      <td>1554a68530182680ad5c8b042c3ab563</td>\n",
              "      <td>2016-10-14 02:44:30</td>\n",
              "      <td>39.99</td>\n",
              "      <td>22.34</td>\n",
              "      <td>moveis_decoracao</td>\n",
              "      <td>f922896769e9517ea3c630f3c8de86d0</td>\n",
              "      <td>96832</td>\n",
              "      <td>santa cruz do sul</td>\n",
              "      <td>RS</td>\n",
              "    </tr>\n",
              "    <tr>\n",
              "      <th>3</th>\n",
              "      <td>c4f710df20f7d1500da1aef81a993f65</td>\n",
              "      <td>4b671f05b6eb9dc1d2c1bae9c8c78536</td>\n",
              "      <td>delivered</td>\n",
              "      <td>2016-10-10</td>\n",
              "      <td>2016-10-10</td>\n",
              "      <td>2016-10-18</td>\n",
              "      <td>2016-10-26</td>\n",
              "      <td>2016-12-14</td>\n",
              "      <td>c1488892604e4ba5cff5b4eb4d595400</td>\n",
              "      <td>1</td>\n",
              "      <td>1554a68530182680ad5c8b042c3ab563</td>\n",
              "      <td>2016-10-26 16:35:46</td>\n",
              "      <td>39.99</td>\n",
              "      <td>11.80</td>\n",
              "      <td>moveis_decoracao</td>\n",
              "      <td>0ecf7f65b5ff3b9e61b637e59f495e0a</td>\n",
              "      <td>30411</td>\n",
              "      <td>belo horizonte</td>\n",
              "      <td>MG</td>\n",
              "    </tr>\n",
              "    <tr>\n",
              "      <th>4</th>\n",
              "      <td>81e5043198a44ddeb226002ff55d8ad4</td>\n",
              "      <td>ddd15ef77c83eea8c534d2896173a927</td>\n",
              "      <td>delivered</td>\n",
              "      <td>2017-01-09</td>\n",
              "      <td>2017-01-09</td>\n",
              "      <td>2017-01-09</td>\n",
              "      <td>2017-02-24</td>\n",
              "      <td>2017-02-24</td>\n",
              "      <td>c1488892604e4ba5cff5b4eb4d595400</td>\n",
              "      <td>2</td>\n",
              "      <td>1554a68530182680ad5c8b042c3ab563</td>\n",
              "      <td>2017-01-13 00:37:18</td>\n",
              "      <td>38.50</td>\n",
              "      <td>15.56</td>\n",
              "      <td>moveis_decoracao</td>\n",
              "      <td>853ba75a0b423722ccf270eea3b4cfe4</td>\n",
              "      <td>21843</td>\n",
              "      <td>rio de janeiro</td>\n",
              "      <td>RJ</td>\n",
              "    </tr>\n",
              "  </tbody>\n",
              "</table>\n",
              "</div>"
            ],
            "text/plain": [
              "                           order_id  ... customer_state\n",
              "0  2e7a8482f6fb09756ca50c10d7bfc047  ...             RR\n",
              "1  2e7a8482f6fb09756ca50c10d7bfc047  ...             RR\n",
              "2  35d3a51724a47ef1d0b89911e39cc4ff  ...             RS\n",
              "3  c4f710df20f7d1500da1aef81a993f65  ...             MG\n",
              "4  81e5043198a44ddeb226002ff55d8ad4  ...             RJ\n",
              "\n",
              "[5 rows x 19 columns]"
            ]
          },
          "metadata": {},
          "execution_count": 4
        }
      ]
    },
    {
      "cell_type": "markdown",
      "metadata": {
        "id": "F4UaGIqzCpr6"
      },
      "source": [
        "## Data"
      ]
    },
    {
      "cell_type": "code",
      "metadata": {
        "id": "Bwhc9cjsVELh",
        "colab": {
          "base_uri": "https://localhost:8080/",
          "height": 204
        },
        "outputId": "5426a627-4371-42ce-d131-5fab2105260a"
      },
      "source": [
        "# create a dataframe contains necessary columns\n",
        "data = df_orders[['order_id','customer_unique_id','product_id','order_purchase_timestamp',\n",
        "                    'quantity','price'\n",
        "                    ]].copy()\n",
        "data.rename(columns={'order_purchase_timestamp':'purchased_date'},inplace=True)\n",
        "data.head()"
      ],
      "execution_count": 5,
      "outputs": [
        {
          "output_type": "execute_result",
          "data": {
            "text/html": [
              "<div>\n",
              "<style scoped>\n",
              "    .dataframe tbody tr th:only-of-type {\n",
              "        vertical-align: middle;\n",
              "    }\n",
              "\n",
              "    .dataframe tbody tr th {\n",
              "        vertical-align: top;\n",
              "    }\n",
              "\n",
              "    .dataframe thead th {\n",
              "        text-align: right;\n",
              "    }\n",
              "</style>\n",
              "<table border=\"1\" class=\"dataframe\">\n",
              "  <thead>\n",
              "    <tr style=\"text-align: right;\">\n",
              "      <th></th>\n",
              "      <th>order_id</th>\n",
              "      <th>customer_unique_id</th>\n",
              "      <th>product_id</th>\n",
              "      <th>purchased_date</th>\n",
              "      <th>quantity</th>\n",
              "      <th>price</th>\n",
              "    </tr>\n",
              "  </thead>\n",
              "  <tbody>\n",
              "    <tr>\n",
              "      <th>0</th>\n",
              "      <td>2e7a8482f6fb09756ca50c10d7bfc047</td>\n",
              "      <td>b7d76e111c89f7ebf14761390f0f7d17</td>\n",
              "      <td>c1488892604e4ba5cff5b4eb4d595400</td>\n",
              "      <td>2016-09-04</td>\n",
              "      <td>1</td>\n",
              "      <td>39.99</td>\n",
              "    </tr>\n",
              "    <tr>\n",
              "      <th>1</th>\n",
              "      <td>2e7a8482f6fb09756ca50c10d7bfc047</td>\n",
              "      <td>b7d76e111c89f7ebf14761390f0f7d17</td>\n",
              "      <td>f293394c72c9b5fafd7023301fc21fc2</td>\n",
              "      <td>2016-09-04</td>\n",
              "      <td>1</td>\n",
              "      <td>32.90</td>\n",
              "    </tr>\n",
              "    <tr>\n",
              "      <th>2</th>\n",
              "      <td>35d3a51724a47ef1d0b89911e39cc4ff</td>\n",
              "      <td>f922896769e9517ea3c630f3c8de86d0</td>\n",
              "      <td>c1488892604e4ba5cff5b4eb4d595400</td>\n",
              "      <td>2016-10-04</td>\n",
              "      <td>1</td>\n",
              "      <td>39.99</td>\n",
              "    </tr>\n",
              "    <tr>\n",
              "      <th>3</th>\n",
              "      <td>c4f710df20f7d1500da1aef81a993f65</td>\n",
              "      <td>0ecf7f65b5ff3b9e61b637e59f495e0a</td>\n",
              "      <td>c1488892604e4ba5cff5b4eb4d595400</td>\n",
              "      <td>2016-10-10</td>\n",
              "      <td>1</td>\n",
              "      <td>39.99</td>\n",
              "    </tr>\n",
              "    <tr>\n",
              "      <th>4</th>\n",
              "      <td>81e5043198a44ddeb226002ff55d8ad4</td>\n",
              "      <td>853ba75a0b423722ccf270eea3b4cfe4</td>\n",
              "      <td>c1488892604e4ba5cff5b4eb4d595400</td>\n",
              "      <td>2017-01-09</td>\n",
              "      <td>2</td>\n",
              "      <td>38.50</td>\n",
              "    </tr>\n",
              "  </tbody>\n",
              "</table>\n",
              "</div>"
            ],
            "text/plain": [
              "                           order_id  ...  price\n",
              "0  2e7a8482f6fb09756ca50c10d7bfc047  ...  39.99\n",
              "1  2e7a8482f6fb09756ca50c10d7bfc047  ...  32.90\n",
              "2  35d3a51724a47ef1d0b89911e39cc4ff  ...  39.99\n",
              "3  c4f710df20f7d1500da1aef81a993f65  ...  39.99\n",
              "4  81e5043198a44ddeb226002ff55d8ad4  ...  38.50\n",
              "\n",
              "[5 rows x 6 columns]"
            ]
          },
          "metadata": {},
          "execution_count": 5
        }
      ]
    },
    {
      "cell_type": "code",
      "metadata": {
        "colab": {
          "base_uri": "https://localhost:8080/"
        },
        "id": "_NWY3R7bF84C",
        "outputId": "e1804dda-891a-4d2e-d2e8-a807e97d3a27"
      },
      "source": [
        "# overal info\n",
        "data.info()"
      ],
      "execution_count": 6,
      "outputs": [
        {
          "output_type": "stream",
          "name": "stdout",
          "text": [
            "<class 'pandas.core.frame.DataFrame'>\n",
            "RangeIndex: 102425 entries, 0 to 102424\n",
            "Data columns (total 6 columns):\n",
            " #   Column              Non-Null Count   Dtype  \n",
            "---  ------              --------------   -----  \n",
            " 0   order_id            102425 non-null  object \n",
            " 1   customer_unique_id  102425 non-null  object \n",
            " 2   product_id          102425 non-null  object \n",
            " 3   purchased_date      102425 non-null  object \n",
            " 4   quantity            102425 non-null  int64  \n",
            " 5   price               102425 non-null  float64\n",
            "dtypes: float64(1), int64(1), object(4)\n",
            "memory usage: 4.7+ MB\n"
          ]
        }
      ]
    },
    {
      "cell_type": "code",
      "metadata": {
        "id": "zWLtqVwNaZNb"
      },
      "source": [
        "# change data type \n",
        "data['purchased_date'] = pd.to_datetime(data['purchased_date'])\n",
        "# define purchase year month\n",
        "data['PurchaseYearMonth'] = data['purchased_date'].dt.to_period('M')"
      ],
      "execution_count": 7,
      "outputs": []
    },
    {
      "cell_type": "code",
      "metadata": {
        "colab": {
          "base_uri": "https://localhost:8080/"
        },
        "id": "mb3W2W4rZP8B",
        "outputId": "06890f50-b9b4-4a86-a730-6d80e60ad06d"
      },
      "source": [
        "# check timeframe\n",
        "data['purchased_date'].min(), data['purchased_date'].max()"
      ],
      "execution_count": 8,
      "outputs": [
        {
          "output_type": "execute_result",
          "data": {
            "text/plain": [
              "(Timestamp('2016-09-04 00:00:00'), Timestamp('2018-09-03 00:00:00'))"
            ]
          },
          "metadata": {},
          "execution_count": 8
        }
      ]
    },
    {
      "cell_type": "code",
      "metadata": {
        "colab": {
          "base_uri": "https://localhost:8080/",
          "height": 204
        },
        "id": "BMxvspq9Drwx",
        "outputId": "8a4f6bab-d097-48a9-e2a5-0f6881a5b1d1"
      },
      "source": [
        "# first 5 rows of dataframe\n",
        "data.head()"
      ],
      "execution_count": 9,
      "outputs": [
        {
          "output_type": "execute_result",
          "data": {
            "text/html": [
              "<div>\n",
              "<style scoped>\n",
              "    .dataframe tbody tr th:only-of-type {\n",
              "        vertical-align: middle;\n",
              "    }\n",
              "\n",
              "    .dataframe tbody tr th {\n",
              "        vertical-align: top;\n",
              "    }\n",
              "\n",
              "    .dataframe thead th {\n",
              "        text-align: right;\n",
              "    }\n",
              "</style>\n",
              "<table border=\"1\" class=\"dataframe\">\n",
              "  <thead>\n",
              "    <tr style=\"text-align: right;\">\n",
              "      <th></th>\n",
              "      <th>order_id</th>\n",
              "      <th>customer_unique_id</th>\n",
              "      <th>product_id</th>\n",
              "      <th>purchased_date</th>\n",
              "      <th>quantity</th>\n",
              "      <th>price</th>\n",
              "      <th>PurchaseYearMonth</th>\n",
              "    </tr>\n",
              "  </thead>\n",
              "  <tbody>\n",
              "    <tr>\n",
              "      <th>0</th>\n",
              "      <td>2e7a8482f6fb09756ca50c10d7bfc047</td>\n",
              "      <td>b7d76e111c89f7ebf14761390f0f7d17</td>\n",
              "      <td>c1488892604e4ba5cff5b4eb4d595400</td>\n",
              "      <td>2016-09-04</td>\n",
              "      <td>1</td>\n",
              "      <td>39.99</td>\n",
              "      <td>2016-09</td>\n",
              "    </tr>\n",
              "    <tr>\n",
              "      <th>1</th>\n",
              "      <td>2e7a8482f6fb09756ca50c10d7bfc047</td>\n",
              "      <td>b7d76e111c89f7ebf14761390f0f7d17</td>\n",
              "      <td>f293394c72c9b5fafd7023301fc21fc2</td>\n",
              "      <td>2016-09-04</td>\n",
              "      <td>1</td>\n",
              "      <td>32.90</td>\n",
              "      <td>2016-09</td>\n",
              "    </tr>\n",
              "    <tr>\n",
              "      <th>2</th>\n",
              "      <td>35d3a51724a47ef1d0b89911e39cc4ff</td>\n",
              "      <td>f922896769e9517ea3c630f3c8de86d0</td>\n",
              "      <td>c1488892604e4ba5cff5b4eb4d595400</td>\n",
              "      <td>2016-10-04</td>\n",
              "      <td>1</td>\n",
              "      <td>39.99</td>\n",
              "      <td>2016-10</td>\n",
              "    </tr>\n",
              "    <tr>\n",
              "      <th>3</th>\n",
              "      <td>c4f710df20f7d1500da1aef81a993f65</td>\n",
              "      <td>0ecf7f65b5ff3b9e61b637e59f495e0a</td>\n",
              "      <td>c1488892604e4ba5cff5b4eb4d595400</td>\n",
              "      <td>2016-10-10</td>\n",
              "      <td>1</td>\n",
              "      <td>39.99</td>\n",
              "      <td>2016-10</td>\n",
              "    </tr>\n",
              "    <tr>\n",
              "      <th>4</th>\n",
              "      <td>81e5043198a44ddeb226002ff55d8ad4</td>\n",
              "      <td>853ba75a0b423722ccf270eea3b4cfe4</td>\n",
              "      <td>c1488892604e4ba5cff5b4eb4d595400</td>\n",
              "      <td>2017-01-09</td>\n",
              "      <td>2</td>\n",
              "      <td>38.50</td>\n",
              "      <td>2017-01</td>\n",
              "    </tr>\n",
              "  </tbody>\n",
              "</table>\n",
              "</div>"
            ],
            "text/plain": [
              "                           order_id  ... PurchaseYearMonth\n",
              "0  2e7a8482f6fb09756ca50c10d7bfc047  ...           2016-09\n",
              "1  2e7a8482f6fb09756ca50c10d7bfc047  ...           2016-09\n",
              "2  35d3a51724a47ef1d0b89911e39cc4ff  ...           2016-10\n",
              "3  c4f710df20f7d1500da1aef81a993f65  ...           2016-10\n",
              "4  81e5043198a44ddeb226002ff55d8ad4  ...           2017-01\n",
              "\n",
              "[5 rows x 7 columns]"
            ]
          },
          "metadata": {},
          "execution_count": 9
        }
      ]
    },
    {
      "cell_type": "markdown",
      "metadata": {
        "id": "rJ1LVkIvlHMd"
      },
      "source": [
        "## Calculation and prediction"
      ]
    },
    {
      "cell_type": "code",
      "metadata": {
        "id": "MwfaaxsfF9oy"
      },
      "source": [
        "# calculate total sales\n",
        "data['TotalPurchase'] = data['quantity'] * data['price']"
      ],
      "execution_count": 10,
      "outputs": []
    },
    {
      "cell_type": "code",
      "metadata": {
        "id": "2ntUvpIFHrjC"
      },
      "source": [
        "# Remove customer ids, which have only records for the last month\n",
        "# Split into 2 dataframes to check customer ids\n",
        "data['PurchaseYearMonth'] = data['PurchaseYearMonth'].astype(str)\n",
        "df_0818 = data[data['PurchaseYearMonth'] == '2018-08']  \n",
        "df_others = data[data['PurchaseYearMonth'] != '2018-08'] # since we want to predict trans on 08/2018"
      ],
      "execution_count": 11,
      "outputs": []
    },
    {
      "cell_type": "code",
      "metadata": {
        "id": "nI23IBhoJgft"
      },
      "source": [
        "# get lists of customer ids\n",
        "cust_ids_0818 = df_0818['customer_unique_id'].unique().tolist()\n",
        "cust_ids_others = df_others['customer_unique_id'].unique().tolist()\n",
        "# define customer ids, who made a purchase during the last month only\n",
        "new_cust_ids = list(set(cust_ids_0818) - set(cust_ids_others))\n",
        "# remove the customer ids without previous purchasing activity\n",
        "data = data[~data['customer_unique_id'].isin(new_cust_ids)]\n",
        "# remove all transaction on 08-2018\n",
        "data_X = data[data['PurchaseYearMonth'] != '2018-08']"
      ],
      "execution_count": 12,
      "outputs": []
    },
    {
      "cell_type": "code",
      "metadata": {
        "id": "jLzNg7G3SvH-",
        "colab": {
          "base_uri": "https://localhost:8080/",
          "height": 204
        },
        "outputId": "543f7a96-89de-48be-c276-0f01c2094b20"
      },
      "source": [
        "# assume we're are at the 01/08/2018 and want to predict trans in this month\n",
        "now = dt.datetime(2018, 8, 1)\n",
        "# calculate recency, frequency, monetary\n",
        "data_features = data_X.groupby('customer_unique_id').agg({'purchased_date': lambda date: (now - date.max()).days,\n",
        "                                              'order_id':pd.Series.nunique,\n",
        "                                              'TotalPurchase': 'sum',\n",
        "                                              'quantity': ['mean', 'sum']\n",
        "                                              }).reset_index()\n",
        "# rename columns\n",
        "data_features.columns = ['CustomerID', 'Recency', 'Frequency', \n",
        "                       'Monetary', 'QuantityAvg', 'QuantityTotal'\n",
        "                      ]    \n",
        "data_features.head()                                               "
      ],
      "execution_count": 13,
      "outputs": [
        {
          "output_type": "execute_result",
          "data": {
            "text/html": [
              "<div>\n",
              "<style scoped>\n",
              "    .dataframe tbody tr th:only-of-type {\n",
              "        vertical-align: middle;\n",
              "    }\n",
              "\n",
              "    .dataframe tbody tr th {\n",
              "        vertical-align: top;\n",
              "    }\n",
              "\n",
              "    .dataframe thead th {\n",
              "        text-align: right;\n",
              "    }\n",
              "</style>\n",
              "<table border=\"1\" class=\"dataframe\">\n",
              "  <thead>\n",
              "    <tr style=\"text-align: right;\">\n",
              "      <th></th>\n",
              "      <th>CustomerID</th>\n",
              "      <th>Recency</th>\n",
              "      <th>Frequency</th>\n",
              "      <th>Monetary</th>\n",
              "      <th>QuantityAvg</th>\n",
              "      <th>QuantityTotal</th>\n",
              "    </tr>\n",
              "  </thead>\n",
              "  <tbody>\n",
              "    <tr>\n",
              "      <th>0</th>\n",
              "      <td>0000366f3b9a7992bf8c76cfdf3221e2</td>\n",
              "      <td>83</td>\n",
              "      <td>1</td>\n",
              "      <td>129.90</td>\n",
              "      <td>1.0</td>\n",
              "      <td>1</td>\n",
              "    </tr>\n",
              "    <tr>\n",
              "      <th>1</th>\n",
              "      <td>0000b849f77a49e4a4ce2b2a4ca5be3f</td>\n",
              "      <td>86</td>\n",
              "      <td>1</td>\n",
              "      <td>18.90</td>\n",
              "      <td>1.0</td>\n",
              "      <td>1</td>\n",
              "    </tr>\n",
              "    <tr>\n",
              "      <th>2</th>\n",
              "      <td>0000f46a3911fa3c0805444483337064</td>\n",
              "      <td>509</td>\n",
              "      <td>1</td>\n",
              "      <td>69.00</td>\n",
              "      <td>1.0</td>\n",
              "      <td>1</td>\n",
              "    </tr>\n",
              "    <tr>\n",
              "      <th>3</th>\n",
              "      <td>0000f6ccb0745a6a4b88665a16c9f078</td>\n",
              "      <td>293</td>\n",
              "      <td>1</td>\n",
              "      <td>25.99</td>\n",
              "      <td>1.0</td>\n",
              "      <td>1</td>\n",
              "    </tr>\n",
              "    <tr>\n",
              "      <th>4</th>\n",
              "      <td>0004aac84e0df4da2b147fca70cf8255</td>\n",
              "      <td>260</td>\n",
              "      <td>1</td>\n",
              "      <td>180.00</td>\n",
              "      <td>1.0</td>\n",
              "      <td>1</td>\n",
              "    </tr>\n",
              "  </tbody>\n",
              "</table>\n",
              "</div>"
            ],
            "text/plain": [
              "                         CustomerID  Recency  ...  QuantityAvg  QuantityTotal\n",
              "0  0000366f3b9a7992bf8c76cfdf3221e2       83  ...          1.0              1\n",
              "1  0000b849f77a49e4a4ce2b2a4ca5be3f       86  ...          1.0              1\n",
              "2  0000f46a3911fa3c0805444483337064      509  ...          1.0              1\n",
              "3  0000f6ccb0745a6a4b88665a16c9f078      293  ...          1.0              1\n",
              "4  0004aac84e0df4da2b147fca70cf8255      260  ...          1.0              1\n",
              "\n",
              "[5 rows x 6 columns]"
            ]
          },
          "metadata": {},
          "execution_count": 13
        }
      ]
    },
    {
      "cell_type": "code",
      "metadata": {
        "id": "V_TDwxzAT_Wi",
        "colab": {
          "base_uri": "https://localhost:8080/",
          "height": 241
        },
        "outputId": "86b80891-2dd9-464c-edd0-3d21113c2388"
      },
      "source": [
        "# get monthly transactions for customers\n",
        "cust_month_trans = pd.pivot_table(data=data,\n",
        "                                  index=['customer_unique_id'],\n",
        "                                  values='order_id',\n",
        "                                  columns=['PurchaseYearMonth'],\n",
        "                                  aggfunc=pd.Series.nunique,\n",
        "                                  fill_value=0).reset_index()\n",
        "# rename index column\n",
        "cust_month_trans = cust_month_trans.rename_axis('index',axis=1)                                 \n",
        "cust_month_trans.head()                                 "
      ],
      "execution_count": 14,
      "outputs": [
        {
          "output_type": "execute_result",
          "data": {
            "text/html": [
              "<div>\n",
              "<style scoped>\n",
              "    .dataframe tbody tr th:only-of-type {\n",
              "        vertical-align: middle;\n",
              "    }\n",
              "\n",
              "    .dataframe tbody tr th {\n",
              "        vertical-align: top;\n",
              "    }\n",
              "\n",
              "    .dataframe thead th {\n",
              "        text-align: right;\n",
              "    }\n",
              "</style>\n",
              "<table border=\"1\" class=\"dataframe\">\n",
              "  <thead>\n",
              "    <tr style=\"text-align: right;\">\n",
              "      <th>index</th>\n",
              "      <th>customer_unique_id</th>\n",
              "      <th>2016-09</th>\n",
              "      <th>2016-10</th>\n",
              "      <th>2016-12</th>\n",
              "      <th>2017-01</th>\n",
              "      <th>2017-02</th>\n",
              "      <th>2017-03</th>\n",
              "      <th>2017-04</th>\n",
              "      <th>2017-05</th>\n",
              "      <th>2017-06</th>\n",
              "      <th>2017-07</th>\n",
              "      <th>2017-08</th>\n",
              "      <th>2017-09</th>\n",
              "      <th>2017-10</th>\n",
              "      <th>2017-11</th>\n",
              "      <th>2017-12</th>\n",
              "      <th>2018-01</th>\n",
              "      <th>2018-02</th>\n",
              "      <th>2018-03</th>\n",
              "      <th>2018-04</th>\n",
              "      <th>2018-05</th>\n",
              "      <th>2018-06</th>\n",
              "      <th>2018-07</th>\n",
              "      <th>2018-08</th>\n",
              "      <th>2018-09</th>\n",
              "    </tr>\n",
              "  </thead>\n",
              "  <tbody>\n",
              "    <tr>\n",
              "      <th>0</th>\n",
              "      <td>0000366f3b9a7992bf8c76cfdf3221e2</td>\n",
              "      <td>0</td>\n",
              "      <td>0</td>\n",
              "      <td>0</td>\n",
              "      <td>0</td>\n",
              "      <td>0</td>\n",
              "      <td>0</td>\n",
              "      <td>0</td>\n",
              "      <td>0</td>\n",
              "      <td>0</td>\n",
              "      <td>0</td>\n",
              "      <td>0</td>\n",
              "      <td>0</td>\n",
              "      <td>0</td>\n",
              "      <td>0</td>\n",
              "      <td>0</td>\n",
              "      <td>0</td>\n",
              "      <td>0</td>\n",
              "      <td>0</td>\n",
              "      <td>0</td>\n",
              "      <td>1</td>\n",
              "      <td>0</td>\n",
              "      <td>0</td>\n",
              "      <td>0</td>\n",
              "      <td>0</td>\n",
              "    </tr>\n",
              "    <tr>\n",
              "      <th>1</th>\n",
              "      <td>0000b849f77a49e4a4ce2b2a4ca5be3f</td>\n",
              "      <td>0</td>\n",
              "      <td>0</td>\n",
              "      <td>0</td>\n",
              "      <td>0</td>\n",
              "      <td>0</td>\n",
              "      <td>0</td>\n",
              "      <td>0</td>\n",
              "      <td>0</td>\n",
              "      <td>0</td>\n",
              "      <td>0</td>\n",
              "      <td>0</td>\n",
              "      <td>0</td>\n",
              "      <td>0</td>\n",
              "      <td>0</td>\n",
              "      <td>0</td>\n",
              "      <td>0</td>\n",
              "      <td>0</td>\n",
              "      <td>0</td>\n",
              "      <td>0</td>\n",
              "      <td>1</td>\n",
              "      <td>0</td>\n",
              "      <td>0</td>\n",
              "      <td>0</td>\n",
              "      <td>0</td>\n",
              "    </tr>\n",
              "    <tr>\n",
              "      <th>2</th>\n",
              "      <td>0000f46a3911fa3c0805444483337064</td>\n",
              "      <td>0</td>\n",
              "      <td>0</td>\n",
              "      <td>0</td>\n",
              "      <td>0</td>\n",
              "      <td>0</td>\n",
              "      <td>1</td>\n",
              "      <td>0</td>\n",
              "      <td>0</td>\n",
              "      <td>0</td>\n",
              "      <td>0</td>\n",
              "      <td>0</td>\n",
              "      <td>0</td>\n",
              "      <td>0</td>\n",
              "      <td>0</td>\n",
              "      <td>0</td>\n",
              "      <td>0</td>\n",
              "      <td>0</td>\n",
              "      <td>0</td>\n",
              "      <td>0</td>\n",
              "      <td>0</td>\n",
              "      <td>0</td>\n",
              "      <td>0</td>\n",
              "      <td>0</td>\n",
              "      <td>0</td>\n",
              "    </tr>\n",
              "    <tr>\n",
              "      <th>3</th>\n",
              "      <td>0000f6ccb0745a6a4b88665a16c9f078</td>\n",
              "      <td>0</td>\n",
              "      <td>0</td>\n",
              "      <td>0</td>\n",
              "      <td>0</td>\n",
              "      <td>0</td>\n",
              "      <td>0</td>\n",
              "      <td>0</td>\n",
              "      <td>0</td>\n",
              "      <td>0</td>\n",
              "      <td>0</td>\n",
              "      <td>0</td>\n",
              "      <td>0</td>\n",
              "      <td>1</td>\n",
              "      <td>0</td>\n",
              "      <td>0</td>\n",
              "      <td>0</td>\n",
              "      <td>0</td>\n",
              "      <td>0</td>\n",
              "      <td>0</td>\n",
              "      <td>0</td>\n",
              "      <td>0</td>\n",
              "      <td>0</td>\n",
              "      <td>0</td>\n",
              "      <td>0</td>\n",
              "    </tr>\n",
              "    <tr>\n",
              "      <th>4</th>\n",
              "      <td>0004aac84e0df4da2b147fca70cf8255</td>\n",
              "      <td>0</td>\n",
              "      <td>0</td>\n",
              "      <td>0</td>\n",
              "      <td>0</td>\n",
              "      <td>0</td>\n",
              "      <td>0</td>\n",
              "      <td>0</td>\n",
              "      <td>0</td>\n",
              "      <td>0</td>\n",
              "      <td>0</td>\n",
              "      <td>0</td>\n",
              "      <td>0</td>\n",
              "      <td>0</td>\n",
              "      <td>1</td>\n",
              "      <td>0</td>\n",
              "      <td>0</td>\n",
              "      <td>0</td>\n",
              "      <td>0</td>\n",
              "      <td>0</td>\n",
              "      <td>0</td>\n",
              "      <td>0</td>\n",
              "      <td>0</td>\n",
              "      <td>0</td>\n",
              "      <td>0</td>\n",
              "    </tr>\n",
              "  </tbody>\n",
              "</table>\n",
              "</div>"
            ],
            "text/plain": [
              "index                customer_unique_id  2016-09  ...  2018-08  2018-09\n",
              "0      0000366f3b9a7992bf8c76cfdf3221e2        0  ...        0        0\n",
              "1      0000b849f77a49e4a4ce2b2a4ca5be3f        0  ...        0        0\n",
              "2      0000f46a3911fa3c0805444483337064        0  ...        0        0\n",
              "3      0000f6ccb0745a6a4b88665a16c9f078        0  ...        0        0\n",
              "4      0004aac84e0df4da2b147fca70cf8255        0  ...        0        0\n",
              "\n",
              "[5 rows x 25 columns]"
            ]
          },
          "metadata": {},
          "execution_count": 14
        }
      ]
    },
    {
      "cell_type": "code",
      "metadata": {
        "id": "3TV3AxKIUiyb"
      },
      "source": [
        "# define y and X for further model training and prediction\n",
        "cols = [col for col in data_features.columns if col !='CustomerID']\n",
        "X = data_features[cols]\n",
        "y = cust_month_trans[['2018-08']]"
      ],
      "execution_count": 15,
      "outputs": []
    },
    {
      "cell_type": "code",
      "metadata": {
        "id": "KFz2fybfWQnH",
        "colab": {
          "base_uri": "https://localhost:8080/",
          "height": 419
        },
        "outputId": "ce2502df-b221-4016-849c-d314b16b02f8"
      },
      "source": [
        "X"
      ],
      "execution_count": 16,
      "outputs": [
        {
          "output_type": "execute_result",
          "data": {
            "text/html": [
              "<div>\n",
              "<style scoped>\n",
              "    .dataframe tbody tr th:only-of-type {\n",
              "        vertical-align: middle;\n",
              "    }\n",
              "\n",
              "    .dataframe tbody tr th {\n",
              "        vertical-align: top;\n",
              "    }\n",
              "\n",
              "    .dataframe thead th {\n",
              "        text-align: right;\n",
              "    }\n",
              "</style>\n",
              "<table border=\"1\" class=\"dataframe\">\n",
              "  <thead>\n",
              "    <tr style=\"text-align: right;\">\n",
              "      <th></th>\n",
              "      <th>Recency</th>\n",
              "      <th>Frequency</th>\n",
              "      <th>Monetary</th>\n",
              "      <th>QuantityAvg</th>\n",
              "      <th>QuantityTotal</th>\n",
              "    </tr>\n",
              "  </thead>\n",
              "  <tbody>\n",
              "    <tr>\n",
              "      <th>0</th>\n",
              "      <td>83</td>\n",
              "      <td>1</td>\n",
              "      <td>129.90</td>\n",
              "      <td>1.0</td>\n",
              "      <td>1</td>\n",
              "    </tr>\n",
              "    <tr>\n",
              "      <th>1</th>\n",
              "      <td>86</td>\n",
              "      <td>1</td>\n",
              "      <td>18.90</td>\n",
              "      <td>1.0</td>\n",
              "      <td>1</td>\n",
              "    </tr>\n",
              "    <tr>\n",
              "      <th>2</th>\n",
              "      <td>509</td>\n",
              "      <td>1</td>\n",
              "      <td>69.00</td>\n",
              "      <td>1.0</td>\n",
              "      <td>1</td>\n",
              "    </tr>\n",
              "    <tr>\n",
              "      <th>3</th>\n",
              "      <td>293</td>\n",
              "      <td>1</td>\n",
              "      <td>25.99</td>\n",
              "      <td>1.0</td>\n",
              "      <td>1</td>\n",
              "    </tr>\n",
              "    <tr>\n",
              "      <th>4</th>\n",
              "      <td>260</td>\n",
              "      <td>1</td>\n",
              "      <td>180.00</td>\n",
              "      <td>1.0</td>\n",
              "      <td>1</td>\n",
              "    </tr>\n",
              "    <tr>\n",
              "      <th>...</th>\n",
              "      <td>...</td>\n",
              "      <td>...</td>\n",
              "      <td>...</td>\n",
              "      <td>...</td>\n",
              "      <td>...</td>\n",
              "    </tr>\n",
              "    <tr>\n",
              "      <th>89178</th>\n",
              "      <td>419</td>\n",
              "      <td>1</td>\n",
              "      <td>1570.00</td>\n",
              "      <td>1.0</td>\n",
              "      <td>2</td>\n",
              "    </tr>\n",
              "    <tr>\n",
              "      <th>89179</th>\n",
              "      <td>234</td>\n",
              "      <td>1</td>\n",
              "      <td>64.89</td>\n",
              "      <td>1.0</td>\n",
              "      <td>1</td>\n",
              "    </tr>\n",
              "    <tr>\n",
              "      <th>89180</th>\n",
              "      <td>540</td>\n",
              "      <td>1</td>\n",
              "      <td>89.90</td>\n",
              "      <td>1.0</td>\n",
              "      <td>1</td>\n",
              "    </tr>\n",
              "    <tr>\n",
              "      <th>89181</th>\n",
              "      <td>91</td>\n",
              "      <td>1</td>\n",
              "      <td>115.00</td>\n",
              "      <td>1.0</td>\n",
              "      <td>1</td>\n",
              "    </tr>\n",
              "    <tr>\n",
              "      <th>89182</th>\n",
              "      <td>456</td>\n",
              "      <td>1</td>\n",
              "      <td>56.99</td>\n",
              "      <td>1.0</td>\n",
              "      <td>1</td>\n",
              "    </tr>\n",
              "  </tbody>\n",
              "</table>\n",
              "<p>89183 rows × 5 columns</p>\n",
              "</div>"
            ],
            "text/plain": [
              "       Recency  Frequency  Monetary  QuantityAvg  QuantityTotal\n",
              "0           83          1    129.90          1.0              1\n",
              "1           86          1     18.90          1.0              1\n",
              "2          509          1     69.00          1.0              1\n",
              "3          293          1     25.99          1.0              1\n",
              "4          260          1    180.00          1.0              1\n",
              "...        ...        ...       ...          ...            ...\n",
              "89178      419          1   1570.00          1.0              2\n",
              "89179      234          1     64.89          1.0              1\n",
              "89180      540          1     89.90          1.0              1\n",
              "89181       91          1    115.00          1.0              1\n",
              "89182      456          1     56.99          1.0              1\n",
              "\n",
              "[89183 rows x 5 columns]"
            ]
          },
          "metadata": {},
          "execution_count": 16
        }
      ]
    },
    {
      "cell_type": "code",
      "metadata": {
        "id": "LeZ7TagIWRDH",
        "colab": {
          "base_uri": "https://localhost:8080/",
          "height": 419
        },
        "outputId": "c3cacf68-ca5c-4af8-9aa5-a51f46e002dc"
      },
      "source": [
        "y"
      ],
      "execution_count": 17,
      "outputs": [
        {
          "output_type": "execute_result",
          "data": {
            "text/html": [
              "<div>\n",
              "<style scoped>\n",
              "    .dataframe tbody tr th:only-of-type {\n",
              "        vertical-align: middle;\n",
              "    }\n",
              "\n",
              "    .dataframe tbody tr th {\n",
              "        vertical-align: top;\n",
              "    }\n",
              "\n",
              "    .dataframe thead th {\n",
              "        text-align: right;\n",
              "    }\n",
              "</style>\n",
              "<table border=\"1\" class=\"dataframe\">\n",
              "  <thead>\n",
              "    <tr style=\"text-align: right;\">\n",
              "      <th>index</th>\n",
              "      <th>2018-08</th>\n",
              "    </tr>\n",
              "  </thead>\n",
              "  <tbody>\n",
              "    <tr>\n",
              "      <th>0</th>\n",
              "      <td>0</td>\n",
              "    </tr>\n",
              "    <tr>\n",
              "      <th>1</th>\n",
              "      <td>0</td>\n",
              "    </tr>\n",
              "    <tr>\n",
              "      <th>2</th>\n",
              "      <td>0</td>\n",
              "    </tr>\n",
              "    <tr>\n",
              "      <th>3</th>\n",
              "      <td>0</td>\n",
              "    </tr>\n",
              "    <tr>\n",
              "      <th>4</th>\n",
              "      <td>0</td>\n",
              "    </tr>\n",
              "    <tr>\n",
              "      <th>...</th>\n",
              "      <td>...</td>\n",
              "    </tr>\n",
              "    <tr>\n",
              "      <th>89178</th>\n",
              "      <td>0</td>\n",
              "    </tr>\n",
              "    <tr>\n",
              "      <th>89179</th>\n",
              "      <td>0</td>\n",
              "    </tr>\n",
              "    <tr>\n",
              "      <th>89180</th>\n",
              "      <td>0</td>\n",
              "    </tr>\n",
              "    <tr>\n",
              "      <th>89181</th>\n",
              "      <td>0</td>\n",
              "    </tr>\n",
              "    <tr>\n",
              "      <th>89182</th>\n",
              "      <td>0</td>\n",
              "    </tr>\n",
              "  </tbody>\n",
              "</table>\n",
              "<p>89183 rows × 1 columns</p>\n",
              "</div>"
            ],
            "text/plain": [
              "index  2018-08\n",
              "0            0\n",
              "1            0\n",
              "2            0\n",
              "3            0\n",
              "4            0\n",
              "...        ...\n",
              "89178        0\n",
              "89179        0\n",
              "89180        0\n",
              "89181        0\n",
              "89182        0\n",
              "\n",
              "[89183 rows x 1 columns]"
            ]
          },
          "metadata": {},
          "execution_count": 17
        }
      ]
    },
    {
      "cell_type": "code",
      "metadata": {
        "colab": {
          "base_uri": "https://localhost:8080/"
        },
        "id": "xQ2sLV1QxOWT",
        "outputId": "c0acde12-6d3f-4037-88b2-d40eb931ae0c"
      },
      "source": [
        "y.value_counts()"
      ],
      "execution_count": 18,
      "outputs": [
        {
          "output_type": "execute_result",
          "data": {
            "text/plain": [
              "2018-08\n",
              "0          89009\n",
              "1            170\n",
              "2              3\n",
              "3              1\n",
              "dtype: int64"
            ]
          },
          "metadata": {},
          "execution_count": 18
        }
      ]
    },
    {
      "cell_type": "code",
      "metadata": {
        "id": "aofV6bGqWR8j"
      },
      "source": [
        "# split data\n",
        "X_train, X_test, y_train, y_test = train_test_split(X, y, test_size = .2, random_state = 42)"
      ],
      "execution_count": 19,
      "outputs": []
    },
    {
      "cell_type": "code",
      "metadata": {
        "id": "ZhVLtn9A_S_y"
      },
      "source": [
        "# Define the pipeline\n",
        "pipeline = Pipeline([('scaler', StandardScaler()), \n",
        "                           ('model', LinearRegression())                           \n",
        "                          ])    "
      ],
      "execution_count": 20,
      "outputs": []
    },
    {
      "cell_type": "code",
      "metadata": {
        "colab": {
          "base_uri": "https://localhost:8080/"
        },
        "id": "WYtjDPNw_lD5",
        "outputId": "d5ecab76-bf2d-4831-a291-655e6b411f93"
      },
      "source": [
        "# train model\n",
        "pipeline.fit(X_train,y_train)"
      ],
      "execution_count": 21,
      "outputs": [
        {
          "output_type": "execute_result",
          "data": {
            "text/plain": [
              "Pipeline(memory=None,\n",
              "         steps=[('scaler',\n",
              "                 StandardScaler(copy=True, with_mean=True, with_std=True)),\n",
              "                ('model',\n",
              "                 LinearRegression(copy_X=True, fit_intercept=True, n_jobs=None,\n",
              "                                  normalize=False))],\n",
              "         verbose=False)"
            ]
          },
          "metadata": {},
          "execution_count": 21
        }
      ]
    },
    {
      "cell_type": "code",
      "metadata": {
        "id": "49UgdK6mBdM7"
      },
      "source": [
        "# make predictions\n",
        "train_pred_y = pipeline.predict(X_train)\n",
        "test_pred_y = pipeline.predict(X_test)"
      ],
      "execution_count": 22,
      "outputs": []
    },
    {
      "cell_type": "code",
      "metadata": {
        "colab": {
          "base_uri": "https://localhost:8080/"
        },
        "id": "ciLOaWDdC0Xr",
        "outputId": "174dd1f0-7320-4eb5-a3ca-7031ccd137db"
      },
      "source": [
        "# calculate MAE using scikit-learn\n",
        "print(\"MAE:\",mean_absolute_error(y_train,train_pred_y))\n",
        "print(\"MSE\",mean_squared_error(y_train, train_pred_y))\n",
        "# compute the RMSE of our predictions\n",
        "print(\"RMSE:\",np.sqrt(mean_squared_error(y_train, train_pred_y)))"
      ],
      "execution_count": 23,
      "outputs": [
        {
          "output_type": "stream",
          "name": "stdout",
          "text": [
            "MAE: 0.0037875899265526988\n",
            "MSE 0.0019180325327291562\n",
            "RMSE: 0.0437953483001238\n"
          ]
        }
      ]
    },
    {
      "cell_type": "code",
      "metadata": {
        "colab": {
          "base_uri": "https://localhost:8080/"
        },
        "id": "ahM33MePCG3Y",
        "outputId": "bc0b356e-8186-4393-f792-2203162d04b1"
      },
      "source": [
        "# calculate MAE using scikit-learn\n",
        "print(\"MAE:\",mean_absolute_error(y_test,test_pred_y))\n",
        "print(\"MSE\",mean_squared_error(y_test, test_pred_y))\n",
        "# compute the RMSE of our predictions\n",
        "print(\"RMSE:\",np.sqrt(mean_squared_error(y_test, test_pred_y)))"
      ],
      "execution_count": 24,
      "outputs": [
        {
          "output_type": "stream",
          "name": "stdout",
          "text": [
            "MAE: 0.004548733253973248\n",
            "MSE 0.002958016857975107\n",
            "RMSE: 0.05438765354356728\n"
          ]
        }
      ]
    },
    {
      "cell_type": "code",
      "metadata": {
        "colab": {
          "base_uri": "https://localhost:8080/",
          "height": 204
        },
        "id": "BUUCKjOxldWL",
        "outputId": "2dc1603a-02bd-4aff-ef1e-6772a079fa02"
      },
      "source": [
        "df_pred = pd.DataFrame(test_pred_y, columns=['prediction'])\n",
        "df_pred.head()"
      ],
      "execution_count": 27,
      "outputs": [
        {
          "output_type": "execute_result",
          "data": {
            "text/html": [
              "<div>\n",
              "<style scoped>\n",
              "    .dataframe tbody tr th:only-of-type {\n",
              "        vertical-align: middle;\n",
              "    }\n",
              "\n",
              "    .dataframe tbody tr th {\n",
              "        vertical-align: top;\n",
              "    }\n",
              "\n",
              "    .dataframe thead th {\n",
              "        text-align: right;\n",
              "    }\n",
              "</style>\n",
              "<table border=\"1\" class=\"dataframe\">\n",
              "  <thead>\n",
              "    <tr style=\"text-align: right;\">\n",
              "      <th></th>\n",
              "      <th>prediction</th>\n",
              "    </tr>\n",
              "  </thead>\n",
              "  <tbody>\n",
              "    <tr>\n",
              "      <th>0</th>\n",
              "      <td>0.002028</td>\n",
              "    </tr>\n",
              "    <tr>\n",
              "      <th>1</th>\n",
              "      <td>0.002428</td>\n",
              "    </tr>\n",
              "    <tr>\n",
              "      <th>2</th>\n",
              "      <td>0.000888</td>\n",
              "    </tr>\n",
              "    <tr>\n",
              "      <th>3</th>\n",
              "      <td>0.001886</td>\n",
              "    </tr>\n",
              "    <tr>\n",
              "      <th>4</th>\n",
              "      <td>0.001192</td>\n",
              "    </tr>\n",
              "  </tbody>\n",
              "</table>\n",
              "</div>"
            ],
            "text/plain": [
              "   prediction\n",
              "0    0.002028\n",
              "1    0.002428\n",
              "2    0.000888\n",
              "3    0.001886\n",
              "4    0.001192"
            ]
          },
          "metadata": {},
          "execution_count": 27
        }
      ]
    },
    {
      "cell_type": "code",
      "metadata": {
        "colab": {
          "base_uri": "https://localhost:8080/"
        },
        "id": "whvBtgnJlfvQ",
        "outputId": "1ca146d6-59d7-4e21-dead-65f1165e5b69"
      },
      "source": [
        "df_pred.value_counts()"
      ],
      "execution_count": 28,
      "outputs": [
        {
          "output_type": "execute_result",
          "data": {
            "text/plain": [
              "prediction\n",
              " 0.001421     15\n",
              " 0.001340      8\n",
              " 0.001426      7\n",
              " 0.001582      6\n",
              " 0.002129      5\n",
              "              ..\n",
              " 0.001838      1\n",
              " 0.001838      1\n",
              " 0.001838      1\n",
              " 0.001838      1\n",
              "-0.010047      1\n",
              "Length: 16539, dtype: int64"
            ]
          },
          "metadata": {},
          "execution_count": 28
        }
      ]
    }
  ]
}