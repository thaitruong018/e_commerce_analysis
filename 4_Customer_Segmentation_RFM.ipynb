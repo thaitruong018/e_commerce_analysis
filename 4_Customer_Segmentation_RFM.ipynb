{
  "nbformat": 4,
  "nbformat_minor": 0,
  "metadata": {
    "colab": {
      "name": "4_Customer_Segmentation_RFM.ipynb",
      "provenance": [],
      "collapsed_sections": [
        "Rbbv2jKhWOkZ",
        "-GakLHyUYrPY"
      ],
      "authorship_tag": "ABX9TyNpoUVig2SG2Cah3v9VuAhz",
      "include_colab_link": true
    },
    "kernelspec": {
      "name": "python3",
      "display_name": "Python 3"
    },
    "language_info": {
      "name": "python"
    }
  },
  "cells": [
    {
      "cell_type": "markdown",
      "metadata": {
        "id": "view-in-github",
        "colab_type": "text"
      },
      "source": [
        "<a href=\"https://colab.research.google.com/github/thaitruong018/e_commerce_analysis/blob/main/4_Customer_Segmentation_RFM.ipynb\" target=\"_parent\"><img src=\"https://colab.research.google.com/assets/colab-badge.svg\" alt=\"Open In Colab\"/></a>"
      ]
    },
    {
      "cell_type": "markdown",
      "metadata": {
        "id": "byTyACAPTFvt"
      },
      "source": [
        "## What is Customer segmentation?  \n",
        "Customer segmentation is the process of dividing customers into groups based on common characteristics so companies can market to each group effectively and appropriately.  \n",
        "In business to customer marketing, companies often segment customers according to demographics that include:  \n",
        "* Age\n",
        "* Gender  \n",
        "* Marital status  \n",
        "* Location (urban, suburban, rural)\n"
      ]
    },
    {
      "cell_type": "markdown",
      "metadata": {
        "id": "Rbbv2jKhWOkZ"
      },
      "source": [
        "## Set-up"
      ]
    },
    {
      "cell_type": "code",
      "metadata": {
        "colab": {
          "base_uri": "https://localhost:8080/"
        },
        "id": "jMs9jGn0SP2N",
        "outputId": "cd6165c8-5c6b-4566-e02d-864855514d0e"
      },
      "source": [
        "# Connect to google drive\n",
        "from google.colab import drive\n",
        "drive.mount('/content/gdrive')"
      ],
      "execution_count": null,
      "outputs": [
        {
          "output_type": "stream",
          "name": "stdout",
          "text": [
            "Mounted at /content/gdrive\n"
          ]
        }
      ]
    },
    {
      "cell_type": "code",
      "metadata": {
        "colab": {
          "base_uri": "https://localhost:8080/"
        },
        "id": "c7s3FgmVcb0q",
        "outputId": "935ef3c7-dc17-49a0-fed6-0ebcdfb90afe"
      },
      "source": [
        "# install pywaffle\n",
        "!pip install pywaffle"
      ],
      "execution_count": null,
      "outputs": [
        {
          "output_type": "stream",
          "name": "stdout",
          "text": [
            "Collecting pywaffle\n",
            "  Downloading pywaffle-0.6.3-py2.py3-none-any.whl (526 kB)\n",
            "\u001b[?25l\r\u001b[K     |▋                               | 10 kB 12.1 MB/s eta 0:00:01\r\u001b[K     |█▎                              | 20 kB 16.4 MB/s eta 0:00:01\r\u001b[K     |█▉                              | 30 kB 20.5 MB/s eta 0:00:01\r\u001b[K     |██▌                             | 40 kB 24.1 MB/s eta 0:00:01\r\u001b[K     |███                             | 51 kB 10.2 MB/s eta 0:00:01\r\u001b[K     |███▊                            | 61 kB 11.4 MB/s eta 0:00:01\r\u001b[K     |████▍                           | 71 kB 6.5 MB/s eta 0:00:01\r\u001b[K     |█████                           | 81 kB 7.1 MB/s eta 0:00:01\r\u001b[K     |█████▋                          | 92 kB 7.9 MB/s eta 0:00:01\r\u001b[K     |██████▏                         | 102 kB 8.2 MB/s eta 0:00:01\r\u001b[K     |██████▉                         | 112 kB 8.2 MB/s eta 0:00:01\r\u001b[K     |███████▌                        | 122 kB 8.2 MB/s eta 0:00:01\r\u001b[K     |████████                        | 133 kB 8.2 MB/s eta 0:00:01\r\u001b[K     |████████▊                       | 143 kB 8.2 MB/s eta 0:00:01\r\u001b[K     |█████████▎                      | 153 kB 8.2 MB/s eta 0:00:01\r\u001b[K     |██████████                      | 163 kB 8.2 MB/s eta 0:00:01\r\u001b[K     |██████████▋                     | 174 kB 8.2 MB/s eta 0:00:01\r\u001b[K     |███████████▏                    | 184 kB 8.2 MB/s eta 0:00:01\r\u001b[K     |███████████▉                    | 194 kB 8.2 MB/s eta 0:00:01\r\u001b[K     |████████████▍                   | 204 kB 8.2 MB/s eta 0:00:01\r\u001b[K     |█████████████                   | 215 kB 8.2 MB/s eta 0:00:01\r\u001b[K     |█████████████▊                  | 225 kB 8.2 MB/s eta 0:00:01\r\u001b[K     |██████████████▎                 | 235 kB 8.2 MB/s eta 0:00:01\r\u001b[K     |███████████████                 | 245 kB 8.2 MB/s eta 0:00:01\r\u001b[K     |███████████████▌                | 256 kB 8.2 MB/s eta 0:00:01\r\u001b[K     |████████████████▏               | 266 kB 8.2 MB/s eta 0:00:01\r\u001b[K     |████████████████▉               | 276 kB 8.2 MB/s eta 0:00:01\r\u001b[K     |█████████████████▍              | 286 kB 8.2 MB/s eta 0:00:01\r\u001b[K     |██████████████████              | 296 kB 8.2 MB/s eta 0:00:01\r\u001b[K     |██████████████████▋             | 307 kB 8.2 MB/s eta 0:00:01\r\u001b[K     |███████████████████▎            | 317 kB 8.2 MB/s eta 0:00:01\r\u001b[K     |████████████████████            | 327 kB 8.2 MB/s eta 0:00:01\r\u001b[K     |████████████████████▌           | 337 kB 8.2 MB/s eta 0:00:01\r\u001b[K     |█████████████████████▏          | 348 kB 8.2 MB/s eta 0:00:01\r\u001b[K     |█████████████████████▊          | 358 kB 8.2 MB/s eta 0:00:01\r\u001b[K     |██████████████████████▍         | 368 kB 8.2 MB/s eta 0:00:01\r\u001b[K     |███████████████████████         | 378 kB 8.2 MB/s eta 0:00:01\r\u001b[K     |███████████████████████▋        | 389 kB 8.2 MB/s eta 0:00:01\r\u001b[K     |████████████████████████▎       | 399 kB 8.2 MB/s eta 0:00:01\r\u001b[K     |████████████████████████▉       | 409 kB 8.2 MB/s eta 0:00:01\r\u001b[K     |█████████████████████████▌      | 419 kB 8.2 MB/s eta 0:00:01\r\u001b[K     |██████████████████████████▏     | 430 kB 8.2 MB/s eta 0:00:01\r\u001b[K     |██████████████████████████▊     | 440 kB 8.2 MB/s eta 0:00:01\r\u001b[K     |███████████████████████████▍    | 450 kB 8.2 MB/s eta 0:00:01\r\u001b[K     |████████████████████████████    | 460 kB 8.2 MB/s eta 0:00:01\r\u001b[K     |████████████████████████████▋   | 471 kB 8.2 MB/s eta 0:00:01\r\u001b[K     |█████████████████████████████▎  | 481 kB 8.2 MB/s eta 0:00:01\r\u001b[K     |█████████████████████████████▉  | 491 kB 8.2 MB/s eta 0:00:01\r\u001b[K     |██████████████████████████████▌ | 501 kB 8.2 MB/s eta 0:00:01\r\u001b[K     |███████████████████████████████ | 512 kB 8.2 MB/s eta 0:00:01\r\u001b[K     |███████████████████████████████▊| 522 kB 8.2 MB/s eta 0:00:01\r\u001b[K     |████████████████████████████████| 526 kB 8.2 MB/s \n",
            "\u001b[?25hRequirement already satisfied: matplotlib in /usr/local/lib/python3.7/dist-packages (from pywaffle) (3.2.2)\n",
            "Requirement already satisfied: pyparsing!=2.0.4,!=2.1.2,!=2.1.6,>=2.0.1 in /usr/local/lib/python3.7/dist-packages (from matplotlib->pywaffle) (2.4.7)\n",
            "Requirement already satisfied: numpy>=1.11 in /usr/local/lib/python3.7/dist-packages (from matplotlib->pywaffle) (1.19.5)\n",
            "Requirement already satisfied: cycler>=0.10 in /usr/local/lib/python3.7/dist-packages (from matplotlib->pywaffle) (0.10.0)\n",
            "Requirement already satisfied: python-dateutil>=2.1 in /usr/local/lib/python3.7/dist-packages (from matplotlib->pywaffle) (2.8.2)\n",
            "Requirement already satisfied: kiwisolver>=1.0.1 in /usr/local/lib/python3.7/dist-packages (from matplotlib->pywaffle) (1.3.2)\n",
            "Requirement already satisfied: six in /usr/local/lib/python3.7/dist-packages (from cycler>=0.10->matplotlib->pywaffle) (1.15.0)\n",
            "Installing collected packages: pywaffle\n",
            "Successfully installed pywaffle-0.6.3\n"
          ]
        }
      ]
    },
    {
      "cell_type": "code",
      "metadata": {
        "id": "BMjrid09VKbo"
      },
      "source": [
        "# import libraries\n",
        "import pandas as pd\n",
        "import os, re\n",
        "import datetime as dt\n",
        "import seaborn as sns\n",
        "import matplotlib.pyplot as plt\n",
        "import matplotlib.dates as mdates\n",
        "from pywaffle import Waffle\n",
        "from matplotlib import gridspec\n",
        "from sklearn.preprocessing import StandardScaler\n",
        "from sklearn.cluster import KMeans"
      ],
      "execution_count": null,
      "outputs": []
    },
    {
      "cell_type": "code",
      "metadata": {
        "id": "uA4I1ROKc2_C"
      },
      "source": [
        "# define a func to plit waffle chart\n",
        "def plot_waffle_chart_(df, metric, agg, title_, group='sub_segment'):\n",
        "  dict_revenue = dict(round(df.groupby(group).agg({metric:agg}),0)[metric])\n",
        "  plt.figure( FigureClass=Waffle, rows = 5, columns =10, values = dict_revenue,\n",
        "             labels =[(x,y) for x,y in dict_revenue.items()], \n",
        "             legend ={'loc':'lower left', 'bbox_to_anchor':(1,0)},\n",
        "             figsize= (15,5)\n",
        "             )\n",
        "  plt.title(title_)\n",
        "# define a funtion to convert datatype\n",
        "def convert_to_dt(df, cols):\n",
        "  for col in cols:\n",
        "    df[col] = pd.to_datetime(df[col], format= '%Y-%m-%d').dt.date"
      ],
      "execution_count": null,
      "outputs": []
    },
    {
      "cell_type": "code",
      "metadata": {
        "id": "DNmpe1XkWaea"
      },
      "source": [
        "# path to data\n",
        "path = '/content/gdrive/MyDrive/brazilian_ecommerce'"
      ],
      "execution_count": null,
      "outputs": []
    },
    {
      "cell_type": "markdown",
      "metadata": {
        "id": "-GakLHyUYrPY"
      },
      "source": [
        "## Data"
      ]
    },
    {
      "cell_type": "code",
      "metadata": {
        "colab": {
          "base_uri": "https://localhost:8080/",
          "height": 241
        },
        "id": "njOUC4q4a3le",
        "outputId": "409b9418-f945-4969-cf2c-21179b87b368"
      },
      "source": [
        "# read data\n",
        "df_orders = pd.read_csv(os.path.join(path,'df_order_items_products_customers.csv'))\n",
        "df_orders.head()"
      ],
      "execution_count": null,
      "outputs": [
        {
          "output_type": "execute_result",
          "data": {
            "text/html": [
              "<div>\n",
              "<style scoped>\n",
              "    .dataframe tbody tr th:only-of-type {\n",
              "        vertical-align: middle;\n",
              "    }\n",
              "\n",
              "    .dataframe tbody tr th {\n",
              "        vertical-align: top;\n",
              "    }\n",
              "\n",
              "    .dataframe thead th {\n",
              "        text-align: right;\n",
              "    }\n",
              "</style>\n",
              "<table border=\"1\" class=\"dataframe\">\n",
              "  <thead>\n",
              "    <tr style=\"text-align: right;\">\n",
              "      <th></th>\n",
              "      <th>order_id</th>\n",
              "      <th>customer_id</th>\n",
              "      <th>order_status</th>\n",
              "      <th>order_purchase_timestamp</th>\n",
              "      <th>order_approved_at</th>\n",
              "      <th>order_delivered_carrier_date</th>\n",
              "      <th>order_delivered_customer_date</th>\n",
              "      <th>order_estimated_delivery_date</th>\n",
              "      <th>product_id</th>\n",
              "      <th>quantity</th>\n",
              "      <th>seller_id</th>\n",
              "      <th>shipping_limit_date</th>\n",
              "      <th>price</th>\n",
              "      <th>freight_value</th>\n",
              "      <th>product_category_name</th>\n",
              "      <th>customer_unique_id</th>\n",
              "      <th>customer_zip_code_prefix</th>\n",
              "      <th>customer_city</th>\n",
              "      <th>customer_state</th>\n",
              "    </tr>\n",
              "  </thead>\n",
              "  <tbody>\n",
              "    <tr>\n",
              "      <th>0</th>\n",
              "      <td>2e7a8482f6fb09756ca50c10d7bfc047</td>\n",
              "      <td>08c5351a6aca1c1589a38f244edeee9d</td>\n",
              "      <td>shipped</td>\n",
              "      <td>2016-09-04</td>\n",
              "      <td>2016-10-07</td>\n",
              "      <td>2016-10-18</td>\n",
              "      <td>2016-11-09</td>\n",
              "      <td>2016-10-20</td>\n",
              "      <td>c1488892604e4ba5cff5b4eb4d595400</td>\n",
              "      <td>1</td>\n",
              "      <td>1554a68530182680ad5c8b042c3ab563</td>\n",
              "      <td>2016-10-26 18:25:19</td>\n",
              "      <td>39.99</td>\n",
              "      <td>31.67</td>\n",
              "      <td>moveis_decoracao</td>\n",
              "      <td>b7d76e111c89f7ebf14761390f0f7d17</td>\n",
              "      <td>69309</td>\n",
              "      <td>boa vista</td>\n",
              "      <td>RR</td>\n",
              "    </tr>\n",
              "    <tr>\n",
              "      <th>1</th>\n",
              "      <td>2e7a8482f6fb09756ca50c10d7bfc047</td>\n",
              "      <td>08c5351a6aca1c1589a38f244edeee9d</td>\n",
              "      <td>shipped</td>\n",
              "      <td>2016-09-04</td>\n",
              "      <td>2016-10-07</td>\n",
              "      <td>2016-10-18</td>\n",
              "      <td>2016-11-09</td>\n",
              "      <td>2016-10-20</td>\n",
              "      <td>f293394c72c9b5fafd7023301fc21fc2</td>\n",
              "      <td>1</td>\n",
              "      <td>1554a68530182680ad5c8b042c3ab563</td>\n",
              "      <td>2016-10-26 18:25:19</td>\n",
              "      <td>32.90</td>\n",
              "      <td>31.67</td>\n",
              "      <td>moveis_decoracao</td>\n",
              "      <td>b7d76e111c89f7ebf14761390f0f7d17</td>\n",
              "      <td>69309</td>\n",
              "      <td>boa vista</td>\n",
              "      <td>RR</td>\n",
              "    </tr>\n",
              "    <tr>\n",
              "      <th>2</th>\n",
              "      <td>35d3a51724a47ef1d0b89911e39cc4ff</td>\n",
              "      <td>27ab53f26192510ff85872aeb3759dcc</td>\n",
              "      <td>delivered</td>\n",
              "      <td>2016-10-04</td>\n",
              "      <td>2016-10-05</td>\n",
              "      <td>2016-10-14</td>\n",
              "      <td>2016-10-26</td>\n",
              "      <td>2016-12-20</td>\n",
              "      <td>c1488892604e4ba5cff5b4eb4d595400</td>\n",
              "      <td>1</td>\n",
              "      <td>1554a68530182680ad5c8b042c3ab563</td>\n",
              "      <td>2016-10-14 02:44:30</td>\n",
              "      <td>39.99</td>\n",
              "      <td>22.34</td>\n",
              "      <td>moveis_decoracao</td>\n",
              "      <td>f922896769e9517ea3c630f3c8de86d0</td>\n",
              "      <td>96832</td>\n",
              "      <td>santa cruz do sul</td>\n",
              "      <td>RS</td>\n",
              "    </tr>\n",
              "    <tr>\n",
              "      <th>3</th>\n",
              "      <td>c4f710df20f7d1500da1aef81a993f65</td>\n",
              "      <td>4b671f05b6eb9dc1d2c1bae9c8c78536</td>\n",
              "      <td>delivered</td>\n",
              "      <td>2016-10-10</td>\n",
              "      <td>2016-10-10</td>\n",
              "      <td>2016-10-18</td>\n",
              "      <td>2016-10-26</td>\n",
              "      <td>2016-12-14</td>\n",
              "      <td>c1488892604e4ba5cff5b4eb4d595400</td>\n",
              "      <td>1</td>\n",
              "      <td>1554a68530182680ad5c8b042c3ab563</td>\n",
              "      <td>2016-10-26 16:35:46</td>\n",
              "      <td>39.99</td>\n",
              "      <td>11.80</td>\n",
              "      <td>moveis_decoracao</td>\n",
              "      <td>0ecf7f65b5ff3b9e61b637e59f495e0a</td>\n",
              "      <td>30411</td>\n",
              "      <td>belo horizonte</td>\n",
              "      <td>MG</td>\n",
              "    </tr>\n",
              "    <tr>\n",
              "      <th>4</th>\n",
              "      <td>81e5043198a44ddeb226002ff55d8ad4</td>\n",
              "      <td>ddd15ef77c83eea8c534d2896173a927</td>\n",
              "      <td>delivered</td>\n",
              "      <td>2017-01-09</td>\n",
              "      <td>2017-01-09</td>\n",
              "      <td>2017-01-09</td>\n",
              "      <td>2017-02-24</td>\n",
              "      <td>2017-02-24</td>\n",
              "      <td>c1488892604e4ba5cff5b4eb4d595400</td>\n",
              "      <td>2</td>\n",
              "      <td>1554a68530182680ad5c8b042c3ab563</td>\n",
              "      <td>2017-01-13 00:37:18</td>\n",
              "      <td>38.50</td>\n",
              "      <td>15.56</td>\n",
              "      <td>moveis_decoracao</td>\n",
              "      <td>853ba75a0b423722ccf270eea3b4cfe4</td>\n",
              "      <td>21843</td>\n",
              "      <td>rio de janeiro</td>\n",
              "      <td>RJ</td>\n",
              "    </tr>\n",
              "  </tbody>\n",
              "</table>\n",
              "</div>"
            ],
            "text/plain": [
              "                           order_id  ... customer_state\n",
              "0  2e7a8482f6fb09756ca50c10d7bfc047  ...             RR\n",
              "1  2e7a8482f6fb09756ca50c10d7bfc047  ...             RR\n",
              "2  35d3a51724a47ef1d0b89911e39cc4ff  ...             RS\n",
              "3  c4f710df20f7d1500da1aef81a993f65  ...             MG\n",
              "4  81e5043198a44ddeb226002ff55d8ad4  ...             RJ\n",
              "\n",
              "[5 rows x 19 columns]"
            ]
          },
          "metadata": {},
          "execution_count": 258
        }
      ]
    },
    {
      "cell_type": "code",
      "metadata": {
        "colab": {
          "base_uri": "https://localhost:8080/"
        },
        "id": "0NQy5A2bCBtq",
        "outputId": "b084bca8-ff71-4272-b8f7-d0e28dd51f9d"
      },
      "source": [
        "# overall info\n",
        "df_orders.info()"
      ],
      "execution_count": null,
      "outputs": [
        {
          "output_type": "stream",
          "name": "stdout",
          "text": [
            "<class 'pandas.core.frame.DataFrame'>\n",
            "RangeIndex: 102425 entries, 0 to 102424\n",
            "Data columns (total 19 columns):\n",
            " #   Column                         Non-Null Count   Dtype  \n",
            "---  ------                         --------------   -----  \n",
            " 0   order_id                       102425 non-null  object \n",
            " 1   customer_id                    102425 non-null  object \n",
            " 2   order_status                   102425 non-null  object \n",
            " 3   order_purchase_timestamp       102425 non-null  object \n",
            " 4   order_approved_at              102425 non-null  object \n",
            " 5   order_delivered_carrier_date   102425 non-null  object \n",
            " 6   order_delivered_customer_date  102425 non-null  object \n",
            " 7   order_estimated_delivery_date  102425 non-null  object \n",
            " 8   product_id                     102425 non-null  object \n",
            " 9   quantity                       102425 non-null  int64  \n",
            " 10  seller_id                      102425 non-null  object \n",
            " 11  shipping_limit_date            102425 non-null  object \n",
            " 12  price                          102425 non-null  float64\n",
            " 13  freight_value                  102425 non-null  float64\n",
            " 14  product_category_name          102425 non-null  object \n",
            " 15  customer_unique_id             102425 non-null  object \n",
            " 16  customer_zip_code_prefix       102425 non-null  int64  \n",
            " 17  customer_city                  102425 non-null  object \n",
            " 18  customer_state                 102425 non-null  object \n",
            "dtypes: float64(2), int64(2), object(15)\n",
            "memory usage: 14.8+ MB\n"
          ]
        }
      ]
    },
    {
      "cell_type": "code",
      "metadata": {
        "colab": {
          "base_uri": "https://localhost:8080/",
          "height": 241
        },
        "id": "ePlItM6lELfH",
        "outputId": "73accc61-5a3a-4716-a2c9-a23f2f929dd8"
      },
      "source": [
        "# converting date\n",
        "cols = ['order_purchase_timestamp','order_approved_at','order_delivered_carrier_date',\n",
        "                       'order_delivered_customer_date','order_estimated_delivery_date','shipping_limit_date' ]\n",
        "convert_to_dt(df_orders, cols)\n",
        "df_orders.head()"
      ],
      "execution_count": null,
      "outputs": [
        {
          "output_type": "execute_result",
          "data": {
            "text/html": [
              "<div>\n",
              "<style scoped>\n",
              "    .dataframe tbody tr th:only-of-type {\n",
              "        vertical-align: middle;\n",
              "    }\n",
              "\n",
              "    .dataframe tbody tr th {\n",
              "        vertical-align: top;\n",
              "    }\n",
              "\n",
              "    .dataframe thead th {\n",
              "        text-align: right;\n",
              "    }\n",
              "</style>\n",
              "<table border=\"1\" class=\"dataframe\">\n",
              "  <thead>\n",
              "    <tr style=\"text-align: right;\">\n",
              "      <th></th>\n",
              "      <th>order_id</th>\n",
              "      <th>customer_id</th>\n",
              "      <th>order_status</th>\n",
              "      <th>order_purchase_timestamp</th>\n",
              "      <th>order_approved_at</th>\n",
              "      <th>order_delivered_carrier_date</th>\n",
              "      <th>order_delivered_customer_date</th>\n",
              "      <th>order_estimated_delivery_date</th>\n",
              "      <th>product_id</th>\n",
              "      <th>quantity</th>\n",
              "      <th>seller_id</th>\n",
              "      <th>shipping_limit_date</th>\n",
              "      <th>price</th>\n",
              "      <th>freight_value</th>\n",
              "      <th>product_category_name</th>\n",
              "      <th>customer_unique_id</th>\n",
              "      <th>customer_zip_code_prefix</th>\n",
              "      <th>customer_city</th>\n",
              "      <th>customer_state</th>\n",
              "    </tr>\n",
              "  </thead>\n",
              "  <tbody>\n",
              "    <tr>\n",
              "      <th>0</th>\n",
              "      <td>2e7a8482f6fb09756ca50c10d7bfc047</td>\n",
              "      <td>08c5351a6aca1c1589a38f244edeee9d</td>\n",
              "      <td>shipped</td>\n",
              "      <td>2016-09-04</td>\n",
              "      <td>2016-10-07</td>\n",
              "      <td>2016-10-18</td>\n",
              "      <td>2016-11-09</td>\n",
              "      <td>2016-10-20</td>\n",
              "      <td>c1488892604e4ba5cff5b4eb4d595400</td>\n",
              "      <td>1</td>\n",
              "      <td>1554a68530182680ad5c8b042c3ab563</td>\n",
              "      <td>2016-10-26</td>\n",
              "      <td>39.99</td>\n",
              "      <td>31.67</td>\n",
              "      <td>moveis_decoracao</td>\n",
              "      <td>b7d76e111c89f7ebf14761390f0f7d17</td>\n",
              "      <td>69309</td>\n",
              "      <td>boa vista</td>\n",
              "      <td>RR</td>\n",
              "    </tr>\n",
              "    <tr>\n",
              "      <th>1</th>\n",
              "      <td>2e7a8482f6fb09756ca50c10d7bfc047</td>\n",
              "      <td>08c5351a6aca1c1589a38f244edeee9d</td>\n",
              "      <td>shipped</td>\n",
              "      <td>2016-09-04</td>\n",
              "      <td>2016-10-07</td>\n",
              "      <td>2016-10-18</td>\n",
              "      <td>2016-11-09</td>\n",
              "      <td>2016-10-20</td>\n",
              "      <td>f293394c72c9b5fafd7023301fc21fc2</td>\n",
              "      <td>1</td>\n",
              "      <td>1554a68530182680ad5c8b042c3ab563</td>\n",
              "      <td>2016-10-26</td>\n",
              "      <td>32.90</td>\n",
              "      <td>31.67</td>\n",
              "      <td>moveis_decoracao</td>\n",
              "      <td>b7d76e111c89f7ebf14761390f0f7d17</td>\n",
              "      <td>69309</td>\n",
              "      <td>boa vista</td>\n",
              "      <td>RR</td>\n",
              "    </tr>\n",
              "    <tr>\n",
              "      <th>2</th>\n",
              "      <td>35d3a51724a47ef1d0b89911e39cc4ff</td>\n",
              "      <td>27ab53f26192510ff85872aeb3759dcc</td>\n",
              "      <td>delivered</td>\n",
              "      <td>2016-10-04</td>\n",
              "      <td>2016-10-05</td>\n",
              "      <td>2016-10-14</td>\n",
              "      <td>2016-10-26</td>\n",
              "      <td>2016-12-20</td>\n",
              "      <td>c1488892604e4ba5cff5b4eb4d595400</td>\n",
              "      <td>1</td>\n",
              "      <td>1554a68530182680ad5c8b042c3ab563</td>\n",
              "      <td>2016-10-14</td>\n",
              "      <td>39.99</td>\n",
              "      <td>22.34</td>\n",
              "      <td>moveis_decoracao</td>\n",
              "      <td>f922896769e9517ea3c630f3c8de86d0</td>\n",
              "      <td>96832</td>\n",
              "      <td>santa cruz do sul</td>\n",
              "      <td>RS</td>\n",
              "    </tr>\n",
              "    <tr>\n",
              "      <th>3</th>\n",
              "      <td>c4f710df20f7d1500da1aef81a993f65</td>\n",
              "      <td>4b671f05b6eb9dc1d2c1bae9c8c78536</td>\n",
              "      <td>delivered</td>\n",
              "      <td>2016-10-10</td>\n",
              "      <td>2016-10-10</td>\n",
              "      <td>2016-10-18</td>\n",
              "      <td>2016-10-26</td>\n",
              "      <td>2016-12-14</td>\n",
              "      <td>c1488892604e4ba5cff5b4eb4d595400</td>\n",
              "      <td>1</td>\n",
              "      <td>1554a68530182680ad5c8b042c3ab563</td>\n",
              "      <td>2016-10-26</td>\n",
              "      <td>39.99</td>\n",
              "      <td>11.80</td>\n",
              "      <td>moveis_decoracao</td>\n",
              "      <td>0ecf7f65b5ff3b9e61b637e59f495e0a</td>\n",
              "      <td>30411</td>\n",
              "      <td>belo horizonte</td>\n",
              "      <td>MG</td>\n",
              "    </tr>\n",
              "    <tr>\n",
              "      <th>4</th>\n",
              "      <td>81e5043198a44ddeb226002ff55d8ad4</td>\n",
              "      <td>ddd15ef77c83eea8c534d2896173a927</td>\n",
              "      <td>delivered</td>\n",
              "      <td>2017-01-09</td>\n",
              "      <td>2017-01-09</td>\n",
              "      <td>2017-01-09</td>\n",
              "      <td>2017-02-24</td>\n",
              "      <td>2017-02-24</td>\n",
              "      <td>c1488892604e4ba5cff5b4eb4d595400</td>\n",
              "      <td>2</td>\n",
              "      <td>1554a68530182680ad5c8b042c3ab563</td>\n",
              "      <td>2017-01-13</td>\n",
              "      <td>38.50</td>\n",
              "      <td>15.56</td>\n",
              "      <td>moveis_decoracao</td>\n",
              "      <td>853ba75a0b423722ccf270eea3b4cfe4</td>\n",
              "      <td>21843</td>\n",
              "      <td>rio de janeiro</td>\n",
              "      <td>RJ</td>\n",
              "    </tr>\n",
              "  </tbody>\n",
              "</table>\n",
              "</div>"
            ],
            "text/plain": [
              "                           order_id  ... customer_state\n",
              "0  2e7a8482f6fb09756ca50c10d7bfc047  ...             RR\n",
              "1  2e7a8482f6fb09756ca50c10d7bfc047  ...             RR\n",
              "2  35d3a51724a47ef1d0b89911e39cc4ff  ...             RS\n",
              "3  c4f710df20f7d1500da1aef81a993f65  ...             MG\n",
              "4  81e5043198a44ddeb226002ff55d8ad4  ...             RJ\n",
              "\n",
              "[5 rows x 19 columns]"
            ]
          },
          "metadata": {},
          "execution_count": 260
        }
      ]
    },
    {
      "cell_type": "code",
      "metadata": {
        "id": "ysmT3sGlacCS",
        "colab": {
          "base_uri": "https://localhost:8080/",
          "height": 224
        },
        "outputId": "741583bb-d5c2-4a93-f410-f4b3fc1e5a8d"
      },
      "source": [
        "# define a sub-dataframe\n",
        "df_segment = df_orders[['customer_unique_id','order_id','order_status','order_purchase_timestamp',\n",
        "    'product_id','quantity','price','product_category_name']].copy()\n",
        "df_segment.head()"
      ],
      "execution_count": null,
      "outputs": [
        {
          "output_type": "execute_result",
          "data": {
            "text/html": [
              "<div>\n",
              "<style scoped>\n",
              "    .dataframe tbody tr th:only-of-type {\n",
              "        vertical-align: middle;\n",
              "    }\n",
              "\n",
              "    .dataframe tbody tr th {\n",
              "        vertical-align: top;\n",
              "    }\n",
              "\n",
              "    .dataframe thead th {\n",
              "        text-align: right;\n",
              "    }\n",
              "</style>\n",
              "<table border=\"1\" class=\"dataframe\">\n",
              "  <thead>\n",
              "    <tr style=\"text-align: right;\">\n",
              "      <th></th>\n",
              "      <th>customer_unique_id</th>\n",
              "      <th>order_id</th>\n",
              "      <th>order_status</th>\n",
              "      <th>order_purchase_timestamp</th>\n",
              "      <th>product_id</th>\n",
              "      <th>quantity</th>\n",
              "      <th>price</th>\n",
              "      <th>product_category_name</th>\n",
              "    </tr>\n",
              "  </thead>\n",
              "  <tbody>\n",
              "    <tr>\n",
              "      <th>0</th>\n",
              "      <td>b7d76e111c89f7ebf14761390f0f7d17</td>\n",
              "      <td>2e7a8482f6fb09756ca50c10d7bfc047</td>\n",
              "      <td>shipped</td>\n",
              "      <td>2016-09-04</td>\n",
              "      <td>c1488892604e4ba5cff5b4eb4d595400</td>\n",
              "      <td>1</td>\n",
              "      <td>39.99</td>\n",
              "      <td>moveis_decoracao</td>\n",
              "    </tr>\n",
              "    <tr>\n",
              "      <th>1</th>\n",
              "      <td>b7d76e111c89f7ebf14761390f0f7d17</td>\n",
              "      <td>2e7a8482f6fb09756ca50c10d7bfc047</td>\n",
              "      <td>shipped</td>\n",
              "      <td>2016-09-04</td>\n",
              "      <td>f293394c72c9b5fafd7023301fc21fc2</td>\n",
              "      <td>1</td>\n",
              "      <td>32.90</td>\n",
              "      <td>moveis_decoracao</td>\n",
              "    </tr>\n",
              "    <tr>\n",
              "      <th>2</th>\n",
              "      <td>f922896769e9517ea3c630f3c8de86d0</td>\n",
              "      <td>35d3a51724a47ef1d0b89911e39cc4ff</td>\n",
              "      <td>delivered</td>\n",
              "      <td>2016-10-04</td>\n",
              "      <td>c1488892604e4ba5cff5b4eb4d595400</td>\n",
              "      <td>1</td>\n",
              "      <td>39.99</td>\n",
              "      <td>moveis_decoracao</td>\n",
              "    </tr>\n",
              "    <tr>\n",
              "      <th>3</th>\n",
              "      <td>0ecf7f65b5ff3b9e61b637e59f495e0a</td>\n",
              "      <td>c4f710df20f7d1500da1aef81a993f65</td>\n",
              "      <td>delivered</td>\n",
              "      <td>2016-10-10</td>\n",
              "      <td>c1488892604e4ba5cff5b4eb4d595400</td>\n",
              "      <td>1</td>\n",
              "      <td>39.99</td>\n",
              "      <td>moveis_decoracao</td>\n",
              "    </tr>\n",
              "    <tr>\n",
              "      <th>4</th>\n",
              "      <td>853ba75a0b423722ccf270eea3b4cfe4</td>\n",
              "      <td>81e5043198a44ddeb226002ff55d8ad4</td>\n",
              "      <td>delivered</td>\n",
              "      <td>2017-01-09</td>\n",
              "      <td>c1488892604e4ba5cff5b4eb4d595400</td>\n",
              "      <td>2</td>\n",
              "      <td>38.50</td>\n",
              "      <td>moveis_decoracao</td>\n",
              "    </tr>\n",
              "  </tbody>\n",
              "</table>\n",
              "</div>"
            ],
            "text/plain": [
              "                 customer_unique_id  ... product_category_name\n",
              "0  b7d76e111c89f7ebf14761390f0f7d17  ...      moveis_decoracao\n",
              "1  b7d76e111c89f7ebf14761390f0f7d17  ...      moveis_decoracao\n",
              "2  f922896769e9517ea3c630f3c8de86d0  ...      moveis_decoracao\n",
              "3  0ecf7f65b5ff3b9e61b637e59f495e0a  ...      moveis_decoracao\n",
              "4  853ba75a0b423722ccf270eea3b4cfe4  ...      moveis_decoracao\n",
              "\n",
              "[5 rows x 8 columns]"
            ]
          },
          "metadata": {},
          "execution_count": 261
        }
      ]
    },
    {
      "cell_type": "code",
      "metadata": {
        "colab": {
          "base_uri": "https://localhost:8080/"
        },
        "id": "st6ml4Lje5yd",
        "outputId": "71f7612f-ee02-411c-e3b3-69db4c5564b4"
      },
      "source": [
        "# check how many status\n",
        "df_segment['order_status'].value_counts()"
      ],
      "execution_count": null,
      "outputs": [
        {
          "output_type": "execute_result",
          "data": {
            "text/plain": [
              "delivered      100196\n",
              "shipped          1127\n",
              "canceled          465\n",
              "invoiced          322\n",
              "processing        306\n",
              "unavailable         7\n",
              "approved            2\n",
              "Name: order_status, dtype: int64"
            ]
          },
          "metadata": {},
          "execution_count": 262
        }
      ]
    },
    {
      "cell_type": "code",
      "metadata": {
        "id": "cm_zoVDnhkcH"
      },
      "source": [
        "# using only delivered status\n",
        "df_segment = df_segment[df_segment['order_status']=='delivered']"
      ],
      "execution_count": null,
      "outputs": []
    },
    {
      "cell_type": "code",
      "metadata": {
        "id": "XmJ6Tr8RiUM5"
      },
      "source": [
        "# calculate the total price for an order line\n",
        "df_segment['total_payment'] = df_segment['quantity'] * df_segment['price']"
      ],
      "execution_count": null,
      "outputs": []
    },
    {
      "cell_type": "markdown",
      "metadata": {
        "id": "IHsAdJLDdhrJ"
      },
      "source": [
        "## Customer segmentation"
      ]
    },
    {
      "cell_type": "markdown",
      "metadata": {
        "id": "IPp4LmHEe1Bp"
      },
      "source": [
        "### segmentation based on recency and payment"
      ]
    },
    {
      "cell_type": "code",
      "metadata": {
        "colab": {
          "base_uri": "https://localhost:8080/"
        },
        "id": "v_CbomlktXOl",
        "outputId": "c037f820-7653-4435-951a-d05e94523086"
      },
      "source": [
        "# last day of dataset\n",
        "df_segment['order_purchase_timestamp'].max()"
      ],
      "execution_count": null,
      "outputs": [
        {
          "output_type": "execute_result",
          "data": {
            "text/plain": [
              "datetime.date(2018, 8, 29)"
            ]
          },
          "metadata": {},
          "execution_count": 265
        }
      ]
    },
    {
      "cell_type": "code",
      "metadata": {
        "colab": {
          "base_uri": "https://localhost:8080/",
          "height": 204
        },
        "id": "FrPoKNV8uU3l",
        "outputId": "ef7949bc-485e-4f61-d456-858a7454264b"
      },
      "source": [
        "# assume now is 30/08\n",
        "now = dt.date(2018, 8, 30)\n",
        "# calculate recency, frequency, monetary\n",
        "df_segmented_customers = df_segment.groupby('customer_unique_id').agg({'order_purchase_timestamp': lambda date:(now-date.max()).days,\n",
        "                                                                       'order_id':pd.Series.nunique,\n",
        "                                                                       'total_payment': ['sum','mean'],\n",
        "                                                                       'quantity':'sum'}).reset_index()  \n",
        "# renaming columns\n",
        "df_segmented_customers.columns = ['customer_unique_id','recency','frequency','total_payment','avg_payment','quantity']\n",
        "df_segmented_customers.head()"
      ],
      "execution_count": null,
      "outputs": [
        {
          "output_type": "execute_result",
          "data": {
            "text/html": [
              "<div>\n",
              "<style scoped>\n",
              "    .dataframe tbody tr th:only-of-type {\n",
              "        vertical-align: middle;\n",
              "    }\n",
              "\n",
              "    .dataframe tbody tr th {\n",
              "        vertical-align: top;\n",
              "    }\n",
              "\n",
              "    .dataframe thead th {\n",
              "        text-align: right;\n",
              "    }\n",
              "</style>\n",
              "<table border=\"1\" class=\"dataframe\">\n",
              "  <thead>\n",
              "    <tr style=\"text-align: right;\">\n",
              "      <th></th>\n",
              "      <th>customer_unique_id</th>\n",
              "      <th>recency</th>\n",
              "      <th>frequency</th>\n",
              "      <th>total_payment</th>\n",
              "      <th>avg_payment</th>\n",
              "      <th>quantity</th>\n",
              "    </tr>\n",
              "  </thead>\n",
              "  <tbody>\n",
              "    <tr>\n",
              "      <th>0</th>\n",
              "      <td>0000366f3b9a7992bf8c76cfdf3221e2</td>\n",
              "      <td>112</td>\n",
              "      <td>1</td>\n",
              "      <td>129.90</td>\n",
              "      <td>129.90</td>\n",
              "      <td>1</td>\n",
              "    </tr>\n",
              "    <tr>\n",
              "      <th>1</th>\n",
              "      <td>0000b849f77a49e4a4ce2b2a4ca5be3f</td>\n",
              "      <td>115</td>\n",
              "      <td>1</td>\n",
              "      <td>18.90</td>\n",
              "      <td>18.90</td>\n",
              "      <td>1</td>\n",
              "    </tr>\n",
              "    <tr>\n",
              "      <th>2</th>\n",
              "      <td>0000f46a3911fa3c0805444483337064</td>\n",
              "      <td>538</td>\n",
              "      <td>1</td>\n",
              "      <td>69.00</td>\n",
              "      <td>69.00</td>\n",
              "      <td>1</td>\n",
              "    </tr>\n",
              "    <tr>\n",
              "      <th>3</th>\n",
              "      <td>0000f6ccb0745a6a4b88665a16c9f078</td>\n",
              "      <td>322</td>\n",
              "      <td>1</td>\n",
              "      <td>25.99</td>\n",
              "      <td>25.99</td>\n",
              "      <td>1</td>\n",
              "    </tr>\n",
              "    <tr>\n",
              "      <th>4</th>\n",
              "      <td>0004aac84e0df4da2b147fca70cf8255</td>\n",
              "      <td>289</td>\n",
              "      <td>1</td>\n",
              "      <td>180.00</td>\n",
              "      <td>180.00</td>\n",
              "      <td>1</td>\n",
              "    </tr>\n",
              "  </tbody>\n",
              "</table>\n",
              "</div>"
            ],
            "text/plain": [
              "                 customer_unique_id  recency  ...  avg_payment  quantity\n",
              "0  0000366f3b9a7992bf8c76cfdf3221e2      112  ...       129.90         1\n",
              "1  0000b849f77a49e4a4ce2b2a4ca5be3f      115  ...        18.90         1\n",
              "2  0000f46a3911fa3c0805444483337064      538  ...        69.00         1\n",
              "3  0000f6ccb0745a6a4b88665a16c9f078      322  ...        25.99         1\n",
              "4  0004aac84e0df4da2b147fca70cf8255      289  ...       180.00         1\n",
              "\n",
              "[5 rows x 6 columns]"
            ]
          },
          "metadata": {},
          "execution_count": 266
        }
      ]
    },
    {
      "cell_type": "code",
      "metadata": {
        "colab": {
          "base_uri": "https://localhost:8080/",
          "height": 35
        },
        "id": "BlytTW752wUO",
        "outputId": "ba294119-9c96-4e18-953b-0cc2d2e81856"
      },
      "source": [
        "# Defining time range conditions for classifying customers\n",
        "total_time_range = str(df_segment[\"order_purchase_timestamp\"].max() - df_segment[\"order_purchase_timestamp\"].min())\n",
        "total_time_range"
      ],
      "execution_count": null,
      "outputs": [
        {
          "output_type": "execute_result",
          "data": {
            "application/vnd.google.colaboratory.intrinsic+json": {
              "type": "string"
            },
            "text/plain": [
              "'713 days, 0:00:00'"
            ]
          },
          "metadata": {},
          "execution_count": 267
        }
      ]
    },
    {
      "cell_type": "code",
      "metadata": {
        "colab": {
          "base_uri": "https://localhost:8080/"
        },
        "id": "QGZvbndg3BOK",
        "outputId": "963327ba-918d-473d-c9c6-ca568b36561c"
      },
      "source": [
        "# Splitting total time range in 4 time periods\n",
        "period = int(re.sub(r'\\s+days.*', '', total_time_range))/4\n",
        "period"
      ],
      "execution_count": null,
      "outputs": [
        {
          "output_type": "execute_result",
          "data": {
            "text/plain": [
              "178.25"
            ]
          },
          "metadata": {},
          "execution_count": 268
        }
      ]
    },
    {
      "cell_type": "code",
      "metadata": {
        "id": "guF71Np73Dco",
        "colab": {
          "base_uri": "https://localhost:8080/",
          "height": 204
        },
        "outputId": "bbabd1cc-4233-45b2-89be-2224e9f7aa7e"
      },
      "source": [
        "# activity classes\n",
        "class_inactive = df_segmented_customers['recency'] > period*3\n",
        "class_cold = (df_segmented_customers['recency'] > period*2)&(df_segmented_customers['recency']<=period*3)\n",
        "class_hot = (df_segmented_customers['recency'] > period)&(df_segmented_customers['recency']<=period*2)\n",
        "class_active = df_segmented_customers['recency'] <= period\n",
        "# add new columns\n",
        "# customers who did not make any purchases or their last purchase was more than three times of the period defined as a parameter\n",
        "df_segmented_customers.loc[class_inactive, \"segment\"]= \"inactive\" \n",
        "# customers that their last purchase was greater than twice period and less than or equal to the three times the period\n",
        "df_segmented_customers.loc[class_cold, 'segment'] = 'cold'\n",
        "# customers that their last purchase was greater than the period and less than or equal to the twice period\n",
        "df_segmented_customers.loc[class_hot,'segment'] = 'hot'\n",
        "# customers that their last purchase was less than or equal to the period\n",
        "df_segmented_customers.loc[class_active, 'segment'] = 'active'\n",
        "\n",
        "df_segmented_customers.head()\n"
      ],
      "execution_count": null,
      "outputs": [
        {
          "output_type": "execute_result",
          "data": {
            "text/html": [
              "<div>\n",
              "<style scoped>\n",
              "    .dataframe tbody tr th:only-of-type {\n",
              "        vertical-align: middle;\n",
              "    }\n",
              "\n",
              "    .dataframe tbody tr th {\n",
              "        vertical-align: top;\n",
              "    }\n",
              "\n",
              "    .dataframe thead th {\n",
              "        text-align: right;\n",
              "    }\n",
              "</style>\n",
              "<table border=\"1\" class=\"dataframe\">\n",
              "  <thead>\n",
              "    <tr style=\"text-align: right;\">\n",
              "      <th></th>\n",
              "      <th>customer_unique_id</th>\n",
              "      <th>recency</th>\n",
              "      <th>frequency</th>\n",
              "      <th>total_payment</th>\n",
              "      <th>avg_payment</th>\n",
              "      <th>quantity</th>\n",
              "      <th>segment</th>\n",
              "    </tr>\n",
              "  </thead>\n",
              "  <tbody>\n",
              "    <tr>\n",
              "      <th>0</th>\n",
              "      <td>0000366f3b9a7992bf8c76cfdf3221e2</td>\n",
              "      <td>112</td>\n",
              "      <td>1</td>\n",
              "      <td>129.90</td>\n",
              "      <td>129.90</td>\n",
              "      <td>1</td>\n",
              "      <td>active</td>\n",
              "    </tr>\n",
              "    <tr>\n",
              "      <th>1</th>\n",
              "      <td>0000b849f77a49e4a4ce2b2a4ca5be3f</td>\n",
              "      <td>115</td>\n",
              "      <td>1</td>\n",
              "      <td>18.90</td>\n",
              "      <td>18.90</td>\n",
              "      <td>1</td>\n",
              "      <td>active</td>\n",
              "    </tr>\n",
              "    <tr>\n",
              "      <th>2</th>\n",
              "      <td>0000f46a3911fa3c0805444483337064</td>\n",
              "      <td>538</td>\n",
              "      <td>1</td>\n",
              "      <td>69.00</td>\n",
              "      <td>69.00</td>\n",
              "      <td>1</td>\n",
              "      <td>inactive</td>\n",
              "    </tr>\n",
              "    <tr>\n",
              "      <th>3</th>\n",
              "      <td>0000f6ccb0745a6a4b88665a16c9f078</td>\n",
              "      <td>322</td>\n",
              "      <td>1</td>\n",
              "      <td>25.99</td>\n",
              "      <td>25.99</td>\n",
              "      <td>1</td>\n",
              "      <td>hot</td>\n",
              "    </tr>\n",
              "    <tr>\n",
              "      <th>4</th>\n",
              "      <td>0004aac84e0df4da2b147fca70cf8255</td>\n",
              "      <td>289</td>\n",
              "      <td>1</td>\n",
              "      <td>180.00</td>\n",
              "      <td>180.00</td>\n",
              "      <td>1</td>\n",
              "      <td>hot</td>\n",
              "    </tr>\n",
              "  </tbody>\n",
              "</table>\n",
              "</div>"
            ],
            "text/plain": [
              "                 customer_unique_id  recency  ...  quantity   segment\n",
              "0  0000366f3b9a7992bf8c76cfdf3221e2      112  ...         1    active\n",
              "1  0000b849f77a49e4a4ce2b2a4ca5be3f      115  ...         1    active\n",
              "2  0000f46a3911fa3c0805444483337064      538  ...         1  inactive\n",
              "3  0000f6ccb0745a6a4b88665a16c9f078      322  ...         1       hot\n",
              "4  0004aac84e0df4da2b147fca70cf8255      289  ...         1       hot\n",
              "\n",
              "[5 rows x 7 columns]"
            ]
          },
          "metadata": {},
          "execution_count": 269
        }
      ]
    },
    {
      "cell_type": "code",
      "metadata": {
        "id": "vjsR5XzyhDPE",
        "colab": {
          "base_uri": "https://localhost:8080/"
        },
        "outputId": "8b52349e-b7ef-44df-946e-bc06ba2d42b9"
      },
      "source": [
        "# define payment range conditions for classifying customers\n",
        "median_payment = df_segmented_customers['avg_payment'].median()\n",
        "median_payment"
      ],
      "execution_count": null,
      "outputs": [
        {
          "output_type": "execute_result",
          "data": {
            "text/plain": [
              "84.5"
            ]
          },
          "metadata": {},
          "execution_count": 270
        }
      ]
    },
    {
      "cell_type": "code",
      "metadata": {
        "id": "YKX8GbE6jNHj",
        "colab": {
          "base_uri": "https://localhost:8080/",
          "height": 204
        },
        "outputId": "e56881c3-8af8-4204-fef3-611c02a85c0c"
      },
      "source": [
        "# sub classes\n",
        "class_inactive_low = df_segmented_customers['segment'] =='inactive'\n",
        "class_cold_low = (df_segmented_customers['segment']=='cold') &(df_segmented_customers['avg_payment']<median_payment)\n",
        "class_cold_high = (df_segmented_customers['segment']=='cold') &(df_segmented_customers['avg_payment']>=median_payment)\n",
        "\n",
        "class_hot_low = (df_segmented_customers['segment'] == 'hot') & (df_segmented_customers['avg_payment'] < median_payment)\n",
        "class_hot_high = (df_segmented_customers['segment'] == 'hot') & (df_segmented_customers['avg_payment'] >= median_payment)\n",
        "\n",
        "class_active_low = (df_segmented_customers['segment'] == 'active')& (df_segmented_customers['avg_payment'] < median_payment)\n",
        "class_active_high = (df_segmented_customers['segment'] == 'active')& (df_segmented_customers['avg_payment'] >= median_payment)\n",
        "\n",
        "# add sub classes to dataframe\n",
        "# customers who did not make any purchases or their last purchase was more than three times of the period defined as a parameter\n",
        "df_segmented_customers.loc[class_inactive_low, \"sub_segment\"] = \"inactive\"\n",
        "# this segment is equal to cold and have purchases less than the median defined as a parameter \n",
        "df_segmented_customers.loc[class_cold_low, \"sub_segment\"] = \"cold_low\"\n",
        "# this segment is equal to cold and have purchases greater than or equal to the median defined as a parameter\n",
        "df_segmented_customers.loc[class_cold_high, \"sub_segment\"] = \"cold_high\"\n",
        "# this segment is equal to hot and have purchases less than the median defined as a parameter\n",
        "df_segmented_customers.loc[class_hot_low, \"sub_segment\"] = \"hot_low\"\n",
        "# this segment is equal to hot and have purchases greater than or equal to the median defined as a parameter\n",
        "df_segmented_customers.loc[class_hot_high, \"sub_segment\"] = \"hot_high\"\n",
        "# this segment is equal to active and have purchases less than the median defined as a parameter\n",
        "df_segmented_customers.loc[class_active_low, \"sub_segment\"] = \"active_low\"\n",
        "# this segment is equal to active and have purchases greater than or equal to the median defined as a parameter\n",
        "df_segmented_customers.loc[class_active_high, \"sub_segment\"] = \"active_high\"\n",
        "\n",
        "df_segmented_customers.head()"
      ],
      "execution_count": null,
      "outputs": [
        {
          "output_type": "execute_result",
          "data": {
            "text/html": [
              "<div>\n",
              "<style scoped>\n",
              "    .dataframe tbody tr th:only-of-type {\n",
              "        vertical-align: middle;\n",
              "    }\n",
              "\n",
              "    .dataframe tbody tr th {\n",
              "        vertical-align: top;\n",
              "    }\n",
              "\n",
              "    .dataframe thead th {\n",
              "        text-align: right;\n",
              "    }\n",
              "</style>\n",
              "<table border=\"1\" class=\"dataframe\">\n",
              "  <thead>\n",
              "    <tr style=\"text-align: right;\">\n",
              "      <th></th>\n",
              "      <th>customer_unique_id</th>\n",
              "      <th>recency</th>\n",
              "      <th>frequency</th>\n",
              "      <th>total_payment</th>\n",
              "      <th>avg_payment</th>\n",
              "      <th>quantity</th>\n",
              "      <th>segment</th>\n",
              "      <th>sub_segment</th>\n",
              "    </tr>\n",
              "  </thead>\n",
              "  <tbody>\n",
              "    <tr>\n",
              "      <th>0</th>\n",
              "      <td>0000366f3b9a7992bf8c76cfdf3221e2</td>\n",
              "      <td>112</td>\n",
              "      <td>1</td>\n",
              "      <td>129.90</td>\n",
              "      <td>129.90</td>\n",
              "      <td>1</td>\n",
              "      <td>active</td>\n",
              "      <td>active_high</td>\n",
              "    </tr>\n",
              "    <tr>\n",
              "      <th>1</th>\n",
              "      <td>0000b849f77a49e4a4ce2b2a4ca5be3f</td>\n",
              "      <td>115</td>\n",
              "      <td>1</td>\n",
              "      <td>18.90</td>\n",
              "      <td>18.90</td>\n",
              "      <td>1</td>\n",
              "      <td>active</td>\n",
              "      <td>active_low</td>\n",
              "    </tr>\n",
              "    <tr>\n",
              "      <th>2</th>\n",
              "      <td>0000f46a3911fa3c0805444483337064</td>\n",
              "      <td>538</td>\n",
              "      <td>1</td>\n",
              "      <td>69.00</td>\n",
              "      <td>69.00</td>\n",
              "      <td>1</td>\n",
              "      <td>inactive</td>\n",
              "      <td>inactive</td>\n",
              "    </tr>\n",
              "    <tr>\n",
              "      <th>3</th>\n",
              "      <td>0000f6ccb0745a6a4b88665a16c9f078</td>\n",
              "      <td>322</td>\n",
              "      <td>1</td>\n",
              "      <td>25.99</td>\n",
              "      <td>25.99</td>\n",
              "      <td>1</td>\n",
              "      <td>hot</td>\n",
              "      <td>hot_low</td>\n",
              "    </tr>\n",
              "    <tr>\n",
              "      <th>4</th>\n",
              "      <td>0004aac84e0df4da2b147fca70cf8255</td>\n",
              "      <td>289</td>\n",
              "      <td>1</td>\n",
              "      <td>180.00</td>\n",
              "      <td>180.00</td>\n",
              "      <td>1</td>\n",
              "      <td>hot</td>\n",
              "      <td>hot_high</td>\n",
              "    </tr>\n",
              "  </tbody>\n",
              "</table>\n",
              "</div>"
            ],
            "text/plain": [
              "                 customer_unique_id  recency  ...   segment  sub_segment\n",
              "0  0000366f3b9a7992bf8c76cfdf3221e2      112  ...    active  active_high\n",
              "1  0000b849f77a49e4a4ce2b2a4ca5be3f      115  ...    active   active_low\n",
              "2  0000f46a3911fa3c0805444483337064      538  ...  inactive     inactive\n",
              "3  0000f6ccb0745a6a4b88665a16c9f078      322  ...       hot      hot_low\n",
              "4  0004aac84e0df4da2b147fca70cf8255      289  ...       hot     hot_high\n",
              "\n",
              "[5 rows x 8 columns]"
            ]
          },
          "metadata": {},
          "execution_count": 271
        }
      ]
    },
    {
      "cell_type": "code",
      "metadata": {
        "colab": {
          "base_uri": "https://localhost:8080/",
          "height": 369
        },
        "id": "2zF65nwexT1A",
        "outputId": "fb00810f-fd0a-4910-c17e-acc7d2201663"
      },
      "source": [
        "# number of customers per sub-segment\n",
        "plot_waffle_chart_(df_segmented_customers,'customer_unique_id', 'count', 'Number of customers by Sub-Segment')"
      ],
      "execution_count": null,
      "outputs": [
        {
          "output_type": "display_data",
          "data": {
            "image/png": "[encoded data removed]",
            "text/plain": [
              "<Waffle size 1080x360 with 1 Axes>"
            ]
          },
          "metadata": {
            "needs_background": "light"
          }
        }
      ]
    },
    {
      "cell_type": "code",
      "metadata": {
        "colab": {
          "base_uri": "https://localhost:8080/",
          "height": 369
        },
        "id": "MjHMXWN7nKN4",
        "outputId": "e36b2ad5-44a3-4dd1-8b13-a167f2415cb9"
      },
      "source": [
        "# total orders placed by sub-segment\n",
        "plot_waffle_chart_(df_segmented_customers, 'frequency', 'sum', 'Orders by Sub-Segment')"
      ],
      "execution_count": null,
      "outputs": [
        {
          "output_type": "display_data",
          "data": {
            "image/png": "[encoded data removed]",
            "text/plain": [
              "<Waffle size 1080x360 with 1 Axes>"
            ]
          },
          "metadata": {
            "needs_background": "light"
          }
        }
      ]
    },
    {
      "cell_type": "code",
      "metadata": {
        "colab": {
          "base_uri": "https://localhost:8080/",
          "height": 369
        },
        "id": "TkTJGZqdlHjQ",
        "outputId": "854b7411-5410-47d7-a1e9-d967830072a5"
      },
      "source": [
        "# total revenue by sub-segment\n",
        "plot_waffle_chart_(df_segmented_customers, 'total_payment', 'sum', 'Revenue by Sub-Segment')"
      ],
      "execution_count": null,
      "outputs": [
        {
          "output_type": "display_data",
          "data": {
            "image/png": "[encoded data removed]",
            "text/plain": [
              "<Waffle size 1080x360 with 1 Axes>"
            ]
          },
          "metadata": {
            "needs_background": "light"
          }
        }
      ]
    },
    {
      "cell_type": "markdown",
      "metadata": {
        "id": "7UvRKW6Higk8"
      },
      "source": [
        "From the graph we can see that:\n",
        "* The strongest class of the 7 generated sub-segments is active customers with high spending, followed by hot customers which high spending, which is a good sign for the business.  \n",
        "* Active customers are the biggest groups\n",
        "* Active customers with high and low spending placed the most orders, followed by hot customers\n",
        "* Inactive customers accounted for only a small proportion."
      ]
    },
    {
      "cell_type": "code",
      "metadata": {
        "id": "b6XvxFhTL_7h"
      },
      "source": [
        "# save file\n",
        "df_segmented_customers.to_csv(os.path.join(path,'df_segmented_customers.csv'), encoding='utf-8-sig',index=False)"
      ],
      "execution_count": null,
      "outputs": []
    },
    {
      "cell_type": "markdown",
      "metadata": {
        "id": "brd6L_Hos7Jp"
      },
      "source": [
        "### RFM"
      ]
    },
    {
      "cell_type": "markdown",
      "metadata": {
        "id": "wlphUPZbwcs9"
      },
      "source": [
        "RFM analysis is a customer segmentation technique that use past purchase behaviour to segment customers.  \n",
        "The name RFM stands for Recency, Frequency, and Monetary value. \n",
        "* Recency: the number of days since the customer's last purchase  \n",
        "* Frequency: the number of times the customer has purchased in the timeframe being analyzed  \n",
        "* Monetary: the total amount spent by the customer in the same period"
      ]
    },
    {
      "cell_type": "code",
      "metadata": {
        "colab": {
          "base_uri": "https://localhost:8080/",
          "height": 204
        },
        "id": "-Mgva9Igszx3",
        "outputId": "efd2d28c-4894-40a6-fb25-a7179c36c681"
      },
      "source": [
        "# read data\n",
        "df_rfm = pd.read_csv(os.path.join(path,'df_segmented_customers.csv'))\n",
        "df_rfm.head()"
      ],
      "execution_count": null,
      "outputs": [
        {
          "output_type": "execute_result",
          "data": {
            "text/html": [
              "<div>\n",
              "<style scoped>\n",
              "    .dataframe tbody tr th:only-of-type {\n",
              "        vertical-align: middle;\n",
              "    }\n",
              "\n",
              "    .dataframe tbody tr th {\n",
              "        vertical-align: top;\n",
              "    }\n",
              "\n",
              "    .dataframe thead th {\n",
              "        text-align: right;\n",
              "    }\n",
              "</style>\n",
              "<table border=\"1\" class=\"dataframe\">\n",
              "  <thead>\n",
              "    <tr style=\"text-align: right;\">\n",
              "      <th></th>\n",
              "      <th>customer_unique_id</th>\n",
              "      <th>recency</th>\n",
              "      <th>frequency</th>\n",
              "      <th>total_payment</th>\n",
              "      <th>avg_payment</th>\n",
              "      <th>quantity</th>\n",
              "      <th>segment</th>\n",
              "      <th>sub_segment</th>\n",
              "    </tr>\n",
              "  </thead>\n",
              "  <tbody>\n",
              "    <tr>\n",
              "      <th>0</th>\n",
              "      <td>0000366f3b9a7992bf8c76cfdf3221e2</td>\n",
              "      <td>112</td>\n",
              "      <td>1</td>\n",
              "      <td>129.90</td>\n",
              "      <td>129.90</td>\n",
              "      <td>1</td>\n",
              "      <td>active</td>\n",
              "      <td>active_high</td>\n",
              "    </tr>\n",
              "    <tr>\n",
              "      <th>1</th>\n",
              "      <td>0000b849f77a49e4a4ce2b2a4ca5be3f</td>\n",
              "      <td>115</td>\n",
              "      <td>1</td>\n",
              "      <td>18.90</td>\n",
              "      <td>18.90</td>\n",
              "      <td>1</td>\n",
              "      <td>active</td>\n",
              "      <td>active_low</td>\n",
              "    </tr>\n",
              "    <tr>\n",
              "      <th>2</th>\n",
              "      <td>0000f46a3911fa3c0805444483337064</td>\n",
              "      <td>538</td>\n",
              "      <td>1</td>\n",
              "      <td>69.00</td>\n",
              "      <td>69.00</td>\n",
              "      <td>1</td>\n",
              "      <td>inactive</td>\n",
              "      <td>inactive</td>\n",
              "    </tr>\n",
              "    <tr>\n",
              "      <th>3</th>\n",
              "      <td>0000f6ccb0745a6a4b88665a16c9f078</td>\n",
              "      <td>322</td>\n",
              "      <td>1</td>\n",
              "      <td>25.99</td>\n",
              "      <td>25.99</td>\n",
              "      <td>1</td>\n",
              "      <td>hot</td>\n",
              "      <td>hot_low</td>\n",
              "    </tr>\n",
              "    <tr>\n",
              "      <th>4</th>\n",
              "      <td>0004aac84e0df4da2b147fca70cf8255</td>\n",
              "      <td>289</td>\n",
              "      <td>1</td>\n",
              "      <td>180.00</td>\n",
              "      <td>180.00</td>\n",
              "      <td>1</td>\n",
              "      <td>hot</td>\n",
              "      <td>hot_high</td>\n",
              "    </tr>\n",
              "  </tbody>\n",
              "</table>\n",
              "</div>"
            ],
            "text/plain": [
              "                 customer_unique_id  recency  ...   segment  sub_segment\n",
              "0  0000366f3b9a7992bf8c76cfdf3221e2      112  ...    active  active_high\n",
              "1  0000b849f77a49e4a4ce2b2a4ca5be3f      115  ...    active   active_low\n",
              "2  0000f46a3911fa3c0805444483337064      538  ...  inactive     inactive\n",
              "3  0000f6ccb0745a6a4b88665a16c9f078      322  ...       hot      hot_low\n",
              "4  0004aac84e0df4da2b147fca70cf8255      289  ...       hot     hot_high\n",
              "\n",
              "[5 rows x 8 columns]"
            ]
          },
          "metadata": {},
          "execution_count": 15
        }
      ]
    },
    {
      "cell_type": "code",
      "metadata": {
        "colab": {
          "base_uri": "https://localhost:8080/",
          "height": 745
        },
        "id": "G4YHrTeN51Io",
        "outputId": "72fb5ddf-fee4-4596-abb4-d85d9b3f29d8"
      },
      "source": [
        "# plot chart\n",
        "# define figure\n",
        "fig = plt.figure(constrained_layout=True, figsize=(12,10))\n",
        "# define axis\n",
        "gs = gridspec.GridSpec(3, 1, figure=fig)\n",
        "ax1 = fig.add_subplot(gs[0, 0])\n",
        "ax2 = fig.add_subplot(gs[1, 0])\n",
        "ax3 = fig.add_subplot(gs[2, 0])\n",
        "# plot recency\n",
        "sns.histplot(df_rfm['recency'], kde=True, ax = ax1)\n",
        "ax1.set_title('Recency', fontsize = 12)\n",
        "ax1.set_xlabel('Days since last order',fontsize= 12)\n",
        "ax1.spines['top'].set_visible(False)\n",
        "ax1.spines['right'].set_visible(False)\n",
        "# plot frequency\n",
        "sns.histplot(df_rfm['frequency'], kde= False, ax = ax2, bins=80)\n",
        "ax2.set_xlim([0,5])\n",
        "ax2.set_title('Frequency',fontsize= 12)\n",
        "ax2.set_xlabel('Number of Orders', fontsize =12)\n",
        "ax2.spines['top'].set_visible(False)\n",
        "ax2.spines['right'].set_visible(False)\n",
        "# plot monetary\n",
        "sns.histplot(df_rfm['total_payment'], ax = ax3, bins=1000)\n",
        "ax3.set_title('Monetary',fontsize = 12)\n",
        "ax3.set_xlabel('Total purchase value', fontsize =12)\n",
        "ax3.set_xlim([0,500])\n",
        "ax3.spines['top'].set_visible(False)\n",
        "ax3.spines['right'].set_visible(False)\n",
        "\n",
        "plt.show()"
      ],
      "execution_count": null,
      "outputs": [
        {
          "output_type": "display_data",
          "data": {
            "image/png": "[encoded data removed]",
            "text/plain": [
              "<Figure size 864x720 with 3 Axes>"
            ]
          },
          "metadata": {
            "needs_background": "light"
          }
        }
      ]
    },
    {
      "cell_type": "markdown",
      "metadata": {
        "id": "-wfA9pj9Cx-Y"
      },
      "source": [
        "From the charts above, we can see that  \n",
        "* There is a peak at round about 270 days due to black friday\n",
        "* There are many customers which only placed one order  \n",
        "* The majority of the prices is in the lower range of up to 100\n"
      ]
    },
    {
      "cell_type": "markdown",
      "metadata": {
        "id": "LFpBWphBR5SO"
      },
      "source": [
        "#### Calculation"
      ]
    },
    {
      "cell_type": "code",
      "metadata": {
        "colab": {
          "base_uri": "https://localhost:8080/"
        },
        "id": "vmfkqpOF6EQ4",
        "outputId": "2e6a4ed5-5fb5-4765-ef48-40effbfd5d50"
      },
      "source": [
        "# frequencies:\n",
        "df_rfm['frequency'].unique()"
      ],
      "execution_count": null,
      "outputs": [
        {
          "output_type": "execute_result",
          "data": {
            "text/plain": [
              "array([ 1,  2,  3,  4,  6,  7,  5,  9, 15])"
            ]
          },
          "metadata": {},
          "execution_count": 17
        }
      ]
    },
    {
      "cell_type": "code",
      "metadata": {
        "id": "SkL99pY0P0B3"
      },
      "source": [
        "# define a funct\n",
        "def assign_frequency(x):\n",
        "  if x>=7:\n",
        "    return 4\n",
        "  elif x>=4:\n",
        "    return 3\n",
        "  elif x>=2:\n",
        "    return 2\n",
        "  else:\n",
        "    return 1\n"
      ],
      "execution_count": null,
      "outputs": []
    },
    {
      "cell_type": "code",
      "metadata": {
        "colab": {
          "base_uri": "https://localhost:8080/",
          "height": 439
        },
        "id": "IZrRRjDHP7Bf",
        "outputId": "2c4c7f35-2024-4e48-e6e1-73c6d090133e"
      },
      "source": [
        "# add new column\n",
        "df_rfm['R'] = pd.qcut(x=df_rfm['recency'], q=4, labels=range(4,0,-1))\n",
        "df_rfm['F'] = df_rfm['frequency'].apply(assign_frequency)\n",
        "df_rfm['M'] = pd.qcut(x=df_rfm['total_payment'], q =4, labels = range(1,5))\n",
        "# define- and assign label to dataframe\n",
        "df_rfm['segment_RFM'] = df_rfm['R'].astype(str)+ df_rfm['F'].astype(str) + df_rfm['M'].astype(str)\n",
        "df_rfm['score_rfm'] = df_rfm[['R','F','M']].sum(axis=1)\n",
        "\n",
        "df_rfm"
      ],
      "execution_count": null,
      "outputs": [
        {
          "output_type": "execute_result",
          "data": {
            "text/html": [
              "<div>\n",
              "<style scoped>\n",
              "    .dataframe tbody tr th:only-of-type {\n",
              "        vertical-align: middle;\n",
              "    }\n",
              "\n",
              "    .dataframe tbody tr th {\n",
              "        vertical-align: top;\n",
              "    }\n",
              "\n",
              "    .dataframe thead th {\n",
              "        text-align: right;\n",
              "    }\n",
              "</style>\n",
              "<table border=\"1\" class=\"dataframe\">\n",
              "  <thead>\n",
              "    <tr style=\"text-align: right;\">\n",
              "      <th></th>\n",
              "      <th>customer_unique_id</th>\n",
              "      <th>recency</th>\n",
              "      <th>frequency</th>\n",
              "      <th>total_payment</th>\n",
              "      <th>avg_payment</th>\n",
              "      <th>quantity</th>\n",
              "      <th>segment</th>\n",
              "      <th>sub_segment</th>\n",
              "      <th>R</th>\n",
              "      <th>F</th>\n",
              "      <th>M</th>\n",
              "      <th>segment_RFM</th>\n",
              "      <th>score_rfm</th>\n",
              "    </tr>\n",
              "  </thead>\n",
              "  <tbody>\n",
              "    <tr>\n",
              "      <th>0</th>\n",
              "      <td>0000366f3b9a7992bf8c76cfdf3221e2</td>\n",
              "      <td>112</td>\n",
              "      <td>1</td>\n",
              "      <td>129.90</td>\n",
              "      <td>129.90</td>\n",
              "      <td>1</td>\n",
              "      <td>active</td>\n",
              "      <td>active_high</td>\n",
              "      <td>4</td>\n",
              "      <td>1</td>\n",
              "      <td>3</td>\n",
              "      <td>413</td>\n",
              "      <td>8</td>\n",
              "    </tr>\n",
              "    <tr>\n",
              "      <th>1</th>\n",
              "      <td>0000b849f77a49e4a4ce2b2a4ca5be3f</td>\n",
              "      <td>115</td>\n",
              "      <td>1</td>\n",
              "      <td>18.90</td>\n",
              "      <td>18.90</td>\n",
              "      <td>1</td>\n",
              "      <td>active</td>\n",
              "      <td>active_low</td>\n",
              "      <td>4</td>\n",
              "      <td>1</td>\n",
              "      <td>1</td>\n",
              "      <td>411</td>\n",
              "      <td>6</td>\n",
              "    </tr>\n",
              "    <tr>\n",
              "      <th>2</th>\n",
              "      <td>0000f46a3911fa3c0805444483337064</td>\n",
              "      <td>538</td>\n",
              "      <td>1</td>\n",
              "      <td>69.00</td>\n",
              "      <td>69.00</td>\n",
              "      <td>1</td>\n",
              "      <td>inactive</td>\n",
              "      <td>inactive</td>\n",
              "      <td>1</td>\n",
              "      <td>1</td>\n",
              "      <td>2</td>\n",
              "      <td>112</td>\n",
              "      <td>4</td>\n",
              "    </tr>\n",
              "    <tr>\n",
              "      <th>3</th>\n",
              "      <td>0000f6ccb0745a6a4b88665a16c9f078</td>\n",
              "      <td>322</td>\n",
              "      <td>1</td>\n",
              "      <td>25.99</td>\n",
              "      <td>25.99</td>\n",
              "      <td>1</td>\n",
              "      <td>hot</td>\n",
              "      <td>hot_low</td>\n",
              "      <td>2</td>\n",
              "      <td>1</td>\n",
              "      <td>1</td>\n",
              "      <td>211</td>\n",
              "      <td>4</td>\n",
              "    </tr>\n",
              "    <tr>\n",
              "      <th>4</th>\n",
              "      <td>0004aac84e0df4da2b147fca70cf8255</td>\n",
              "      <td>289</td>\n",
              "      <td>1</td>\n",
              "      <td>180.00</td>\n",
              "      <td>180.00</td>\n",
              "      <td>1</td>\n",
              "      <td>hot</td>\n",
              "      <td>hot_high</td>\n",
              "      <td>2</td>\n",
              "      <td>1</td>\n",
              "      <td>4</td>\n",
              "      <td>214</td>\n",
              "      <td>7</td>\n",
              "    </tr>\n",
              "    <tr>\n",
              "      <th>...</th>\n",
              "      <td>...</td>\n",
              "      <td>...</td>\n",
              "      <td>...</td>\n",
              "      <td>...</td>\n",
              "      <td>...</td>\n",
              "      <td>...</td>\n",
              "      <td>...</td>\n",
              "      <td>...</td>\n",
              "      <td>...</td>\n",
              "      <td>...</td>\n",
              "      <td>...</td>\n",
              "      <td>...</td>\n",
              "      <td>...</td>\n",
              "    </tr>\n",
              "    <tr>\n",
              "      <th>93353</th>\n",
              "      <td>fffcf5a5ff07b0908bd4e2dbc735a684</td>\n",
              "      <td>448</td>\n",
              "      <td>1</td>\n",
              "      <td>1570.00</td>\n",
              "      <td>785.00</td>\n",
              "      <td>2</td>\n",
              "      <td>cold</td>\n",
              "      <td>cold_high</td>\n",
              "      <td>1</td>\n",
              "      <td>1</td>\n",
              "      <td>4</td>\n",
              "      <td>114</td>\n",
              "      <td>6</td>\n",
              "    </tr>\n",
              "    <tr>\n",
              "      <th>93354</th>\n",
              "      <td>fffea47cd6d3cc0a88bd621562a9d061</td>\n",
              "      <td>263</td>\n",
              "      <td>1</td>\n",
              "      <td>64.89</td>\n",
              "      <td>64.89</td>\n",
              "      <td>1</td>\n",
              "      <td>hot</td>\n",
              "      <td>hot_low</td>\n",
              "      <td>2</td>\n",
              "      <td>1</td>\n",
              "      <td>2</td>\n",
              "      <td>212</td>\n",
              "      <td>5</td>\n",
              "    </tr>\n",
              "    <tr>\n",
              "      <th>93355</th>\n",
              "      <td>ffff371b4d645b6ecea244b27531430a</td>\n",
              "      <td>569</td>\n",
              "      <td>1</td>\n",
              "      <td>89.90</td>\n",
              "      <td>89.90</td>\n",
              "      <td>1</td>\n",
              "      <td>inactive</td>\n",
              "      <td>inactive</td>\n",
              "      <td>1</td>\n",
              "      <td>1</td>\n",
              "      <td>3</td>\n",
              "      <td>113</td>\n",
              "      <td>5</td>\n",
              "    </tr>\n",
              "    <tr>\n",
              "      <th>93356</th>\n",
              "      <td>ffff5962728ec6157033ef9805bacc48</td>\n",
              "      <td>120</td>\n",
              "      <td>1</td>\n",
              "      <td>115.00</td>\n",
              "      <td>115.00</td>\n",
              "      <td>1</td>\n",
              "      <td>active</td>\n",
              "      <td>active_high</td>\n",
              "      <td>3</td>\n",
              "      <td>1</td>\n",
              "      <td>3</td>\n",
              "      <td>313</td>\n",
              "      <td>7</td>\n",
              "    </tr>\n",
              "    <tr>\n",
              "      <th>93357</th>\n",
              "      <td>ffffd2657e2aad2907e67c3e9daecbeb</td>\n",
              "      <td>485</td>\n",
              "      <td>1</td>\n",
              "      <td>56.99</td>\n",
              "      <td>56.99</td>\n",
              "      <td>1</td>\n",
              "      <td>cold</td>\n",
              "      <td>cold_low</td>\n",
              "      <td>1</td>\n",
              "      <td>1</td>\n",
              "      <td>2</td>\n",
              "      <td>112</td>\n",
              "      <td>4</td>\n",
              "    </tr>\n",
              "  </tbody>\n",
              "</table>\n",
              "<p>93358 rows × 13 columns</p>\n",
              "</div>"
            ],
            "text/plain": [
              "                     customer_unique_id  recency  ...  segment_RFM  score_rfm\n",
              "0      0000366f3b9a7992bf8c76cfdf3221e2      112  ...          413          8\n",
              "1      0000b849f77a49e4a4ce2b2a4ca5be3f      115  ...          411          6\n",
              "2      0000f46a3911fa3c0805444483337064      538  ...          112          4\n",
              "3      0000f6ccb0745a6a4b88665a16c9f078      322  ...          211          4\n",
              "4      0004aac84e0df4da2b147fca70cf8255      289  ...          214          7\n",
              "...                                 ...      ...  ...          ...        ...\n",
              "93353  fffcf5a5ff07b0908bd4e2dbc735a684      448  ...          114          6\n",
              "93354  fffea47cd6d3cc0a88bd621562a9d061      263  ...          212          5\n",
              "93355  ffff371b4d645b6ecea244b27531430a      569  ...          113          5\n",
              "93356  ffff5962728ec6157033ef9805bacc48      120  ...          313          7\n",
              "93357  ffffd2657e2aad2907e67c3e9daecbeb      485  ...          112          4\n",
              "\n",
              "[93358 rows x 13 columns]"
            ]
          },
          "metadata": {},
          "execution_count": 19
        }
      ]
    },
    {
      "cell_type": "code",
      "metadata": {
        "colab": {
          "base_uri": "https://localhost:8080/",
          "height": 390
        },
        "id": "H0sEnUkwRJwC",
        "outputId": "7db7ff87-aa91-42b6-a3a4-9a7312bf173b"
      },
      "source": [
        "# calculate mean by score_rfm\n",
        "df_rfm.groupby('score_rfm').mean()[['recency','frequency','total_payment']]"
      ],
      "execution_count": null,
      "outputs": [
        {
          "output_type": "execute_result",
          "data": {
            "text/html": [
              "<div>\n",
              "<style scoped>\n",
              "    .dataframe tbody tr th:only-of-type {\n",
              "        vertical-align: middle;\n",
              "    }\n",
              "\n",
              "    .dataframe tbody tr th {\n",
              "        vertical-align: top;\n",
              "    }\n",
              "\n",
              "    .dataframe thead th {\n",
              "        text-align: right;\n",
              "    }\n",
              "</style>\n",
              "<table border=\"1\" class=\"dataframe\">\n",
              "  <thead>\n",
              "    <tr style=\"text-align: right;\">\n",
              "      <th></th>\n",
              "      <th>recency</th>\n",
              "      <th>frequency</th>\n",
              "      <th>total_payment</th>\n",
              "    </tr>\n",
              "    <tr>\n",
              "      <th>score_rfm</th>\n",
              "      <th></th>\n",
              "      <th></th>\n",
              "      <th></th>\n",
              "    </tr>\n",
              "  </thead>\n",
              "  <tbody>\n",
              "    <tr>\n",
              "      <th>3</th>\n",
              "      <td>455.415840</td>\n",
              "      <td>1.000000</td>\n",
              "      <td>28.927718</td>\n",
              "    </tr>\n",
              "    <tr>\n",
              "      <th>4</th>\n",
              "      <td>363.786792</td>\n",
              "      <td>1.003141</td>\n",
              "      <td>47.153606</td>\n",
              "    </tr>\n",
              "    <tr>\n",
              "      <th>5</th>\n",
              "      <td>297.060620</td>\n",
              "      <td>1.005762</td>\n",
              "      <td>68.964709</td>\n",
              "    </tr>\n",
              "    <tr>\n",
              "      <th>6</th>\n",
              "      <td>237.780465</td>\n",
              "      <td>1.012687</td>\n",
              "      <td>140.535414</td>\n",
              "    </tr>\n",
              "    <tr>\n",
              "      <th>7</th>\n",
              "      <td>171.463098</td>\n",
              "      <td>1.035557</td>\n",
              "      <td>176.442896</td>\n",
              "    </tr>\n",
              "    <tr>\n",
              "      <th>8</th>\n",
              "      <td>116.662880</td>\n",
              "      <td>1.060863</td>\n",
              "      <td>228.353614</td>\n",
              "    </tr>\n",
              "    <tr>\n",
              "      <th>9</th>\n",
              "      <td>67.959092</td>\n",
              "      <td>1.113117</td>\n",
              "      <td>353.635462</td>\n",
              "    </tr>\n",
              "    <tr>\n",
              "      <th>10</th>\n",
              "      <td>62.914286</td>\n",
              "      <td>2.161224</td>\n",
              "      <td>366.815714</td>\n",
              "    </tr>\n",
              "    <tr>\n",
              "      <th>11</th>\n",
              "      <td>68.238095</td>\n",
              "      <td>4.714286</td>\n",
              "      <td>861.623333</td>\n",
              "    </tr>\n",
              "    <tr>\n",
              "      <th>12</th>\n",
              "      <td>54.333333</td>\n",
              "      <td>9.666667</td>\n",
              "      <td>728.480000</td>\n",
              "    </tr>\n",
              "  </tbody>\n",
              "</table>\n",
              "</div>"
            ],
            "text/plain": [
              "              recency  frequency  total_payment\n",
              "score_rfm                                      \n",
              "3          455.415840   1.000000      28.927718\n",
              "4          363.786792   1.003141      47.153606\n",
              "5          297.060620   1.005762      68.964709\n",
              "6          237.780465   1.012687     140.535414\n",
              "7          171.463098   1.035557     176.442896\n",
              "8          116.662880   1.060863     228.353614\n",
              "9           67.959092   1.113117     353.635462\n",
              "10          62.914286   2.161224     366.815714\n",
              "11          68.238095   4.714286     861.623333\n",
              "12          54.333333   9.666667     728.480000"
            ]
          },
          "metadata": {},
          "execution_count": 20
        }
      ]
    },
    {
      "cell_type": "code",
      "metadata": {
        "colab": {
          "base_uri": "https://localhost:8080/",
          "height": 224
        },
        "id": "9zbe73CcSM51",
        "outputId": "a0804bb3-0e27-49ea-e480-3b96d66a41c1"
      },
      "source": [
        "# define a func\n",
        "def rfm_assiner(df):\n",
        "  if (int(df['segment_RFM'])>=434) or (df['score_rfm']>=9):\n",
        "    return 'Best customer'\n",
        "  elif (df['score_rfm'] >=8) and (df['M']==4):\n",
        "    return 'Big Spender'\n",
        "  elif (df['score_rfm'] >= 6) and (df['F'] >= 2):\n",
        "    return 'Loyalist'\n",
        "  elif (int(df['segment_RFM']) >= 231) or (df['score_rfm'] >= 6):\n",
        "    return 'Potential Loyalists'\n",
        "  elif ((int(df['segment_RFM']) >= 121) and (df['R'] == 1)) or df['score_rfm'] == 5:\n",
        "    return 'Almost Lost'\n",
        "  elif (df['score_rfm'] >= 4) and (df['R'] == 1):\n",
        "    return 'Hibernating'\n",
        "  else:\n",
        "    return 'Lost Customer'\n",
        "# add new column\n",
        "df_rfm['customer_rfm_segment'] = df_rfm.apply(rfm_assiner, axis=1)\n",
        "df_rfm.head()\n"
      ],
      "execution_count": null,
      "outputs": [
        {
          "output_type": "execute_result",
          "data": {
            "text/html": [
              "<div>\n",
              "<style scoped>\n",
              "    .dataframe tbody tr th:only-of-type {\n",
              "        vertical-align: middle;\n",
              "    }\n",
              "\n",
              "    .dataframe tbody tr th {\n",
              "        vertical-align: top;\n",
              "    }\n",
              "\n",
              "    .dataframe thead th {\n",
              "        text-align: right;\n",
              "    }\n",
              "</style>\n",
              "<table border=\"1\" class=\"dataframe\">\n",
              "  <thead>\n",
              "    <tr style=\"text-align: right;\">\n",
              "      <th></th>\n",
              "      <th>customer_unique_id</th>\n",
              "      <th>recency</th>\n",
              "      <th>frequency</th>\n",
              "      <th>total_payment</th>\n",
              "      <th>avg_payment</th>\n",
              "      <th>quantity</th>\n",
              "      <th>segment</th>\n",
              "      <th>sub_segment</th>\n",
              "      <th>R</th>\n",
              "      <th>F</th>\n",
              "      <th>M</th>\n",
              "      <th>segment_RFM</th>\n",
              "      <th>score_rfm</th>\n",
              "      <th>customer_rfm_segment</th>\n",
              "    </tr>\n",
              "  </thead>\n",
              "  <tbody>\n",
              "    <tr>\n",
              "      <th>0</th>\n",
              "      <td>0000366f3b9a7992bf8c76cfdf3221e2</td>\n",
              "      <td>112</td>\n",
              "      <td>1</td>\n",
              "      <td>129.90</td>\n",
              "      <td>129.90</td>\n",
              "      <td>1</td>\n",
              "      <td>active</td>\n",
              "      <td>active_high</td>\n",
              "      <td>4</td>\n",
              "      <td>1</td>\n",
              "      <td>3</td>\n",
              "      <td>413</td>\n",
              "      <td>8</td>\n",
              "      <td>Potential Loyalists</td>\n",
              "    </tr>\n",
              "    <tr>\n",
              "      <th>1</th>\n",
              "      <td>0000b849f77a49e4a4ce2b2a4ca5be3f</td>\n",
              "      <td>115</td>\n",
              "      <td>1</td>\n",
              "      <td>18.90</td>\n",
              "      <td>18.90</td>\n",
              "      <td>1</td>\n",
              "      <td>active</td>\n",
              "      <td>active_low</td>\n",
              "      <td>4</td>\n",
              "      <td>1</td>\n",
              "      <td>1</td>\n",
              "      <td>411</td>\n",
              "      <td>6</td>\n",
              "      <td>Potential Loyalists</td>\n",
              "    </tr>\n",
              "    <tr>\n",
              "      <th>2</th>\n",
              "      <td>0000f46a3911fa3c0805444483337064</td>\n",
              "      <td>538</td>\n",
              "      <td>1</td>\n",
              "      <td>69.00</td>\n",
              "      <td>69.00</td>\n",
              "      <td>1</td>\n",
              "      <td>inactive</td>\n",
              "      <td>inactive</td>\n",
              "      <td>1</td>\n",
              "      <td>1</td>\n",
              "      <td>2</td>\n",
              "      <td>112</td>\n",
              "      <td>4</td>\n",
              "      <td>Hibernating</td>\n",
              "    </tr>\n",
              "    <tr>\n",
              "      <th>3</th>\n",
              "      <td>0000f6ccb0745a6a4b88665a16c9f078</td>\n",
              "      <td>322</td>\n",
              "      <td>1</td>\n",
              "      <td>25.99</td>\n",
              "      <td>25.99</td>\n",
              "      <td>1</td>\n",
              "      <td>hot</td>\n",
              "      <td>hot_low</td>\n",
              "      <td>2</td>\n",
              "      <td>1</td>\n",
              "      <td>1</td>\n",
              "      <td>211</td>\n",
              "      <td>4</td>\n",
              "      <td>Lost Customer</td>\n",
              "    </tr>\n",
              "    <tr>\n",
              "      <th>4</th>\n",
              "      <td>0004aac84e0df4da2b147fca70cf8255</td>\n",
              "      <td>289</td>\n",
              "      <td>1</td>\n",
              "      <td>180.00</td>\n",
              "      <td>180.00</td>\n",
              "      <td>1</td>\n",
              "      <td>hot</td>\n",
              "      <td>hot_high</td>\n",
              "      <td>2</td>\n",
              "      <td>1</td>\n",
              "      <td>4</td>\n",
              "      <td>214</td>\n",
              "      <td>7</td>\n",
              "      <td>Potential Loyalists</td>\n",
              "    </tr>\n",
              "  </tbody>\n",
              "</table>\n",
              "</div>"
            ],
            "text/plain": [
              "                 customer_unique_id  recency  ...  score_rfm  customer_rfm_segment\n",
              "0  0000366f3b9a7992bf8c76cfdf3221e2      112  ...          8   Potential Loyalists\n",
              "1  0000b849f77a49e4a4ce2b2a4ca5be3f      115  ...          6   Potential Loyalists\n",
              "2  0000f46a3911fa3c0805444483337064      538  ...          4           Hibernating\n",
              "3  0000f6ccb0745a6a4b88665a16c9f078      322  ...          4         Lost Customer\n",
              "4  0004aac84e0df4da2b147fca70cf8255      289  ...          7   Potential Loyalists\n",
              "\n",
              "[5 rows x 14 columns]"
            ]
          },
          "metadata": {},
          "execution_count": 21
        }
      ]
    },
    {
      "cell_type": "code",
      "metadata": {
        "colab": {
          "base_uri": "https://localhost:8080/",
          "height": 661
        },
        "id": "pTK3fAfJTvOm",
        "outputId": "3aae466a-d6bd-40a4-f626-02e31a03b287"
      },
      "source": [
        "# approach suggestion\n",
        "dict_rfm_tiers = {'Best customer': 'Personalized communication, offer loyalty program, no promotional offers needed',\n",
        "                  'Big Spender': 'Make them feel valued and offer quality products, encourage to stick with brands', \n",
        "                  'Loyalist': 'Offer loyalty program', \n",
        "                  'Potential Loyalists': 'Recommend products and offer discounts',\n",
        "                  'Almost Lost': 'Try to win them with limited sales promotions', \n",
        "                  'Hibernating': 'Make great offers with big discounts', \n",
        "                  'Lost Customer': 'Do not spent much effort and money to win them'}\n",
        "df_rfm['marketing_approach'] = df_rfm['customer_rfm_segment'].apply(lambda x: dict_rfm_tiers[x])\n",
        "df_rfm"
      ],
      "execution_count": null,
      "outputs": [
        {
          "output_type": "execute_result",
          "data": {
            "text/html": [
              "<div>\n",
              "<style scoped>\n",
              "    .dataframe tbody tr th:only-of-type {\n",
              "        vertical-align: middle;\n",
              "    }\n",
              "\n",
              "    .dataframe tbody tr th {\n",
              "        vertical-align: top;\n",
              "    }\n",
              "\n",
              "    .dataframe thead th {\n",
              "        text-align: right;\n",
              "    }\n",
              "</style>\n",
              "<table border=\"1\" class=\"dataframe\">\n",
              "  <thead>\n",
              "    <tr style=\"text-align: right;\">\n",
              "      <th></th>\n",
              "      <th>customer_unique_id</th>\n",
              "      <th>recency</th>\n",
              "      <th>frequency</th>\n",
              "      <th>total_payment</th>\n",
              "      <th>avg_payment</th>\n",
              "      <th>quantity</th>\n",
              "      <th>segment</th>\n",
              "      <th>sub_segment</th>\n",
              "      <th>R</th>\n",
              "      <th>F</th>\n",
              "      <th>M</th>\n",
              "      <th>segment_RFM</th>\n",
              "      <th>score_rfm</th>\n",
              "      <th>customer_rfm_segment</th>\n",
              "      <th>marketing_approach</th>\n",
              "    </tr>\n",
              "  </thead>\n",
              "  <tbody>\n",
              "    <tr>\n",
              "      <th>0</th>\n",
              "      <td>0000366f3b9a7992bf8c76cfdf3221e2</td>\n",
              "      <td>112</td>\n",
              "      <td>1</td>\n",
              "      <td>129.90</td>\n",
              "      <td>129.90</td>\n",
              "      <td>1</td>\n",
              "      <td>active</td>\n",
              "      <td>active_high</td>\n",
              "      <td>4</td>\n",
              "      <td>1</td>\n",
              "      <td>3</td>\n",
              "      <td>413</td>\n",
              "      <td>8</td>\n",
              "      <td>Potential Loyalists</td>\n",
              "      <td>Recommend products and offer discounts</td>\n",
              "    </tr>\n",
              "    <tr>\n",
              "      <th>1</th>\n",
              "      <td>0000b849f77a49e4a4ce2b2a4ca5be3f</td>\n",
              "      <td>115</td>\n",
              "      <td>1</td>\n",
              "      <td>18.90</td>\n",
              "      <td>18.90</td>\n",
              "      <td>1</td>\n",
              "      <td>active</td>\n",
              "      <td>active_low</td>\n",
              "      <td>4</td>\n",
              "      <td>1</td>\n",
              "      <td>1</td>\n",
              "      <td>411</td>\n",
              "      <td>6</td>\n",
              "      <td>Potential Loyalists</td>\n",
              "      <td>Recommend products and offer discounts</td>\n",
              "    </tr>\n",
              "    <tr>\n",
              "      <th>2</th>\n",
              "      <td>0000f46a3911fa3c0805444483337064</td>\n",
              "      <td>538</td>\n",
              "      <td>1</td>\n",
              "      <td>69.00</td>\n",
              "      <td>69.00</td>\n",
              "      <td>1</td>\n",
              "      <td>inactive</td>\n",
              "      <td>inactive</td>\n",
              "      <td>1</td>\n",
              "      <td>1</td>\n",
              "      <td>2</td>\n",
              "      <td>112</td>\n",
              "      <td>4</td>\n",
              "      <td>Hibernating</td>\n",
              "      <td>Make great offers with big discounts</td>\n",
              "    </tr>\n",
              "    <tr>\n",
              "      <th>3</th>\n",
              "      <td>0000f6ccb0745a6a4b88665a16c9f078</td>\n",
              "      <td>322</td>\n",
              "      <td>1</td>\n",
              "      <td>25.99</td>\n",
              "      <td>25.99</td>\n",
              "      <td>1</td>\n",
              "      <td>hot</td>\n",
              "      <td>hot_low</td>\n",
              "      <td>2</td>\n",
              "      <td>1</td>\n",
              "      <td>1</td>\n",
              "      <td>211</td>\n",
              "      <td>4</td>\n",
              "      <td>Lost Customer</td>\n",
              "      <td>Do not spent much effort and money to win them</td>\n",
              "    </tr>\n",
              "    <tr>\n",
              "      <th>4</th>\n",
              "      <td>0004aac84e0df4da2b147fca70cf8255</td>\n",
              "      <td>289</td>\n",
              "      <td>1</td>\n",
              "      <td>180.00</td>\n",
              "      <td>180.00</td>\n",
              "      <td>1</td>\n",
              "      <td>hot</td>\n",
              "      <td>hot_high</td>\n",
              "      <td>2</td>\n",
              "      <td>1</td>\n",
              "      <td>4</td>\n",
              "      <td>214</td>\n",
              "      <td>7</td>\n",
              "      <td>Potential Loyalists</td>\n",
              "      <td>Recommend products and offer discounts</td>\n",
              "    </tr>\n",
              "    <tr>\n",
              "      <th>...</th>\n",
              "      <td>...</td>\n",
              "      <td>...</td>\n",
              "      <td>...</td>\n",
              "      <td>...</td>\n",
              "      <td>...</td>\n",
              "      <td>...</td>\n",
              "      <td>...</td>\n",
              "      <td>...</td>\n",
              "      <td>...</td>\n",
              "      <td>...</td>\n",
              "      <td>...</td>\n",
              "      <td>...</td>\n",
              "      <td>...</td>\n",
              "      <td>...</td>\n",
              "      <td>...</td>\n",
              "    </tr>\n",
              "    <tr>\n",
              "      <th>93353</th>\n",
              "      <td>fffcf5a5ff07b0908bd4e2dbc735a684</td>\n",
              "      <td>448</td>\n",
              "      <td>1</td>\n",
              "      <td>1570.00</td>\n",
              "      <td>785.00</td>\n",
              "      <td>2</td>\n",
              "      <td>cold</td>\n",
              "      <td>cold_high</td>\n",
              "      <td>1</td>\n",
              "      <td>1</td>\n",
              "      <td>4</td>\n",
              "      <td>114</td>\n",
              "      <td>6</td>\n",
              "      <td>Potential Loyalists</td>\n",
              "      <td>Recommend products and offer discounts</td>\n",
              "    </tr>\n",
              "    <tr>\n",
              "      <th>93354</th>\n",
              "      <td>fffea47cd6d3cc0a88bd621562a9d061</td>\n",
              "      <td>263</td>\n",
              "      <td>1</td>\n",
              "      <td>64.89</td>\n",
              "      <td>64.89</td>\n",
              "      <td>1</td>\n",
              "      <td>hot</td>\n",
              "      <td>hot_low</td>\n",
              "      <td>2</td>\n",
              "      <td>1</td>\n",
              "      <td>2</td>\n",
              "      <td>212</td>\n",
              "      <td>5</td>\n",
              "      <td>Almost Lost</td>\n",
              "      <td>Try to win them with limited sales promotions</td>\n",
              "    </tr>\n",
              "    <tr>\n",
              "      <th>93355</th>\n",
              "      <td>ffff371b4d645b6ecea244b27531430a</td>\n",
              "      <td>569</td>\n",
              "      <td>1</td>\n",
              "      <td>89.90</td>\n",
              "      <td>89.90</td>\n",
              "      <td>1</td>\n",
              "      <td>inactive</td>\n",
              "      <td>inactive</td>\n",
              "      <td>1</td>\n",
              "      <td>1</td>\n",
              "      <td>3</td>\n",
              "      <td>113</td>\n",
              "      <td>5</td>\n",
              "      <td>Almost Lost</td>\n",
              "      <td>Try to win them with limited sales promotions</td>\n",
              "    </tr>\n",
              "    <tr>\n",
              "      <th>93356</th>\n",
              "      <td>ffff5962728ec6157033ef9805bacc48</td>\n",
              "      <td>120</td>\n",
              "      <td>1</td>\n",
              "      <td>115.00</td>\n",
              "      <td>115.00</td>\n",
              "      <td>1</td>\n",
              "      <td>active</td>\n",
              "      <td>active_high</td>\n",
              "      <td>3</td>\n",
              "      <td>1</td>\n",
              "      <td>3</td>\n",
              "      <td>313</td>\n",
              "      <td>7</td>\n",
              "      <td>Potential Loyalists</td>\n",
              "      <td>Recommend products and offer discounts</td>\n",
              "    </tr>\n",
              "    <tr>\n",
              "      <th>93357</th>\n",
              "      <td>ffffd2657e2aad2907e67c3e9daecbeb</td>\n",
              "      <td>485</td>\n",
              "      <td>1</td>\n",
              "      <td>56.99</td>\n",
              "      <td>56.99</td>\n",
              "      <td>1</td>\n",
              "      <td>cold</td>\n",
              "      <td>cold_low</td>\n",
              "      <td>1</td>\n",
              "      <td>1</td>\n",
              "      <td>2</td>\n",
              "      <td>112</td>\n",
              "      <td>4</td>\n",
              "      <td>Hibernating</td>\n",
              "      <td>Make great offers with big discounts</td>\n",
              "    </tr>\n",
              "  </tbody>\n",
              "</table>\n",
              "<p>93358 rows × 15 columns</p>\n",
              "</div>"
            ],
            "text/plain": [
              "                     customer_unique_id  ...                              marketing_approach\n",
              "0      0000366f3b9a7992bf8c76cfdf3221e2  ...          Recommend products and offer discounts\n",
              "1      0000b849f77a49e4a4ce2b2a4ca5be3f  ...          Recommend products and offer discounts\n",
              "2      0000f46a3911fa3c0805444483337064  ...            Make great offers with big discounts\n",
              "3      0000f6ccb0745a6a4b88665a16c9f078  ...  Do not spent much effort and money to win them\n",
              "4      0004aac84e0df4da2b147fca70cf8255  ...          Recommend products and offer discounts\n",
              "...                                 ...  ...                                             ...\n",
              "93353  fffcf5a5ff07b0908bd4e2dbc735a684  ...          Recommend products and offer discounts\n",
              "93354  fffea47cd6d3cc0a88bd621562a9d061  ...   Try to win them with limited sales promotions\n",
              "93355  ffff371b4d645b6ecea244b27531430a  ...   Try to win them with limited sales promotions\n",
              "93356  ffff5962728ec6157033ef9805bacc48  ...          Recommend products and offer discounts\n",
              "93357  ffffd2657e2aad2907e67c3e9daecbeb  ...            Make great offers with big discounts\n",
              "\n",
              "[93358 rows x 15 columns]"
            ]
          },
          "metadata": {},
          "execution_count": 22
        }
      ]
    },
    {
      "cell_type": "code",
      "metadata": {
        "colab": {
          "base_uri": "https://localhost:8080/",
          "height": 369
        },
        "id": "9FGPR990UDoX",
        "outputId": "13e11f00-e1d0-410b-f1a7-5e4f3fd3eb0c"
      },
      "source": [
        "# Vizualize segment sizes with the waffe chart\n",
        "plot_waffle_chart_(df_rfm, 'customer_unique_id', 'count', 'RFM segments', 'customer_rfm_segment')"
      ],
      "execution_count": null,
      "outputs": [
        {
          "output_type": "display_data",
          "data": {
            "image/png": "[encoded data removed]",
            "text/plain": [
              "<Waffle size 1080x360 with 1 Axes>"
            ]
          },
          "metadata": {
            "needs_background": "light"
          }
        }
      ]
    },
    {
      "cell_type": "markdown",
      "metadata": {
        "id": "9Grg4JZsmI0G"
      },
      "source": [
        "* The biggest RFM segment is the group of Potential loyalists. These are customers that need to targeted with more offers and discounts in order to make them buy more.  \n",
        "* Some effort needs to be spent to target hibernating customers and customers which are almost lost"
      ]
    },
    {
      "cell_type": "code",
      "metadata": {
        "colab": {
          "base_uri": "https://localhost:8080/",
          "height": 297
        },
        "id": "yjMk-AWhUM5v",
        "outputId": "c2148e0b-ff07-447a-f740-3b71985d2a1a"
      },
      "source": [
        "# table\n",
        "df_tbl_rfm = df_rfm.groupby('customer_rfm_segment').agg(\n",
        "    Count = ('customer_unique_id', 'count'),\n",
        "    Recency = ('recency', 'mean'),\n",
        "    Frequency = ('frequency', 'mean'),\n",
        "    Monetary = ('total_payment', 'mean'),\n",
        "    Strategy = ('marketing_approach', 'unique'),\n",
        ").round(1)\n",
        "df_tbl_rfm"
      ],
      "execution_count": null,
      "outputs": [
        {
          "output_type": "execute_result",
          "data": {
            "text/html": [
              "<div>\n",
              "<style scoped>\n",
              "    .dataframe tbody tr th:only-of-type {\n",
              "        vertical-align: middle;\n",
              "    }\n",
              "\n",
              "    .dataframe tbody tr th {\n",
              "        vertical-align: top;\n",
              "    }\n",
              "\n",
              "    .dataframe thead th {\n",
              "        text-align: right;\n",
              "    }\n",
              "</style>\n",
              "<table border=\"1\" class=\"dataframe\">\n",
              "  <thead>\n",
              "    <tr style=\"text-align: right;\">\n",
              "      <th></th>\n",
              "      <th>Count</th>\n",
              "      <th>Recency</th>\n",
              "      <th>Frequency</th>\n",
              "      <th>Monetary</th>\n",
              "      <th>Strategy</th>\n",
              "    </tr>\n",
              "    <tr>\n",
              "      <th>customer_rfm_segment</th>\n",
              "      <th></th>\n",
              "      <th></th>\n",
              "      <th></th>\n",
              "      <th></th>\n",
              "      <th></th>\n",
              "    </tr>\n",
              "  </thead>\n",
              "  <tbody>\n",
              "    <tr>\n",
              "      <th>Almost Lost</th>\n",
              "      <td>11581</td>\n",
              "      <td>361.9</td>\n",
              "      <td>1.0</td>\n",
              "      <td>88.8</td>\n",
              "      <td>[Try to win them with limited sales promotions]</td>\n",
              "    </tr>\n",
              "    <tr>\n",
              "      <th>Best customer</th>\n",
              "      <td>6552</td>\n",
              "      <td>67.6</td>\n",
              "      <td>1.2</td>\n",
              "      <td>356.4</td>\n",
              "      <td>[Personalized communication, offer loyalty pro...</td>\n",
              "    </tr>\n",
              "    <tr>\n",
              "      <th>Big Spender</th>\n",
              "      <td>5715</td>\n",
              "      <td>173.9</td>\n",
              "      <td>1.1</td>\n",
              "      <td>346.3</td>\n",
              "      <td>[Make them feel valued and offer quality produ...</td>\n",
              "    </tr>\n",
              "    <tr>\n",
              "      <th>Hibernating</th>\n",
              "      <td>5803</td>\n",
              "      <td>447.5</td>\n",
              "      <td>1.0</td>\n",
              "      <td>64.8</td>\n",
              "      <td>[Make great offers with big discounts]</td>\n",
              "    </tr>\n",
              "    <tr>\n",
              "      <th>Lost Customer</th>\n",
              "      <td>11574</td>\n",
              "      <td>368.6</td>\n",
              "      <td>1.0</td>\n",
              "      <td>29.0</td>\n",
              "      <td>[Do not spent much effort and money to win them]</td>\n",
              "    </tr>\n",
              "    <tr>\n",
              "      <th>Loyalist</th>\n",
              "      <td>1132</td>\n",
              "      <td>291.9</td>\n",
              "      <td>2.1</td>\n",
              "      <td>173.4</td>\n",
              "      <td>[Offer loyalty program]</td>\n",
              "    </tr>\n",
              "    <tr>\n",
              "      <th>Potential Loyalists</th>\n",
              "      <td>51001</td>\n",
              "      <td>185.2</td>\n",
              "      <td>1.0</td>\n",
              "      <td>136.7</td>\n",
              "      <td>[Recommend products and offer discounts]</td>\n",
              "    </tr>\n",
              "  </tbody>\n",
              "</table>\n",
              "</div>"
            ],
            "text/plain": [
              "                      Count  ...                                           Strategy\n",
              "customer_rfm_segment         ...                                                   \n",
              "Almost Lost           11581  ...    [Try to win them with limited sales promotions]\n",
              "Best customer          6552  ...  [Personalized communication, offer loyalty pro...\n",
              "Big Spender            5715  ...  [Make them feel valued and offer quality produ...\n",
              "Hibernating            5803  ...             [Make great offers with big discounts]\n",
              "Lost Customer         11574  ...   [Do not spent much effort and money to win them]\n",
              "Loyalist               1132  ...                            [Offer loyalty program]\n",
              "Potential Loyalists   51001  ...           [Recommend products and offer discounts]\n",
              "\n",
              "[7 rows x 5 columns]"
            ]
          },
          "metadata": {},
          "execution_count": 24
        }
      ]
    },
    {
      "cell_type": "markdown",
      "metadata": {
        "id": "PjhIYtl64QRm"
      },
      "source": [
        "### K-Means clustering"
      ]
    },
    {
      "cell_type": "code",
      "metadata": {
        "colab": {
          "base_uri": "https://localhost:8080/",
          "height": 235
        },
        "id": "ZmAnhI0yhOXy",
        "outputId": "48543882-2c4f-4047-eb19-aed160d72315"
      },
      "source": [
        "# create a dataframe using for clustering\n",
        "df_rfm_kmean = df_rfm[['customer_unique_id','recency', 'frequency', 'total_payment']]\n",
        "df_rfm_kmean = df_rfm_kmean.set_index('customer_unique_id')\n",
        "scaler = StandardScaler() \n",
        "scaler.fit(df_rfm_kmean) \n",
        "df_rfm_norm = scaler.transform(df_rfm_kmean)\n",
        "df_rfm_norm = pd.DataFrame(data=df_rfm_norm, index=df_rfm_kmean.index, columns=df_rfm_kmean.columns)\n",
        "df_rfm_norm.head()"
      ],
      "execution_count": null,
      "outputs": [
        {
          "output_type": "execute_result",
          "data": {
            "text/html": [
              "<div>\n",
              "<style scoped>\n",
              "    .dataframe tbody tr th:only-of-type {\n",
              "        vertical-align: middle;\n",
              "    }\n",
              "\n",
              "    .dataframe tbody tr th {\n",
              "        vertical-align: top;\n",
              "    }\n",
              "\n",
              "    .dataframe thead th {\n",
              "        text-align: right;\n",
              "    }\n",
              "</style>\n",
              "<table border=\"1\" class=\"dataframe\">\n",
              "  <thead>\n",
              "    <tr style=\"text-align: right;\">\n",
              "      <th></th>\n",
              "      <th>recency</th>\n",
              "      <th>frequency</th>\n",
              "      <th>total_payment</th>\n",
              "    </tr>\n",
              "    <tr>\n",
              "      <th>customer_unique_id</th>\n",
              "      <th></th>\n",
              "      <th></th>\n",
              "      <th></th>\n",
              "    </tr>\n",
              "  </thead>\n",
              "  <tbody>\n",
              "    <tr>\n",
              "      <th>0000366f3b9a7992bf8c76cfdf3221e2</th>\n",
              "      <td>-0.828857</td>\n",
              "      <td>-0.159829</td>\n",
              "      <td>-0.054343</td>\n",
              "    </tr>\n",
              "    <tr>\n",
              "      <th>0000b849f77a49e4a4ce2b2a4ca5be3f</th>\n",
              "      <td>-0.809198</td>\n",
              "      <td>-0.159829</td>\n",
              "      <td>-0.568964</td>\n",
              "    </tr>\n",
              "    <tr>\n",
              "      <th>0000f46a3911fa3c0805444483337064</th>\n",
              "      <td>1.962860</td>\n",
              "      <td>-0.159829</td>\n",
              "      <td>-0.336689</td>\n",
              "    </tr>\n",
              "    <tr>\n",
              "      <th>0000f6ccb0745a6a4b88665a16c9f078</th>\n",
              "      <td>0.547341</td>\n",
              "      <td>-0.159829</td>\n",
              "      <td>-0.536093</td>\n",
              "    </tr>\n",
              "    <tr>\n",
              "      <th>0004aac84e0df4da2b147fca70cf8255</th>\n",
              "      <td>0.331081</td>\n",
              "      <td>-0.159829</td>\n",
              "      <td>0.177931</td>\n",
              "    </tr>\n",
              "  </tbody>\n",
              "</table>\n",
              "</div>"
            ],
            "text/plain": [
              "                                   recency  frequency  total_payment\n",
              "customer_unique_id                                                  \n",
              "0000366f3b9a7992bf8c76cfdf3221e2 -0.828857  -0.159829      -0.054343\n",
              "0000b849f77a49e4a4ce2b2a4ca5be3f -0.809198  -0.159829      -0.568964\n",
              "0000f46a3911fa3c0805444483337064  1.962860  -0.159829      -0.336689\n",
              "0000f6ccb0745a6a4b88665a16c9f078  0.547341  -0.159829      -0.536093\n",
              "0004aac84e0df4da2b147fca70cf8255  0.331081  -0.159829       0.177931"
            ]
          },
          "metadata": {},
          "execution_count": 25
        }
      ]
    },
    {
      "cell_type": "code",
      "metadata": {
        "colab": {
          "base_uri": "https://localhost:8080/",
          "height": 350
        },
        "id": "ht1hJSbxi48Y",
        "outputId": "23be095c-3dc5-4285-d536-1e45eda14ad0"
      },
      "source": [
        "# find best number of clusters\n",
        "sse={}\n",
        "for k in range(1, 10):\n",
        "  kmeans = KMeans(n_clusters=k, max_iter=1000).fit(df_rfm_norm)\n",
        "  sse[k] = kmeans.inertia_\n",
        "plt.figure(figsize=(15,5))\n",
        "plt.plot(list(sse.keys()), list(sse.values()), marker= 'o')\n",
        "plt.xlabel('Number of clusters \"K\"')\n",
        "plt.ylabel('Sum of Squared Errors')\n",
        "plt.title('Elbow Method - Clusters vs. Sum of Squared Errors');\n",
        "plt.show()"
      ],
      "execution_count": null,
      "outputs": [
        {
          "output_type": "display_data",
          "data": {
            "image/png": "[encoded data removed]",
            "text/plain": [
              "<Figure size 1080x360 with 1 Axes>"
            ]
          },
          "metadata": {
            "needs_background": "light"
          }
        }
      ]
    },
    {
      "cell_type": "markdown",
      "metadata": {
        "id": "9osCT7U0nDwr"
      },
      "source": [
        "The Ellbow Method indicates that a cluster number of 4 is a suitable value."
      ]
    },
    {
      "cell_type": "code",
      "metadata": {
        "colab": {
          "base_uri": "https://localhost:8080/",
          "height": 235
        },
        "id": "tW4Bv3qNmNyX",
        "outputId": "db79e913-0ed2-43d0-ea4d-0cbcfb3b6eb1"
      },
      "source": [
        "# how this clustering looks like\n",
        "k_means = KMeans(n_clusters=4, random_state=42)\n",
        "k_means.fit(df_rfm_norm)\n",
        "cluster = k_means.labels_\n",
        "df_rfm_4 = df_rfm.assign(Cluster=cluster)\n",
        "df_group_4 = df_rfm_4.groupby('Cluster').agg({\n",
        "    'recency': 'mean',\n",
        "    'frequency': 'mean',\n",
        "    'total_payment': ['mean', 'count']\n",
        "  }).round(1)\n",
        "df_group_4"
      ],
      "execution_count": null,
      "outputs": [
        {
          "output_type": "execute_result",
          "data": {
            "text/html": [
              "<div>\n",
              "<style scoped>\n",
              "    .dataframe tbody tr th:only-of-type {\n",
              "        vertical-align: middle;\n",
              "    }\n",
              "\n",
              "    .dataframe tbody tr th {\n",
              "        vertical-align: top;\n",
              "    }\n",
              "\n",
              "    .dataframe thead tr th {\n",
              "        text-align: left;\n",
              "    }\n",
              "\n",
              "    .dataframe thead tr:last-of-type th {\n",
              "        text-align: right;\n",
              "    }\n",
              "</style>\n",
              "<table border=\"1\" class=\"dataframe\">\n",
              "  <thead>\n",
              "    <tr>\n",
              "      <th></th>\n",
              "      <th>recency</th>\n",
              "      <th>frequency</th>\n",
              "      <th colspan=\"2\" halign=\"left\">total_payment</th>\n",
              "    </tr>\n",
              "    <tr>\n",
              "      <th></th>\n",
              "      <th>mean</th>\n",
              "      <th>mean</th>\n",
              "      <th>mean</th>\n",
              "      <th>count</th>\n",
              "    </tr>\n",
              "    <tr>\n",
              "      <th>Cluster</th>\n",
              "      <th></th>\n",
              "      <th></th>\n",
              "      <th></th>\n",
              "      <th></th>\n",
              "    </tr>\n",
              "  </thead>\n",
              "  <tbody>\n",
              "    <tr>\n",
              "      <th>0</th>\n",
              "      <td>128.8</td>\n",
              "      <td>1.0</td>\n",
              "      <td>113.4</td>\n",
              "      <td>50832</td>\n",
              "    </tr>\n",
              "    <tr>\n",
              "      <th>1</th>\n",
              "      <td>388.2</td>\n",
              "      <td>1.0</td>\n",
              "      <td>114.1</td>\n",
              "      <td>37566</td>\n",
              "    </tr>\n",
              "    <tr>\n",
              "      <th>2</th>\n",
              "      <td>238.1</td>\n",
              "      <td>1.0</td>\n",
              "      <td>1142.7</td>\n",
              "      <td>2186</td>\n",
              "    </tr>\n",
              "    <tr>\n",
              "      <th>3</th>\n",
              "      <td>220.9</td>\n",
              "      <td>2.1</td>\n",
              "      <td>243.2</td>\n",
              "      <td>2774</td>\n",
              "    </tr>\n",
              "  </tbody>\n",
              "</table>\n",
              "</div>"
            ],
            "text/plain": [
              "        recency frequency total_payment       \n",
              "           mean      mean          mean  count\n",
              "Cluster                                       \n",
              "0         128.8       1.0         113.4  50832\n",
              "1         388.2       1.0         114.1  37566\n",
              "2         238.1       1.0        1142.7   2186\n",
              "3         220.9       2.1         243.2   2774"
            ]
          },
          "metadata": {},
          "execution_count": 28
        }
      ]
    },
    {
      "cell_type": "code",
      "metadata": {
        "colab": {
          "base_uri": "https://localhost:8080/",
          "height": 327
        },
        "id": "SNStdsGV_mge",
        "outputId": "f5d8f6ca-b4b8-47a5-c185-0bc098c4cdde"
      },
      "source": [
        "df_rfm_4.head()"
      ],
      "execution_count": null,
      "outputs": [
        {
          "output_type": "execute_result",
          "data": {
            "text/html": [
              "<div>\n",
              "<style scoped>\n",
              "    .dataframe tbody tr th:only-of-type {\n",
              "        vertical-align: middle;\n",
              "    }\n",
              "\n",
              "    .dataframe tbody tr th {\n",
              "        vertical-align: top;\n",
              "    }\n",
              "\n",
              "    .dataframe thead th {\n",
              "        text-align: right;\n",
              "    }\n",
              "</style>\n",
              "<table border=\"1\" class=\"dataframe\">\n",
              "  <thead>\n",
              "    <tr style=\"text-align: right;\">\n",
              "      <th></th>\n",
              "      <th>customer_unique_id</th>\n",
              "      <th>recency</th>\n",
              "      <th>frequency</th>\n",
              "      <th>total_payment</th>\n",
              "      <th>avg_payment</th>\n",
              "      <th>quantity</th>\n",
              "      <th>segment</th>\n",
              "      <th>sub_segment</th>\n",
              "      <th>R</th>\n",
              "      <th>F</th>\n",
              "      <th>M</th>\n",
              "      <th>segment_RFM</th>\n",
              "      <th>score_rfm</th>\n",
              "      <th>customer_rfm_segment</th>\n",
              "      <th>marketing_approach</th>\n",
              "      <th>Cluster</th>\n",
              "    </tr>\n",
              "  </thead>\n",
              "  <tbody>\n",
              "    <tr>\n",
              "      <th>0</th>\n",
              "      <td>0000366f3b9a7992bf8c76cfdf3221e2</td>\n",
              "      <td>112</td>\n",
              "      <td>1</td>\n",
              "      <td>129.90</td>\n",
              "      <td>129.90</td>\n",
              "      <td>1</td>\n",
              "      <td>active</td>\n",
              "      <td>active_high</td>\n",
              "      <td>4</td>\n",
              "      <td>1</td>\n",
              "      <td>3</td>\n",
              "      <td>413</td>\n",
              "      <td>8</td>\n",
              "      <td>Potential Loyalists</td>\n",
              "      <td>Recommend products and offer discounts</td>\n",
              "      <td>0</td>\n",
              "    </tr>\n",
              "    <tr>\n",
              "      <th>1</th>\n",
              "      <td>0000b849f77a49e4a4ce2b2a4ca5be3f</td>\n",
              "      <td>115</td>\n",
              "      <td>1</td>\n",
              "      <td>18.90</td>\n",
              "      <td>18.90</td>\n",
              "      <td>1</td>\n",
              "      <td>active</td>\n",
              "      <td>active_low</td>\n",
              "      <td>4</td>\n",
              "      <td>1</td>\n",
              "      <td>1</td>\n",
              "      <td>411</td>\n",
              "      <td>6</td>\n",
              "      <td>Potential Loyalists</td>\n",
              "      <td>Recommend products and offer discounts</td>\n",
              "      <td>0</td>\n",
              "    </tr>\n",
              "    <tr>\n",
              "      <th>2</th>\n",
              "      <td>0000f46a3911fa3c0805444483337064</td>\n",
              "      <td>538</td>\n",
              "      <td>1</td>\n",
              "      <td>69.00</td>\n",
              "      <td>69.00</td>\n",
              "      <td>1</td>\n",
              "      <td>inactive</td>\n",
              "      <td>inactive</td>\n",
              "      <td>1</td>\n",
              "      <td>1</td>\n",
              "      <td>2</td>\n",
              "      <td>112</td>\n",
              "      <td>4</td>\n",
              "      <td>Hibernating</td>\n",
              "      <td>Make great offers with big discounts</td>\n",
              "      <td>1</td>\n",
              "    </tr>\n",
              "    <tr>\n",
              "      <th>3</th>\n",
              "      <td>0000f6ccb0745a6a4b88665a16c9f078</td>\n",
              "      <td>322</td>\n",
              "      <td>1</td>\n",
              "      <td>25.99</td>\n",
              "      <td>25.99</td>\n",
              "      <td>1</td>\n",
              "      <td>hot</td>\n",
              "      <td>hot_low</td>\n",
              "      <td>2</td>\n",
              "      <td>1</td>\n",
              "      <td>1</td>\n",
              "      <td>211</td>\n",
              "      <td>4</td>\n",
              "      <td>Lost Customer</td>\n",
              "      <td>Do not spent much effort and money to win them</td>\n",
              "      <td>1</td>\n",
              "    </tr>\n",
              "    <tr>\n",
              "      <th>4</th>\n",
              "      <td>0004aac84e0df4da2b147fca70cf8255</td>\n",
              "      <td>289</td>\n",
              "      <td>1</td>\n",
              "      <td>180.00</td>\n",
              "      <td>180.00</td>\n",
              "      <td>1</td>\n",
              "      <td>hot</td>\n",
              "      <td>hot_high</td>\n",
              "      <td>2</td>\n",
              "      <td>1</td>\n",
              "      <td>4</td>\n",
              "      <td>214</td>\n",
              "      <td>7</td>\n",
              "      <td>Potential Loyalists</td>\n",
              "      <td>Recommend products and offer discounts</td>\n",
              "      <td>1</td>\n",
              "    </tr>\n",
              "  </tbody>\n",
              "</table>\n",
              "</div>"
            ],
            "text/plain": [
              "                 customer_unique_id  ...  Cluster\n",
              "0  0000366f3b9a7992bf8c76cfdf3221e2  ...        0\n",
              "1  0000b849f77a49e4a4ce2b2a4ca5be3f  ...        0\n",
              "2  0000f46a3911fa3c0805444483337064  ...        1\n",
              "3  0000f6ccb0745a6a4b88665a16c9f078  ...        1\n",
              "4  0004aac84e0df4da2b147fca70cf8255  ...        1\n",
              "\n",
              "[5 rows x 16 columns]"
            ]
          },
          "metadata": {},
          "execution_count": 29
        }
      ]
    },
    {
      "cell_type": "code",
      "metadata": {
        "id": "hEcHzntEfu76"
      },
      "source": [
        "# save file\n",
        "df_rfm_4.to_csv(os.path.join(path,'df_rfm_clustering.csv'), encoding='utf-8-sig',index=False)"
      ],
      "execution_count": null,
      "outputs": []
    }
  ]
}