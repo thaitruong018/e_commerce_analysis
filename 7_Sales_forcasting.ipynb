{
  "nbformat": 4,
  "nbformat_minor": 0,
  "metadata": {
    "colab": {
      "name": "7_Sales_forcasting.ipynb",
      "provenance": [],
      "collapsed_sections": [],
      "authorship_tag": "ABX9TyN4xJu+I3Da0EgiF46P0Vrk",
      "include_colab_link": true
    },
    "kernelspec": {
      "name": "python3",
      "display_name": "Python 3"
    },
    "language_info": {
      "name": "python"
    }
  },
  "cells": [
    {
      "cell_type": "markdown",
      "metadata": {
        "id": "view-in-github",
        "colab_type": "text"
      },
      "source": [
        "<a href=\"https://colab.research.google.com/github/thaitruong018/e_commerce_analysis/blob/main/7_Sales_forcasting.ipynb\" target=\"_parent\"><img src=\"https://colab.research.google.com/assets/colab-badge.svg\" alt=\"Open In Colab\"/></a>"
      ]
    },
    {
      "cell_type": "markdown",
      "metadata": {
        "id": "VGJ8X-kQOSNT"
      },
      "source": [
        "## Set-up"
      ]
    },
    {
      "cell_type": "code",
      "metadata": {
        "colab": {
          "base_uri": "https://localhost:8080/"
        },
        "id": "7Vlo7TMBTRJv",
        "outputId": "1011c9fe-c7e6-4dee-bf5f-5699e9eb505c"
      },
      "source": [
        "# connect to gg drive\n",
        "from google.colab import drive\n",
        "drive.mount('/content/gdrive')"
      ],
      "execution_count": 18,
      "outputs": [
        {
          "output_type": "stream",
          "name": "stdout",
          "text": [
            "Drive already mounted at /content/gdrive; to attempt to forcibly remount, call drive.mount(\"/content/gdrive\", force_remount=True).\n"
          ]
        }
      ]
    },
    {
      "cell_type": "code",
      "metadata": {
        "id": "R8P48xaeaEXY"
      },
      "source": [
        "# improt libraries\n",
        "import os\n",
        "import datetime\n",
        "import numpy as np\n",
        "import pandas as pd\n",
        "import seaborn as sns\n",
        "import matplotlib.pyplot as plt\n",
        "import matplotlib.dates as mdates\n",
        "%matplotlib inline\n",
        "import statsmodels.tsa.api as smt"
      ],
      "execution_count": 19,
      "outputs": []
    },
    {
      "cell_type": "code",
      "metadata": {
        "id": "8L-CEmz0Rf5G"
      },
      "source": [
        "# define a func to load in original dataframe without scaling applied\n",
        "def load_original_df():\n",
        "  \n",
        "  original_df = pd.read_csv(os.path.join(path,'df_order_items_products_customers.csv'))\n",
        "  original_df = original_df[original_df['order_status']=='delivered'].reset_index(drop=True)\n",
        "  original_df = original_df[['order_purchase_timestamp','quantity','price']].copy()\n",
        "  original_df.rename(columns={'order_purchase_timestamp':'date'},inplace=True)\n",
        "  original_df['sales'] = round(original_df['quantity']*original_df['price'])\n",
        "  \n",
        "  original_df['date'] = pd.to_datetime(original_df['date'])\n",
        "  original_df['date'] = original_df['date'].dt.to_period('M')\n",
        "  original_df = original_df.groupby('date')['sales'].sum().reset_index()\n",
        "  original_df['date'] = original_df['date'].dt.strftime('%Y-%m-01')\n",
        "  original_df['date'] = pd.to_datetime(original_df['date'])\n",
        "  return original_df"
      ],
      "execution_count": 20,
      "outputs": []
    },
    {
      "cell_type": "code",
      "metadata": {
        "id": "n0KhJxGPTgON"
      },
      "source": [
        "# path to data\n",
        "path = '/content/gdrive/MyDrive/brazilian_ecommerce'"
      ],
      "execution_count": 21,
      "outputs": []
    },
    {
      "cell_type": "markdown",
      "metadata": {
        "id": "GiOw55Q-RiRW"
      },
      "source": [
        "## Data"
      ]
    },
    {
      "cell_type": "code",
      "metadata": {
        "colab": {
          "base_uri": "https://localhost:8080/",
          "height": 241
        },
        "id": "hB1Cp3D6Tz-d",
        "outputId": "449db433-ad3e-43c7-aaf3-f100293545ed"
      },
      "source": [
        "# read data\n",
        "df_orders = pd.read_csv(os.path.join(path,'df_order_items_products_customers.csv'))\n",
        "df_orders.head()"
      ],
      "execution_count": 22,
      "outputs": [
        {
          "output_type": "execute_result",
          "data": {
            "text/html": [
              "<div>\n",
              "<style scoped>\n",
              "    .dataframe tbody tr th:only-of-type {\n",
              "        vertical-align: middle;\n",
              "    }\n",
              "\n",
              "    .dataframe tbody tr th {\n",
              "        vertical-align: top;\n",
              "    }\n",
              "\n",
              "    .dataframe thead th {\n",
              "        text-align: right;\n",
              "    }\n",
              "</style>\n",
              "<table border=\"1\" class=\"dataframe\">\n",
              "  <thead>\n",
              "    <tr style=\"text-align: right;\">\n",
              "      <th></th>\n",
              "      <th>order_id</th>\n",
              "      <th>customer_id</th>\n",
              "      <th>order_status</th>\n",
              "      <th>order_purchase_timestamp</th>\n",
              "      <th>order_approved_at</th>\n",
              "      <th>order_delivered_carrier_date</th>\n",
              "      <th>order_delivered_customer_date</th>\n",
              "      <th>order_estimated_delivery_date</th>\n",
              "      <th>product_id</th>\n",
              "      <th>quantity</th>\n",
              "      <th>seller_id</th>\n",
              "      <th>shipping_limit_date</th>\n",
              "      <th>price</th>\n",
              "      <th>freight_value</th>\n",
              "      <th>product_category_name</th>\n",
              "      <th>customer_unique_id</th>\n",
              "      <th>customer_zip_code_prefix</th>\n",
              "      <th>customer_city</th>\n",
              "      <th>customer_state</th>\n",
              "    </tr>\n",
              "  </thead>\n",
              "  <tbody>\n",
              "    <tr>\n",
              "      <th>0</th>\n",
              "      <td>2e7a8482f6fb09756ca50c10d7bfc047</td>\n",
              "      <td>08c5351a6aca1c1589a38f244edeee9d</td>\n",
              "      <td>shipped</td>\n",
              "      <td>2016-09-04</td>\n",
              "      <td>2016-10-07</td>\n",
              "      <td>2016-10-18</td>\n",
              "      <td>2016-11-09</td>\n",
              "      <td>2016-10-20</td>\n",
              "      <td>c1488892604e4ba5cff5b4eb4d595400</td>\n",
              "      <td>1</td>\n",
              "      <td>1554a68530182680ad5c8b042c3ab563</td>\n",
              "      <td>2016-10-26 18:25:19</td>\n",
              "      <td>39.99</td>\n",
              "      <td>31.67</td>\n",
              "      <td>moveis_decoracao</td>\n",
              "      <td>b7d76e111c89f7ebf14761390f0f7d17</td>\n",
              "      <td>69309</td>\n",
              "      <td>boa vista</td>\n",
              "      <td>RR</td>\n",
              "    </tr>\n",
              "    <tr>\n",
              "      <th>1</th>\n",
              "      <td>2e7a8482f6fb09756ca50c10d7bfc047</td>\n",
              "      <td>08c5351a6aca1c1589a38f244edeee9d</td>\n",
              "      <td>shipped</td>\n",
              "      <td>2016-09-04</td>\n",
              "      <td>2016-10-07</td>\n",
              "      <td>2016-10-18</td>\n",
              "      <td>2016-11-09</td>\n",
              "      <td>2016-10-20</td>\n",
              "      <td>f293394c72c9b5fafd7023301fc21fc2</td>\n",
              "      <td>1</td>\n",
              "      <td>1554a68530182680ad5c8b042c3ab563</td>\n",
              "      <td>2016-10-26 18:25:19</td>\n",
              "      <td>32.90</td>\n",
              "      <td>31.67</td>\n",
              "      <td>moveis_decoracao</td>\n",
              "      <td>b7d76e111c89f7ebf14761390f0f7d17</td>\n",
              "      <td>69309</td>\n",
              "      <td>boa vista</td>\n",
              "      <td>RR</td>\n",
              "    </tr>\n",
              "    <tr>\n",
              "      <th>2</th>\n",
              "      <td>35d3a51724a47ef1d0b89911e39cc4ff</td>\n",
              "      <td>27ab53f26192510ff85872aeb3759dcc</td>\n",
              "      <td>delivered</td>\n",
              "      <td>2016-10-04</td>\n",
              "      <td>2016-10-05</td>\n",
              "      <td>2016-10-14</td>\n",
              "      <td>2016-10-26</td>\n",
              "      <td>2016-12-20</td>\n",
              "      <td>c1488892604e4ba5cff5b4eb4d595400</td>\n",
              "      <td>1</td>\n",
              "      <td>1554a68530182680ad5c8b042c3ab563</td>\n",
              "      <td>2016-10-14 02:44:30</td>\n",
              "      <td>39.99</td>\n",
              "      <td>22.34</td>\n",
              "      <td>moveis_decoracao</td>\n",
              "      <td>f922896769e9517ea3c630f3c8de86d0</td>\n",
              "      <td>96832</td>\n",
              "      <td>santa cruz do sul</td>\n",
              "      <td>RS</td>\n",
              "    </tr>\n",
              "    <tr>\n",
              "      <th>3</th>\n",
              "      <td>c4f710df20f7d1500da1aef81a993f65</td>\n",
              "      <td>4b671f05b6eb9dc1d2c1bae9c8c78536</td>\n",
              "      <td>delivered</td>\n",
              "      <td>2016-10-10</td>\n",
              "      <td>2016-10-10</td>\n",
              "      <td>2016-10-18</td>\n",
              "      <td>2016-10-26</td>\n",
              "      <td>2016-12-14</td>\n",
              "      <td>c1488892604e4ba5cff5b4eb4d595400</td>\n",
              "      <td>1</td>\n",
              "      <td>1554a68530182680ad5c8b042c3ab563</td>\n",
              "      <td>2016-10-26 16:35:46</td>\n",
              "      <td>39.99</td>\n",
              "      <td>11.80</td>\n",
              "      <td>moveis_decoracao</td>\n",
              "      <td>0ecf7f65b5ff3b9e61b637e59f495e0a</td>\n",
              "      <td>30411</td>\n",
              "      <td>belo horizonte</td>\n",
              "      <td>MG</td>\n",
              "    </tr>\n",
              "    <tr>\n",
              "      <th>4</th>\n",
              "      <td>81e5043198a44ddeb226002ff55d8ad4</td>\n",
              "      <td>ddd15ef77c83eea8c534d2896173a927</td>\n",
              "      <td>delivered</td>\n",
              "      <td>2017-01-09</td>\n",
              "      <td>2017-01-09</td>\n",
              "      <td>2017-01-09</td>\n",
              "      <td>2017-02-24</td>\n",
              "      <td>2017-02-24</td>\n",
              "      <td>c1488892604e4ba5cff5b4eb4d595400</td>\n",
              "      <td>2</td>\n",
              "      <td>1554a68530182680ad5c8b042c3ab563</td>\n",
              "      <td>2017-01-13 00:37:18</td>\n",
              "      <td>38.50</td>\n",
              "      <td>15.56</td>\n",
              "      <td>moveis_decoracao</td>\n",
              "      <td>853ba75a0b423722ccf270eea3b4cfe4</td>\n",
              "      <td>21843</td>\n",
              "      <td>rio de janeiro</td>\n",
              "      <td>RJ</td>\n",
              "    </tr>\n",
              "  </tbody>\n",
              "</table>\n",
              "</div>"
            ],
            "text/plain": [
              "                           order_id  ... customer_state\n",
              "0  2e7a8482f6fb09756ca50c10d7bfc047  ...             RR\n",
              "1  2e7a8482f6fb09756ca50c10d7bfc047  ...             RR\n",
              "2  35d3a51724a47ef1d0b89911e39cc4ff  ...             RS\n",
              "3  c4f710df20f7d1500da1aef81a993f65  ...             MG\n",
              "4  81e5043198a44ddeb226002ff55d8ad4  ...             RJ\n",
              "\n",
              "[5 rows x 19 columns]"
            ]
          },
          "metadata": {},
          "execution_count": 22
        }
      ]
    },
    {
      "cell_type": "code",
      "metadata": {
        "id": "vLKbgc8pVZu6",
        "colab": {
          "base_uri": "https://localhost:8080/",
          "height": 204
        },
        "outputId": "0f762d42-d6e1-4d43-e384-245ac387d82d"
      },
      "source": [
        "# using only delivered status\n",
        "df_orders = df_orders[df_orders['order_status']=='delivered'].reset_index(drop=True)\n",
        "# using necessary columns for further prediction\n",
        "sales_data = df_orders[['order_purchase_timestamp','quantity','price']].copy()\n",
        "# rename col\n",
        "sales_data.rename(columns={'order_purchase_timestamp':'date'},inplace=True)\n",
        "# calculate sales\n",
        "sales_data['sales'] = sales_data['quantity']*sales_data['price']\n",
        "sales_data.head()"
      ],
      "execution_count": 23,
      "outputs": [
        {
          "output_type": "execute_result",
          "data": {
            "text/html": [
              "<div>\n",
              "<style scoped>\n",
              "    .dataframe tbody tr th:only-of-type {\n",
              "        vertical-align: middle;\n",
              "    }\n",
              "\n",
              "    .dataframe tbody tr th {\n",
              "        vertical-align: top;\n",
              "    }\n",
              "\n",
              "    .dataframe thead th {\n",
              "        text-align: right;\n",
              "    }\n",
              "</style>\n",
              "<table border=\"1\" class=\"dataframe\">\n",
              "  <thead>\n",
              "    <tr style=\"text-align: right;\">\n",
              "      <th></th>\n",
              "      <th>date</th>\n",
              "      <th>quantity</th>\n",
              "      <th>price</th>\n",
              "      <th>sales</th>\n",
              "    </tr>\n",
              "  </thead>\n",
              "  <tbody>\n",
              "    <tr>\n",
              "      <th>0</th>\n",
              "      <td>2016-10-04</td>\n",
              "      <td>1</td>\n",
              "      <td>39.99</td>\n",
              "      <td>39.99</td>\n",
              "    </tr>\n",
              "    <tr>\n",
              "      <th>1</th>\n",
              "      <td>2016-10-10</td>\n",
              "      <td>1</td>\n",
              "      <td>39.99</td>\n",
              "      <td>39.99</td>\n",
              "    </tr>\n",
              "    <tr>\n",
              "      <th>2</th>\n",
              "      <td>2017-01-09</td>\n",
              "      <td>2</td>\n",
              "      <td>38.50</td>\n",
              "      <td>77.00</td>\n",
              "    </tr>\n",
              "    <tr>\n",
              "      <th>3</th>\n",
              "      <td>2017-01-14</td>\n",
              "      <td>1</td>\n",
              "      <td>38.50</td>\n",
              "      <td>38.50</td>\n",
              "    </tr>\n",
              "    <tr>\n",
              "      <th>4</th>\n",
              "      <td>2017-01-17</td>\n",
              "      <td>1</td>\n",
              "      <td>38.50</td>\n",
              "      <td>38.50</td>\n",
              "    </tr>\n",
              "  </tbody>\n",
              "</table>\n",
              "</div>"
            ],
            "text/plain": [
              "         date  quantity  price  sales\n",
              "0  2016-10-04         1  39.99  39.99\n",
              "1  2016-10-10         1  39.99  39.99\n",
              "2  2017-01-09         2  38.50  77.00\n",
              "3  2017-01-14         1  38.50  38.50\n",
              "4  2017-01-17         1  38.50  38.50"
            ]
          },
          "metadata": {},
          "execution_count": 23
        }
      ]
    },
    {
      "cell_type": "code",
      "metadata": {
        "colab": {
          "base_uri": "https://localhost:8080/"
        },
        "id": "d3jmEkf0aUzq",
        "outputId": "48f22ba3-0b46-4fd1-f376-5acb5d9b37e2"
      },
      "source": [
        "# overall info\n",
        "sales_data.info()"
      ],
      "execution_count": 24,
      "outputs": [
        {
          "output_type": "stream",
          "name": "stdout",
          "text": [
            "<class 'pandas.core.frame.DataFrame'>\n",
            "RangeIndex: 100196 entries, 0 to 100195\n",
            "Data columns (total 4 columns):\n",
            " #   Column    Non-Null Count   Dtype  \n",
            "---  ------    --------------   -----  \n",
            " 0   date      100196 non-null  object \n",
            " 1   quantity  100196 non-null  int64  \n",
            " 2   price     100196 non-null  float64\n",
            " 3   sales     100196 non-null  float64\n",
            "dtypes: float64(2), int64(1), object(1)\n",
            "memory usage: 3.1+ MB\n"
          ]
        }
      ]
    },
    {
      "cell_type": "code",
      "metadata": {
        "id": "6jkoPL-0qooH",
        "colab": {
          "base_uri": "https://localhost:8080/",
          "height": 204
        },
        "outputId": "f8a53951-96f6-42c6-cfce-b94c58259900"
      },
      "source": [
        "# define a dataframe where each row represents total sales\n",
        "def monthly_sales(data):\n",
        "  monthly_data = data.copy()\n",
        "  monthly_data['date'] = pd.to_datetime(monthly_data['date'])\n",
        "  monthly_data['date'] = monthly_data['date'].dt.to_period('M')\n",
        "  monthly_data = monthly_data.groupby('date')['sales'].sum().reset_index()\n",
        "  monthly_data['date'] = monthly_data['date'].dt.strftime('%Y-%m-01')\n",
        "  monthly_data['date'] = pd.to_datetime(monthly_data.date)\n",
        "  return monthly_data\n",
        "monthly_df = monthly_sales(sales_data)\n",
        "monthly_df.head()"
      ],
      "execution_count": 25,
      "outputs": [
        {
          "output_type": "execute_result",
          "data": {
            "text/html": [
              "<div>\n",
              "<style scoped>\n",
              "    .dataframe tbody tr th:only-of-type {\n",
              "        vertical-align: middle;\n",
              "    }\n",
              "\n",
              "    .dataframe tbody tr th {\n",
              "        vertical-align: top;\n",
              "    }\n",
              "\n",
              "    .dataframe thead th {\n",
              "        text-align: right;\n",
              "    }\n",
              "</style>\n",
              "<table border=\"1\" class=\"dataframe\">\n",
              "  <thead>\n",
              "    <tr style=\"text-align: right;\">\n",
              "      <th></th>\n",
              "      <th>date</th>\n",
              "      <th>sales</th>\n",
              "    </tr>\n",
              "  </thead>\n",
              "  <tbody>\n",
              "    <tr>\n",
              "      <th>0</th>\n",
              "      <td>2016-09-01</td>\n",
              "      <td>134.97</td>\n",
              "    </tr>\n",
              "    <tr>\n",
              "      <th>1</th>\n",
              "      <td>2016-10-01</td>\n",
              "      <td>40325.11</td>\n",
              "    </tr>\n",
              "    <tr>\n",
              "      <th>2</th>\n",
              "      <td>2016-12-01</td>\n",
              "      <td>10.90</td>\n",
              "    </tr>\n",
              "    <tr>\n",
              "      <th>3</th>\n",
              "      <td>2017-01-01</td>\n",
              "      <td>111798.36</td>\n",
              "    </tr>\n",
              "    <tr>\n",
              "      <th>4</th>\n",
              "      <td>2017-02-01</td>\n",
              "      <td>234223.40</td>\n",
              "    </tr>\n",
              "  </tbody>\n",
              "</table>\n",
              "</div>"
            ],
            "text/plain": [
              "        date      sales\n",
              "0 2016-09-01     134.97\n",
              "1 2016-10-01   40325.11\n",
              "2 2016-12-01      10.90\n",
              "3 2017-01-01  111798.36\n",
              "4 2017-02-01  234223.40"
            ]
          },
          "metadata": {},
          "execution_count": 25
        }
      ]
    },
    {
      "cell_type": "code",
      "metadata": {
        "colab": {
          "base_uri": "https://localhost:8080/"
        },
        "id": "LdJFlIocN5Kn",
        "outputId": "56da7dd2-6eb2-43f9-eb5b-a2e73482dc18"
      },
      "source": [
        "# Average monthly sales\n",
        "# Overall\n",
        "avg_monthly_sales = monthly_df['sales'].mean()\n",
        "print(f\"Overall average monthly sales: ${avg_monthly_sales}\")\n",
        "\n",
        "# Last 12 months (this will be the forecasted sales)\n",
        "avg_monthly_sales_12month = monthly_df['sales'][-12:].mean()\n",
        "print(f\"Last 12 months average monthly sales: ${avg_monthly_sales_12month}\")"
      ],
      "execution_count": 26,
      "outputs": [
        {
          "output_type": "stream",
          "name": "stdout",
          "text": [
            "Overall average monthly sales: $574847.7439130535\n",
            "Last 12 months average monthly sales: $848964.250000018\n"
          ]
        }
      ]
    },
    {
      "cell_type": "code",
      "metadata": {
        "id": "HL_F12neObbm"
      },
      "source": [
        "# define a func to plot monthly sales\n",
        "def time_plot(data, x_col, y_col, title):\n",
        "  plt.figure(figsize=(15,5))\n",
        "  sns.lineplot(x_col, y_col, data=data, color='mediumblue', label='Total Sales')\n",
        "\n",
        "  second = data.groupby(data.date.dt.year)[y_col].mean().reset_index()\n",
        "  second.date = pd.to_datetime(second.date, format='%Y')\n",
        "  sns.lineplot((second.date+ datetime.timedelta(6*365/12)), y_col, data=second,  color='red', label='Mean Sales')   \n",
        "\n",
        "  plt.xlabel(\"Date\")\n",
        "  plt.ylabel(\"Sales\")\n",
        "  plt.title(title)\n",
        "\n",
        "  sns.despine()\n",
        "  plt.show()"
      ],
      "execution_count": 27,
      "outputs": []
    },
    {
      "cell_type": "code",
      "metadata": {
        "colab": {
          "base_uri": "https://localhost:8080/",
          "height": 441
        },
        "id": "Vwgm41mTRgJh",
        "outputId": "1c82c3d5-1a2f-4d3d-a8fa-ec38f42694e2"
      },
      "source": [
        "# plot montly sales before transformation\n",
        "time_plot(monthly_df, 'date', 'sales', 'Monthly Sales Before Diff Transformation')"
      ],
      "execution_count": 28,
      "outputs": [
        {
          "output_type": "stream",
          "name": "stderr",
          "text": [
            "/usr/local/lib/python3.7/dist-packages/seaborn/_decorators.py:43: FutureWarning: Pass the following variables as keyword args: x, y. From version 0.12, the only valid positional argument will be `data`, and passing other arguments without an explicit keyword will result in an error or misinterpretation.\n",
            "  FutureWarning\n",
            "/usr/local/lib/python3.7/dist-packages/seaborn/_decorators.py:43: FutureWarning: Pass the following variables as keyword args: x, y. From version 0.12, the only valid positional argument will be `data`, and passing other arguments without an explicit keyword will result in an error or misinterpretation.\n",
            "  FutureWarning\n"
          ]
        },
        {
          "output_type": "display_data",
          "data": {
            "image/png": "[encoded data removed]",
            "text/plain": [
              "<Figure size 1080x360 with 1 Axes>"
            ]
          },
          "metadata": {
            "needs_background": "light"
          }
        }
      ]
    },
    {
      "cell_type": "code",
      "metadata": {
        "id": "B__t04TKVWD3",
        "colab": {
          "base_uri": "https://localhost:8080/",
          "height": 204
        },
        "outputId": "838f7990-897e-46f5-b477-1622301b7bf8"
      },
      "source": [
        "# define a func to calculate differences\n",
        "def get_diff(data):\n",
        "  data['sales_diff'] = data.sales.diff()\n",
        "  data = data.dropna()\n",
        "  return data\n",
        "stationary_df = get_diff(monthly_df)\n",
        "stationary_df.head()"
      ],
      "execution_count": 29,
      "outputs": [
        {
          "output_type": "execute_result",
          "data": {
            "text/html": [
              "<div>\n",
              "<style scoped>\n",
              "    .dataframe tbody tr th:only-of-type {\n",
              "        vertical-align: middle;\n",
              "    }\n",
              "\n",
              "    .dataframe tbody tr th {\n",
              "        vertical-align: top;\n",
              "    }\n",
              "\n",
              "    .dataframe thead th {\n",
              "        text-align: right;\n",
              "    }\n",
              "</style>\n",
              "<table border=\"1\" class=\"dataframe\">\n",
              "  <thead>\n",
              "    <tr style=\"text-align: right;\">\n",
              "      <th></th>\n",
              "      <th>date</th>\n",
              "      <th>sales</th>\n",
              "      <th>sales_diff</th>\n",
              "    </tr>\n",
              "  </thead>\n",
              "  <tbody>\n",
              "    <tr>\n",
              "      <th>1</th>\n",
              "      <td>2016-10-01</td>\n",
              "      <td>40325.11</td>\n",
              "      <td>40190.14</td>\n",
              "    </tr>\n",
              "    <tr>\n",
              "      <th>2</th>\n",
              "      <td>2016-12-01</td>\n",
              "      <td>10.90</td>\n",
              "      <td>-40314.21</td>\n",
              "    </tr>\n",
              "    <tr>\n",
              "      <th>3</th>\n",
              "      <td>2017-01-01</td>\n",
              "      <td>111798.36</td>\n",
              "      <td>111787.46</td>\n",
              "    </tr>\n",
              "    <tr>\n",
              "      <th>4</th>\n",
              "      <td>2017-02-01</td>\n",
              "      <td>234223.40</td>\n",
              "      <td>122425.04</td>\n",
              "    </tr>\n",
              "    <tr>\n",
              "      <th>5</th>\n",
              "      <td>2017-03-01</td>\n",
              "      <td>359198.85</td>\n",
              "      <td>124975.45</td>\n",
              "    </tr>\n",
              "  </tbody>\n",
              "</table>\n",
              "</div>"
            ],
            "text/plain": [
              "        date      sales  sales_diff\n",
              "1 2016-10-01   40325.11    40190.14\n",
              "2 2016-12-01      10.90   -40314.21\n",
              "3 2017-01-01  111798.36   111787.46\n",
              "4 2017-02-01  234223.40   122425.04\n",
              "5 2017-03-01  359198.85   124975.45"
            ]
          },
          "metadata": {},
          "execution_count": 29
        }
      ]
    },
    {
      "cell_type": "code",
      "metadata": {
        "colab": {
          "base_uri": "https://localhost:8080/",
          "height": 441
        },
        "id": "RRfK05rUISuR",
        "outputId": "36897eac-94e8-44c3-fb9b-325ba77fc8a3"
      },
      "source": [
        "# plot monthly sales after transformation\n",
        "time_plot(stationary_df, 'date', 'sales_diff', 'Monthly Sales After Diff Transformation')"
      ],
      "execution_count": 30,
      "outputs": [
        {
          "output_type": "stream",
          "name": "stderr",
          "text": [
            "/usr/local/lib/python3.7/dist-packages/seaborn/_decorators.py:43: FutureWarning: Pass the following variables as keyword args: x, y. From version 0.12, the only valid positional argument will be `data`, and passing other arguments without an explicit keyword will result in an error or misinterpretation.\n",
            "  FutureWarning\n",
            "/usr/local/lib/python3.7/dist-packages/seaborn/_decorators.py:43: FutureWarning: Pass the following variables as keyword args: x, y. From version 0.12, the only valid positional argument will be `data`, and passing other arguments without an explicit keyword will result in an error or misinterpretation.\n",
            "  FutureWarning\n"
          ]
        },
        {
          "output_type": "display_data",
          "data": {
            "image/png": "[encoded data removed]",
            "text/plain": [
              "<Figure size 1080x360 with 1 Axes>"
            ]
          },
          "metadata": {
            "needs_background": "light"
          }
        }
      ]
    },
    {
      "cell_type": "code",
      "metadata": {
        "id": "DlmjNVvANJPz",
        "colab": {
          "base_uri": "https://localhost:8080/",
          "height": 545
        },
        "outputId": "f1e13b00-dda3-4481-bb5e-ee8d4d434b4d"
      },
      "source": [
        "#create dataframe for transformation from time series to supervised\n",
        "def generate_supervised(data):\n",
        "    supervised_df = data.copy()\n",
        "    \n",
        "    #create column for each lag\n",
        "    for i in range(1,7):\n",
        "        col_name = 'lag_' + str(i)\n",
        "        supervised_df[col_name] = supervised_df['sales_diff'].shift(i)\n",
        "    \n",
        "    #drop null values\n",
        "    supervised_df = supervised_df.dropna().reset_index(drop=True)\n",
        "        \n",
        "    return supervised_df\n",
        "model_df = generate_supervised(stationary_df)\n",
        "model_df"
      ],
      "execution_count": 31,
      "outputs": [
        {
          "output_type": "execute_result",
          "data": {
            "text/html": [
              "<div>\n",
              "<style scoped>\n",
              "    .dataframe tbody tr th:only-of-type {\n",
              "        vertical-align: middle;\n",
              "    }\n",
              "\n",
              "    .dataframe tbody tr th {\n",
              "        vertical-align: top;\n",
              "    }\n",
              "\n",
              "    .dataframe thead th {\n",
              "        text-align: right;\n",
              "    }\n",
              "</style>\n",
              "<table border=\"1\" class=\"dataframe\">\n",
              "  <thead>\n",
              "    <tr style=\"text-align: right;\">\n",
              "      <th></th>\n",
              "      <th>date</th>\n",
              "      <th>sales</th>\n",
              "      <th>sales_diff</th>\n",
              "      <th>lag_1</th>\n",
              "      <th>lag_2</th>\n",
              "      <th>lag_3</th>\n",
              "      <th>lag_4</th>\n",
              "      <th>lag_5</th>\n",
              "      <th>lag_6</th>\n",
              "    </tr>\n",
              "  </thead>\n",
              "  <tbody>\n",
              "    <tr>\n",
              "      <th>0</th>\n",
              "      <td>2017-05-01</td>\n",
              "      <td>489338.25</td>\n",
              "      <td>148668.57</td>\n",
              "      <td>-18529.17</td>\n",
              "      <td>124975.45</td>\n",
              "      <td>122425.04</td>\n",
              "      <td>111787.46</td>\n",
              "      <td>-40314.21</td>\n",
              "      <td>40190.14</td>\n",
              "    </tr>\n",
              "    <tr>\n",
              "      <th>1</th>\n",
              "      <td>2017-06-01</td>\n",
              "      <td>421923.37</td>\n",
              "      <td>-67414.88</td>\n",
              "      <td>148668.57</td>\n",
              "      <td>-18529.17</td>\n",
              "      <td>124975.45</td>\n",
              "      <td>122425.04</td>\n",
              "      <td>111787.46</td>\n",
              "      <td>-40314.21</td>\n",
              "    </tr>\n",
              "    <tr>\n",
              "      <th>2</th>\n",
              "      <td>2017-07-01</td>\n",
              "      <td>481604.52</td>\n",
              "      <td>59681.15</td>\n",
              "      <td>-67414.88</td>\n",
              "      <td>148668.57</td>\n",
              "      <td>-18529.17</td>\n",
              "      <td>124975.45</td>\n",
              "      <td>122425.04</td>\n",
              "      <td>111787.46</td>\n",
              "    </tr>\n",
              "    <tr>\n",
              "      <th>3</th>\n",
              "      <td>2017-08-01</td>\n",
              "      <td>554699.70</td>\n",
              "      <td>73095.18</td>\n",
              "      <td>59681.15</td>\n",
              "      <td>-67414.88</td>\n",
              "      <td>148668.57</td>\n",
              "      <td>-18529.17</td>\n",
              "      <td>124975.45</td>\n",
              "      <td>122425.04</td>\n",
              "    </tr>\n",
              "    <tr>\n",
              "      <th>4</th>\n",
              "      <td>2017-09-01</td>\n",
              "      <td>607399.67</td>\n",
              "      <td>52699.97</td>\n",
              "      <td>73095.18</td>\n",
              "      <td>59681.15</td>\n",
              "      <td>-67414.88</td>\n",
              "      <td>148668.57</td>\n",
              "      <td>-18529.17</td>\n",
              "      <td>124975.45</td>\n",
              "    </tr>\n",
              "    <tr>\n",
              "      <th>5</th>\n",
              "      <td>2017-10-01</td>\n",
              "      <td>648247.65</td>\n",
              "      <td>40847.98</td>\n",
              "      <td>52699.97</td>\n",
              "      <td>73095.18</td>\n",
              "      <td>59681.15</td>\n",
              "      <td>-67414.88</td>\n",
              "      <td>148668.57</td>\n",
              "      <td>-18529.17</td>\n",
              "    </tr>\n",
              "    <tr>\n",
              "      <th>6</th>\n",
              "      <td>2017-11-01</td>\n",
              "      <td>987765.37</td>\n",
              "      <td>339517.72</td>\n",
              "      <td>40847.98</td>\n",
              "      <td>52699.97</td>\n",
              "      <td>73095.18</td>\n",
              "      <td>59681.15</td>\n",
              "      <td>-67414.88</td>\n",
              "      <td>148668.57</td>\n",
              "    </tr>\n",
              "    <tr>\n",
              "      <th>7</th>\n",
              "      <td>2017-12-01</td>\n",
              "      <td>726033.19</td>\n",
              "      <td>-261732.18</td>\n",
              "      <td>339517.72</td>\n",
              "      <td>40847.98</td>\n",
              "      <td>52699.97</td>\n",
              "      <td>73095.18</td>\n",
              "      <td>59681.15</td>\n",
              "      <td>-67414.88</td>\n",
              "    </tr>\n",
              "    <tr>\n",
              "      <th>8</th>\n",
              "      <td>2018-01-01</td>\n",
              "      <td>924645.00</td>\n",
              "      <td>198611.81</td>\n",
              "      <td>-261732.18</td>\n",
              "      <td>339517.72</td>\n",
              "      <td>40847.98</td>\n",
              "      <td>52699.97</td>\n",
              "      <td>73095.18</td>\n",
              "      <td>59681.15</td>\n",
              "    </tr>\n",
              "    <tr>\n",
              "      <th>9</th>\n",
              "      <td>2018-02-01</td>\n",
              "      <td>826437.13</td>\n",
              "      <td>-98207.87</td>\n",
              "      <td>198611.81</td>\n",
              "      <td>-261732.18</td>\n",
              "      <td>339517.72</td>\n",
              "      <td>40847.98</td>\n",
              "      <td>52699.97</td>\n",
              "      <td>73095.18</td>\n",
              "    </tr>\n",
              "    <tr>\n",
              "      <th>10</th>\n",
              "      <td>2018-03-01</td>\n",
              "      <td>953356.25</td>\n",
              "      <td>126919.12</td>\n",
              "      <td>-98207.87</td>\n",
              "      <td>198611.81</td>\n",
              "      <td>-261732.18</td>\n",
              "      <td>339517.72</td>\n",
              "      <td>40847.98</td>\n",
              "      <td>52699.97</td>\n",
              "    </tr>\n",
              "    <tr>\n",
              "      <th>11</th>\n",
              "      <td>2018-04-01</td>\n",
              "      <td>973534.09</td>\n",
              "      <td>20177.84</td>\n",
              "      <td>126919.12</td>\n",
              "      <td>-98207.87</td>\n",
              "      <td>198611.81</td>\n",
              "      <td>-261732.18</td>\n",
              "      <td>339517.72</td>\n",
              "      <td>40847.98</td>\n",
              "    </tr>\n",
              "    <tr>\n",
              "      <th>12</th>\n",
              "      <td>2018-05-01</td>\n",
              "      <td>977544.69</td>\n",
              "      <td>4010.60</td>\n",
              "      <td>20177.84</td>\n",
              "      <td>126919.12</td>\n",
              "      <td>-98207.87</td>\n",
              "      <td>198611.81</td>\n",
              "      <td>-261732.18</td>\n",
              "      <td>339517.72</td>\n",
              "    </tr>\n",
              "    <tr>\n",
              "      <th>13</th>\n",
              "      <td>2018-06-01</td>\n",
              "      <td>856077.86</td>\n",
              "      <td>-121466.83</td>\n",
              "      <td>4010.60</td>\n",
              "      <td>20177.84</td>\n",
              "      <td>126919.12</td>\n",
              "      <td>-98207.87</td>\n",
              "      <td>198611.81</td>\n",
              "      <td>-261732.18</td>\n",
              "    </tr>\n",
              "    <tr>\n",
              "      <th>14</th>\n",
              "      <td>2018-07-01</td>\n",
              "      <td>867953.46</td>\n",
              "      <td>11875.60</td>\n",
              "      <td>-121466.83</td>\n",
              "      <td>4010.60</td>\n",
              "      <td>20177.84</td>\n",
              "      <td>126919.12</td>\n",
              "      <td>-98207.87</td>\n",
              "      <td>198611.81</td>\n",
              "    </tr>\n",
              "    <tr>\n",
              "      <th>15</th>\n",
              "      <td>2018-08-01</td>\n",
              "      <td>838576.64</td>\n",
              "      <td>-29376.82</td>\n",
              "      <td>11875.60</td>\n",
              "      <td>-121466.83</td>\n",
              "      <td>4010.60</td>\n",
              "      <td>20177.84</td>\n",
              "      <td>126919.12</td>\n",
              "      <td>-98207.87</td>\n",
              "    </tr>\n",
              "  </tbody>\n",
              "</table>\n",
              "</div>"
            ],
            "text/plain": [
              "         date      sales  sales_diff  ...      lag_4      lag_5      lag_6\n",
              "0  2017-05-01  489338.25   148668.57  ...  111787.46  -40314.21   40190.14\n",
              "1  2017-06-01  421923.37   -67414.88  ...  122425.04  111787.46  -40314.21\n",
              "2  2017-07-01  481604.52    59681.15  ...  124975.45  122425.04  111787.46\n",
              "3  2017-08-01  554699.70    73095.18  ...  -18529.17  124975.45  122425.04\n",
              "4  2017-09-01  607399.67    52699.97  ...  148668.57  -18529.17  124975.45\n",
              "5  2017-10-01  648247.65    40847.98  ...  -67414.88  148668.57  -18529.17\n",
              "6  2017-11-01  987765.37   339517.72  ...   59681.15  -67414.88  148668.57\n",
              "7  2017-12-01  726033.19  -261732.18  ...   73095.18   59681.15  -67414.88\n",
              "8  2018-01-01  924645.00   198611.81  ...   52699.97   73095.18   59681.15\n",
              "9  2018-02-01  826437.13   -98207.87  ...   40847.98   52699.97   73095.18\n",
              "10 2018-03-01  953356.25   126919.12  ...  339517.72   40847.98   52699.97\n",
              "11 2018-04-01  973534.09    20177.84  ... -261732.18  339517.72   40847.98\n",
              "12 2018-05-01  977544.69     4010.60  ...  198611.81 -261732.18  339517.72\n",
              "13 2018-06-01  856077.86  -121466.83  ...  -98207.87  198611.81 -261732.18\n",
              "14 2018-07-01  867953.46    11875.60  ...  126919.12  -98207.87  198611.81\n",
              "15 2018-08-01  838576.64   -29376.82  ...   20177.84  126919.12  -98207.87\n",
              "\n",
              "[16 rows x 9 columns]"
            ]
          },
          "metadata": {},
          "execution_count": 31
        }
      ]
    },
    {
      "cell_type": "code",
      "metadata": {
        "colab": {
          "base_uri": "https://localhost:8080/"
        },
        "id": "RDdMSN0oYQy-",
        "outputId": "c3a29870-53b7-4576-e7cf-aeb1516e69d0"
      },
      "source": [
        "# evaluate our features for prediciton\n",
        "# Import statsmodels.formula.api\n",
        "import statsmodels.formula.api as smf\n",
        "# Define the regression formula\n",
        "model = smf.ols(formula='sales_diff ~ lag_1', data=model_df)\n",
        "# Fit the regression\n",
        "model_fit = model.fit()\n",
        "# Extract the adjusted r-squared\n",
        "regression_adj_rsq = model_fit.rsquared_adj   \n",
        "print(regression_adj_rsq)"
      ],
      "execution_count": 32,
      "outputs": [
        {
          "output_type": "stream",
          "name": "stdout",
          "text": [
            "0.3479656586614597\n"
          ]
        }
      ]
    },
    {
      "cell_type": "code",
      "metadata": {
        "colab": {
          "base_uri": "https://localhost:8080/"
        },
        "id": "R6997EQ_Ywu0",
        "outputId": "1434e448-5cca-458e-e4ec-ba10ef6c7760"
      },
      "source": [
        "# Import statsmodels.formula.api\n",
        "import statsmodels.formula.api as smf\n",
        "# Define the regression formula\n",
        "model = smf.ols(formula='sales_diff ~ lag_1+lag_2+lag_3 + lag_4+lag_5+lag_6', data=model_df)\n",
        "# Fit the regression\n",
        "model_fit = model.fit()\n",
        "# Extract the adjusted r-squared\n",
        "regression_adj_rsq = model_fit.rsquared_adj\n",
        "print(regression_adj_rsq)"
      ],
      "execution_count": 33,
      "outputs": [
        {
          "output_type": "stream",
          "name": "stdout",
          "text": [
            "0.20352878804410146\n"
          ]
        }
      ]
    },
    {
      "cell_type": "markdown",
      "metadata": {
        "id": "n1mxXvArhFJ-"
      },
      "source": [
        "## Model"
      ]
    },
    {
      "cell_type": "code",
      "metadata": {
        "id": "VnXwodW3hGZw"
      },
      "source": [
        "# import libraries\n",
        "from sklearn.preprocessing import MinMaxScaler\n",
        "from sklearn.linear_model import LinearRegression\n",
        "from sklearn.metrics import mean_squared_error, mean_absolute_error, r2_score\n",
        "import tensorflow as tf\n",
        "from tensorflow import keras\n",
        "from keras.layers import Dense\n",
        "from keras.models import Sequential\n",
        "from tensorflow.keras.optimizers import Adam\n",
        "from keras.layers import LSTM\n",
        "from sklearn.model_selection import train_test_split"
      ],
      "execution_count": 34,
      "outputs": []
    },
    {
      "cell_type": "code",
      "metadata": {
        "id": "VZs270P2iKo8",
        "colab": {
          "base_uri": "https://localhost:8080/"
        },
        "outputId": "6f413f49-13aa-43e8-c833-f06a31b2d600"
      },
      "source": [
        "# define a func to create train set, test set\n",
        "def tts(data):\n",
        "    data = data.drop(['sales','date'],axis=1)\n",
        "    train, test = data.iloc[0:-6].values, data.iloc[-6:].values\n",
        "    \n",
        "    return train, test\n",
        "# create train, test set\n",
        "train, test = tts(model_df)\n",
        "# print shape\n",
        "train.shape, test.shape"
      ],
      "execution_count": 35,
      "outputs": [
        {
          "output_type": "execute_result",
          "data": {
            "text/plain": [
              "((10, 7), (6, 7))"
            ]
          },
          "metadata": {},
          "execution_count": 35
        }
      ]
    },
    {
      "cell_type": "code",
      "metadata": {
        "id": "2ZbEj6Iao8s7"
      },
      "source": [
        "# defince a func to scale data\n",
        "def scale_data(train_set, test_set):\n",
        "    #apply Min Max Scaler\n",
        "    scaler = MinMaxScaler(feature_range=(-1, 1))\n",
        "    scaler = scaler.fit(train_set)\n",
        "    \n",
        "    # reshape training set\n",
        "    #train_set = train_set.reshape(train_set.shape[0], train_set.shape[1])\n",
        "    train_set_scaled = scaler.transform(train_set)\n",
        "    \n",
        "    # reshape test set\n",
        "    #test_set = test_set.reshape(test_set.shape[0], test_set.shape[1])\n",
        "    test_set_scaled = scaler.transform(test_set)\n",
        "    \n",
        "    X_train, y_train = train_set_scaled[:, 1:], train_set_scaled[:, 0:1].ravel()\n",
        "    X_test, y_test = test_set_scaled[:, 1:], test_set_scaled[:, 0:1].ravel()\n",
        "    \n",
        "    return X_train, y_train, X_test, y_test, scaler\n",
        "\n",
        "X_train, y_train, X_test, y_test, scaler_object = scale_data(train, test)"
      ],
      "execution_count": 36,
      "outputs": []
    },
    {
      "cell_type": "code",
      "metadata": {
        "colab": {
          "base_uri": "https://localhost:8080/"
        },
        "id": "28hP_Om81cGG",
        "outputId": "12eb4764-0c9d-40cc-c3bf-fccbc9b51545"
      },
      "source": [
        "X_train.shape, X_test.shape , y_train.shape, y_test.shape"
      ],
      "execution_count": 37,
      "outputs": [
        {
          "output_type": "execute_result",
          "data": {
            "text/plain": [
              "((10, 6), (6, 6), (10,), (6,))"
            ]
          },
          "metadata": {},
          "execution_count": 37
        }
      ]
    },
    {
      "cell_type": "code",
      "metadata": {
        "id": "NKoklaDq3Z2Y"
      },
      "source": [
        "def undo_scaling(y_pred, x_test, scaler_obj, lstm=False):  \n",
        "  #reshape y_pred\n",
        "  y_pred = y_pred.reshape(y_pred.shape[0], 1, 1)\n",
        "  \n",
        "  if not lstm:\n",
        "    x_test = x_test.reshape(x_test.shape[0], 1, x_test.shape[1])\n",
        "    \n",
        "  #rebuild test set for inverse transform\n",
        "  pred_test_set = []\n",
        "  for i in range(0,len(y_pred)):\n",
        "    pred_test_set.append(np.concatenate([y_pred[i],x_test[i]],axis=1))\n",
        "    \n",
        "  #reshape pred_test_set\n",
        "  pred_test_set = np.array(pred_test_set)\n",
        "  pred_test_set = pred_test_set.reshape(pred_test_set.shape[0], pred_test_set.shape[2])\n",
        "  \n",
        "  #inverse transform\n",
        "  pred_test_set_inverted = scaler_obj.inverse_transform(pred_test_set)\n",
        "  \n",
        "  return pred_test_set_inverted"
      ],
      "execution_count": 38,
      "outputs": []
    },
    {
      "cell_type": "code",
      "metadata": {
        "id": "85fO3qtuabiW"
      },
      "source": [
        "# define a func to predict\n",
        "def predict_df(unscaled_predictions, original_df):\n",
        "  #create dataframe that shows the predicted sales\n",
        "  result_list = []\n",
        "  sales_dates = list(original_df[-7:].date)\n",
        "  act_sales = list(original_df[-7:].sales)\n",
        "\n",
        "  for index in range(0,len(unscaled_predictions)):\n",
        "    result_dict = {}\n",
        "    result_dict['pred_value'] = int(unscaled_predictions[index][0] + act_sales[index])\n",
        "    result_dict['date'] = sales_dates[index+1]\n",
        "    result_list.append(result_dict)\n",
        "      \n",
        "  df_result = pd.DataFrame(result_list)\n",
        "\n",
        "  return df_result"
      ],
      "execution_count": 39,
      "outputs": []
    },
    {
      "cell_type": "code",
      "metadata": {
        "id": "Iyazxj1MeOTe"
      },
      "source": [
        "# define a func to evaluate model\n",
        "model_scores = {}\n",
        "def get_scores(unscaled_df, original_df, model_name):\n",
        "  rmse = np.sqrt(mean_squared_error(original_df.sales[-6:], unscaled_df.pred_value[-6:]))\n",
        "  mae = mean_absolute_error(original_df.sales[-6:], unscaled_df.pred_value[-6:])\n",
        "  r2 = r2_score(original_df.sales[-6:], unscaled_df.pred_value[-6:])\n",
        "  model_scores[model_name] = [rmse, mae, r2]\n",
        "\n",
        "  print(f\"RMSE: {rmse}\")\n",
        "  print(f\"MAE: {mae}\")\n",
        "  print(f\"R2 Score: {r2}\")"
      ],
      "execution_count": 40,
      "outputs": []
    },
    {
      "cell_type": "code",
      "metadata": {
        "id": "sC1gRj6yefTO"
      },
      "source": [
        "# define a func to plt results\n",
        "def plot_results(results, original_df, model_name):\n",
        "\n",
        "  plt.figure(figsize=(15,5))\n",
        "  sns.lineplot(original_df.date, original_df.sales, data=original_df,  \n",
        "                label='Original', color='mediumblue')\n",
        "  sns.lineplot(results.date, results.pred_value, data=results,  \n",
        "                label='Predicted', color='Red')\n",
        "  \n",
        "  plt.xlabel(\"Date\")\n",
        "  plt.ylabel(\"Sales\")\n",
        "  plt.title(f\"{model_name} Sales Forecasting Prediction\")\n",
        "  \n",
        "  plt.legend()\n",
        "  \n",
        "  sns.despine()\n",
        "  \n",
        "  plt.show()"
      ],
      "execution_count": 41,
      "outputs": []
    },
    {
      "cell_type": "code",
      "metadata": {
        "id": "V3BdBraW1Z44"
      },
      "source": [
        "# defince a funct to run model\n",
        "def run_model(train_data, test_data, model, model_name):\n",
        "    \n",
        "    X_train, y_train, X_test, y_test, scaler_object = scale_data(train_data, test_data)\n",
        "    \n",
        "    mod = model\n",
        "    mod.fit(X_train, y_train)\n",
        "    predictions = mod.predict(X_test)\n",
        "    \n",
        "    # Undo scaling to compare predictions against original data\n",
        "    original_df = load_original_df()\n",
        "    unscaled = undo_scaling(predictions, X_test, scaler_object)\n",
        "    unscaled_df = predict_df(unscaled, original_df)\n",
        "      \n",
        "    get_scores(unscaled_df, original_df, model_name)\n",
        "    \n",
        "    plot_results(unscaled_df, original_df, model_name)"
      ],
      "execution_count": 42,
      "outputs": []
    },
    {
      "cell_type": "code",
      "metadata": {
        "id": "E2-BmDrCgLQu"
      },
      "source": [
        "# regressive model\n",
        "def regressive_model(train_data, test_data, model, model_name):\n",
        "    # Split into X & y and scale data\n",
        "    X_train, y_train, X_test, y_test, scaler_object = scale_data(train_data,\n",
        "                                                                 test_data)\n",
        "    # Run sklearn models\n",
        "    mod = model\n",
        "    mod.fit(X_train, y_train)\n",
        "    predictions = mod.predict(X_test)\n",
        "\n",
        "    # Undo scaling to compare predictions against original data\n",
        "    #original_df = load_data('../data/monthly_data.csv')\n",
        "    unscaled = undo_scaling(predictions, X_test, scaler_object)\n",
        "    unscaled_df = predict_df(unscaled, original_df)\n",
        "\n",
        "    # print scores and plot results\n",
        "    get_scores(unscaled_df, original_df, model_name)\n",
        "    plot_results(unscaled_df, original_df, model_name)"
      ],
      "execution_count": 43,
      "outputs": []
    },
    {
      "cell_type": "code",
      "metadata": {
        "colab": {
          "base_uri": "https://localhost:8080/",
          "height": 494
        },
        "id": "hyQF0SWdgXiF",
        "outputId": "2832737d-7338-4551-9b89-5be47d30ed4b"
      },
      "source": [
        "# run model\n",
        "run_model(train, test, LinearRegression(), 'LinearRegression')"
      ],
      "execution_count": 44,
      "outputs": [
        {
          "output_type": "stream",
          "name": "stdout",
          "text": [
            "RMSE: 268634.3387168389\n",
            "MAE: 220865.16666666666\n",
            "R2 Score: -20.364470758697504\n"
          ]
        },
        {
          "output_type": "stream",
          "name": "stderr",
          "text": [
            "/usr/local/lib/python3.7/dist-packages/seaborn/_decorators.py:43: FutureWarning: Pass the following variables as keyword args: x, y. From version 0.12, the only valid positional argument will be `data`, and passing other arguments without an explicit keyword will result in an error or misinterpretation.\n",
            "  FutureWarning\n",
            "/usr/local/lib/python3.7/dist-packages/seaborn/_decorators.py:43: FutureWarning: Pass the following variables as keyword args: x, y. From version 0.12, the only valid positional argument will be `data`, and passing other arguments without an explicit keyword will result in an error or misinterpretation.\n",
            "  FutureWarning\n"
          ]
        },
        {
          "output_type": "display_data",
          "data": {
            "image/png": "[encoded data removed]",
            "text/plain": [
              "<Figure size 1080x360 with 1 Axes>"
            ]
          },
          "metadata": {
            "needs_background": "light"
          }
        }
      ]
    },
    {
      "cell_type": "code",
      "metadata": {
        "id": "SEYENUqyghvJ"
      },
      "source": [
        "# lstm model\n",
        "def lstm_model(train_data, test_data):\n",
        "\n",
        "    X_train, y_train, X_test, y_test, scaler_object = scale_data(train_data, test_data)\n",
        "\n",
        "    X_train = X_train.reshape(X_train.shape[0], 1, X_train.shape[1])\n",
        "    X_test = X_test.reshape(X_test.shape[0], 1, X_test.shape[1])\n",
        "\n",
        "    model = Sequential()\n",
        "    model.add(LSTM(4, batch_input_shape=(1, X_train.shape[1], X_train.shape[2]), \n",
        "                    stateful=True))\n",
        "    model.add(Dense(1))\n",
        "    model.add(Dense(1))\n",
        "    model.compile(loss='mean_squared_error', optimizer='adam')\n",
        "    model.fit(X_train, y_train, epochs=200, batch_size=1, verbose=1, \n",
        "              shuffle=False)\n",
        "    predictions = model.predict(X_test,batch_size=1)\n",
        "\n",
        "    original_df = load_original_df()\n",
        "    unscaled = undo_scaling(predictions, X_test, scaler_object, lstm=True)\n",
        "    unscaled_df = predict_df(unscaled, original_df)\n",
        "\n",
        "    get_scores(unscaled_df, original_df, 'LSTM')\n",
        "\n",
        "    plot_results(unscaled_df, original_df, 'LSTM')"
      ],
      "execution_count": 45,
      "outputs": []
    },
    {
      "cell_type": "code",
      "metadata": {
        "colab": {
          "base_uri": "https://localhost:8080/",
          "height": 1000
        },
        "id": "AEUQ83e3kkKM",
        "outputId": "9381de8a-cf69-48b4-a32d-752ad19e7382"
      },
      "source": [
        "# run model\n",
        "lstm_model(train, test)"
      ],
      "execution_count": 46,
      "outputs": [
        {
          "output_type": "stream",
          "name": "stdout",
          "text": [
            "Epoch 1/200\n",
            "10/10 [==============================] - 2s 2ms/step - loss: 0.2992\n",
            "Epoch 2/200\n",
            "10/10 [==============================] - 0s 2ms/step - loss: 0.2900\n",
            "Epoch 3/200\n",
            "10/10 [==============================] - 0s 2ms/step - loss: 0.2810\n",
            "Epoch 4/200\n",
            "10/10 [==============================] - 0s 3ms/step - loss: 0.2730\n",
            "Epoch 5/200\n",
            "10/10 [==============================] - 0s 3ms/step - loss: 0.2661\n",
            "Epoch 6/200\n",
            "10/10 [==============================] - 0s 4ms/step - loss: 0.2600\n",
            "Epoch 7/200\n",
            "10/10 [==============================] - 0s 2ms/step - loss: 0.2546\n",
            "Epoch 8/200\n",
            "10/10 [==============================] - 0s 2ms/step - loss: 0.2498\n",
            "Epoch 9/200\n",
            "10/10 [==============================] - 0s 3ms/step - loss: 0.2454\n",
            "Epoch 10/200\n",
            "10/10 [==============================] - 0s 3ms/step - loss: 0.2414\n",
            "Epoch 11/200\n",
            "10/10 [==============================] - 0s 3ms/step - loss: 0.2377\n",
            "Epoch 12/200\n",
            "10/10 [==============================] - 0s 2ms/step - loss: 0.2342\n",
            "Epoch 13/200\n",
            "10/10 [==============================] - 0s 2ms/step - loss: 0.2309\n",
            "Epoch 14/200\n",
            "10/10 [==============================] - 0s 2ms/step - loss: 0.2277\n",
            "Epoch 15/200\n",
            "10/10 [==============================] - 0s 3ms/step - loss: 0.2247\n",
            "Epoch 16/200\n",
            "10/10 [==============================] - 0s 2ms/step - loss: 0.2218\n",
            "Epoch 17/200\n",
            "10/10 [==============================] - 0s 2ms/step - loss: 0.2189\n",
            "Epoch 18/200\n",
            "10/10 [==============================] - 0s 2ms/step - loss: 0.2161\n",
            "Epoch 19/200\n",
            "10/10 [==============================] - 0s 3ms/step - loss: 0.2133\n",
            "Epoch 20/200\n",
            "10/10 [==============================] - 0s 3ms/step - loss: 0.2106\n",
            "Epoch 21/200\n",
            "10/10 [==============================] - 0s 2ms/step - loss: 0.2078\n",
            "Epoch 22/200\n",
            "10/10 [==============================] - 0s 3ms/step - loss: 0.2051\n",
            "Epoch 23/200\n",
            "10/10 [==============================] - 0s 3ms/step - loss: 0.2024\n",
            "Epoch 24/200\n",
            "10/10 [==============================] - 0s 3ms/step - loss: 0.1997\n",
            "Epoch 25/200\n",
            "10/10 [==============================] - 0s 2ms/step - loss: 0.1969\n",
            "Epoch 26/200\n",
            "10/10 [==============================] - 0s 3ms/step - loss: 0.1942\n",
            "Epoch 27/200\n",
            "10/10 [==============================] - 0s 3ms/step - loss: 0.1914\n",
            "Epoch 28/200\n",
            "10/10 [==============================] - 0s 3ms/step - loss: 0.1886\n",
            "Epoch 29/200\n",
            "10/10 [==============================] - 0s 3ms/step - loss: 0.1858\n",
            "Epoch 30/200\n",
            "10/10 [==============================] - 0s 3ms/step - loss: 0.1830\n",
            "Epoch 31/200\n",
            "10/10 [==============================] - 0s 3ms/step - loss: 0.1801\n",
            "Epoch 32/200\n",
            "10/10 [==============================] - 0s 2ms/step - loss: 0.1773\n",
            "Epoch 33/200\n",
            "10/10 [==============================] - 0s 2ms/step - loss: 0.1744\n",
            "Epoch 34/200\n",
            "10/10 [==============================] - 0s 3ms/step - loss: 0.1715\n",
            "Epoch 35/200\n",
            "10/10 [==============================] - 0s 2ms/step - loss: 0.1686\n",
            "Epoch 36/200\n",
            "10/10 [==============================] - 0s 3ms/step - loss: 0.1657\n",
            "Epoch 37/200\n",
            "10/10 [==============================] - 0s 2ms/step - loss: 0.1628\n",
            "Epoch 38/200\n",
            "10/10 [==============================] - 0s 3ms/step - loss: 0.1598\n",
            "Epoch 39/200\n",
            "10/10 [==============================] - 0s 2ms/step - loss: 0.1569\n",
            "Epoch 40/200\n",
            "10/10 [==============================] - 0s 2ms/step - loss: 0.1540\n",
            "Epoch 41/200\n",
            "10/10 [==============================] - 0s 2ms/step - loss: 0.1510\n",
            "Epoch 42/200\n",
            "10/10 [==============================] - 0s 2ms/step - loss: 0.1481\n",
            "Epoch 43/200\n",
            "10/10 [==============================] - 0s 2ms/step - loss: 0.1452\n",
            "Epoch 44/200\n",
            "10/10 [==============================] - 0s 2ms/step - loss: 0.1423\n",
            "Epoch 45/200\n",
            "10/10 [==============================] - 0s 2ms/step - loss: 0.1394\n",
            "Epoch 46/200\n",
            "10/10 [==============================] - 0s 3ms/step - loss: 0.1365\n",
            "Epoch 47/200\n",
            "10/10 [==============================] - 0s 2ms/step - loss: 0.1336\n",
            "Epoch 48/200\n",
            "10/10 [==============================] - 0s 2ms/step - loss: 0.1308\n",
            "Epoch 49/200\n",
            "10/10 [==============================] - 0s 2ms/step - loss: 0.1280\n",
            "Epoch 50/200\n",
            "10/10 [==============================] - 0s 2ms/step - loss: 0.1252\n",
            "Epoch 51/200\n",
            "10/10 [==============================] - 0s 3ms/step - loss: 0.1225\n",
            "Epoch 52/200\n",
            "10/10 [==============================] - 0s 2ms/step - loss: 0.1198\n",
            "Epoch 53/200\n",
            "10/10 [==============================] - 0s 2ms/step - loss: 0.1171\n",
            "Epoch 54/200\n",
            "10/10 [==============================] - 0s 3ms/step - loss: 0.1145\n",
            "Epoch 55/200\n",
            "10/10 [==============================] - 0s 2ms/step - loss: 0.1120\n",
            "Epoch 56/200\n",
            "10/10 [==============================] - 0s 3ms/step - loss: 0.1094\n",
            "Epoch 57/200\n",
            "10/10 [==============================] - 0s 3ms/step - loss: 0.1070\n",
            "Epoch 58/200\n",
            "10/10 [==============================] - 0s 2ms/step - loss: 0.1045\n",
            "Epoch 59/200\n",
            "10/10 [==============================] - 0s 2ms/step - loss: 0.1022\n",
            "Epoch 60/200\n",
            "10/10 [==============================] - 0s 3ms/step - loss: 0.0998\n",
            "Epoch 61/200\n",
            "10/10 [==============================] - 0s 2ms/step - loss: 0.0976\n",
            "Epoch 62/200\n",
            "10/10 [==============================] - 0s 3ms/step - loss: 0.0953\n",
            "Epoch 63/200\n",
            "10/10 [==============================] - 0s 2ms/step - loss: 0.0932\n",
            "Epoch 64/200\n",
            "10/10 [==============================] - 0s 2ms/step - loss: 0.0911\n",
            "Epoch 65/200\n",
            "10/10 [==============================] - 0s 2ms/step - loss: 0.0890\n",
            "Epoch 66/200\n",
            "10/10 [==============================] - 0s 3ms/step - loss: 0.0870\n",
            "Epoch 67/200\n",
            "10/10 [==============================] - 0s 3ms/step - loss: 0.0850\n",
            "Epoch 68/200\n",
            "10/10 [==============================] - 0s 3ms/step - loss: 0.0831\n",
            "Epoch 69/200\n",
            "10/10 [==============================] - 0s 2ms/step - loss: 0.0812\n",
            "Epoch 70/200\n",
            "10/10 [==============================] - 0s 4ms/step - loss: 0.0794\n",
            "Epoch 71/200\n",
            "10/10 [==============================] - 0s 3ms/step - loss: 0.0777\n",
            "Epoch 72/200\n",
            "10/10 [==============================] - 0s 3ms/step - loss: 0.0759\n",
            "Epoch 73/200\n",
            "10/10 [==============================] - 0s 2ms/step - loss: 0.0743\n",
            "Epoch 74/200\n",
            "10/10 [==============================] - 0s 2ms/step - loss: 0.0726\n",
            "Epoch 75/200\n",
            "10/10 [==============================] - 0s 3ms/step - loss: 0.0710\n",
            "Epoch 76/200\n",
            "10/10 [==============================] - 0s 2ms/step - loss: 0.0695\n",
            "Epoch 77/200\n",
            "10/10 [==============================] - 0s 3ms/step - loss: 0.0680\n",
            "Epoch 78/200\n",
            "10/10 [==============================] - 0s 3ms/step - loss: 0.0665\n",
            "Epoch 79/200\n",
            "10/10 [==============================] - 0s 2ms/step - loss: 0.0651\n",
            "Epoch 80/200\n",
            "10/10 [==============================] - 0s 3ms/step - loss: 0.0637\n",
            "Epoch 81/200\n",
            "10/10 [==============================] - 0s 2ms/step - loss: 0.0623\n",
            "Epoch 82/200\n",
            "10/10 [==============================] - 0s 3ms/step - loss: 0.0610\n",
            "Epoch 83/200\n",
            "10/10 [==============================] - 0s 3ms/step - loss: 0.0597\n",
            "Epoch 84/200\n",
            "10/10 [==============================] - 0s 3ms/step - loss: 0.0584\n",
            "Epoch 85/200\n",
            "10/10 [==============================] - 0s 3ms/step - loss: 0.0571\n",
            "Epoch 86/200\n",
            "10/10 [==============================] - 0s 4ms/step - loss: 0.0559\n",
            "Epoch 87/200\n",
            "10/10 [==============================] - 0s 3ms/step - loss: 0.0547\n",
            "Epoch 88/200\n",
            "10/10 [==============================] - 0s 3ms/step - loss: 0.0536\n",
            "Epoch 89/200\n",
            "10/10 [==============================] - 0s 2ms/step - loss: 0.0524\n",
            "Epoch 90/200\n",
            "10/10 [==============================] - 0s 2ms/step - loss: 0.0513\n",
            "Epoch 91/200\n",
            "10/10 [==============================] - 0s 3ms/step - loss: 0.0502\n",
            "Epoch 92/200\n",
            "10/10 [==============================] - 0s 2ms/step - loss: 0.0492\n",
            "Epoch 93/200\n",
            "10/10 [==============================] - 0s 3ms/step - loss: 0.0481\n",
            "Epoch 94/200\n",
            "10/10 [==============================] - 0s 3ms/step - loss: 0.0471\n",
            "Epoch 95/200\n",
            "10/10 [==============================] - 0s 3ms/step - loss: 0.0461\n",
            "Epoch 96/200\n",
            "10/10 [==============================] - 0s 2ms/step - loss: 0.0451\n",
            "Epoch 97/200\n",
            "10/10 [==============================] - 0s 2ms/step - loss: 0.0442\n",
            "Epoch 98/200\n",
            "10/10 [==============================] - 0s 3ms/step - loss: 0.0432\n",
            "Epoch 99/200\n",
            "10/10 [==============================] - 0s 2ms/step - loss: 0.0423\n",
            "Epoch 100/200\n",
            "10/10 [==============================] - 0s 2ms/step - loss: 0.0414\n",
            "Epoch 101/200\n",
            "10/10 [==============================] - 0s 5ms/step - loss: 0.0405\n",
            "Epoch 102/200\n",
            "10/10 [==============================] - 0s 2ms/step - loss: 0.0397\n",
            "Epoch 103/200\n",
            "10/10 [==============================] - 0s 3ms/step - loss: 0.0388\n",
            "Epoch 104/200\n",
            "10/10 [==============================] - 0s 2ms/step - loss: 0.0380\n",
            "Epoch 105/200\n",
            "10/10 [==============================] - 0s 2ms/step - loss: 0.0371\n",
            "Epoch 106/200\n",
            "10/10 [==============================] - 0s 2ms/step - loss: 0.0363\n",
            "Epoch 107/200\n",
            "10/10 [==============================] - 0s 2ms/step - loss: 0.0355\n",
            "Epoch 108/200\n",
            "10/10 [==============================] - 0s 2ms/step - loss: 0.0348\n",
            "Epoch 109/200\n",
            "10/10 [==============================] - 0s 2ms/step - loss: 0.0340\n",
            "Epoch 110/200\n",
            "10/10 [==============================] - 0s 2ms/step - loss: 0.0332\n",
            "Epoch 111/200\n",
            "10/10 [==============================] - 0s 3ms/step - loss: 0.0325\n",
            "Epoch 112/200\n",
            "10/10 [==============================] - 0s 2ms/step - loss: 0.0318\n",
            "Epoch 113/200\n",
            "10/10 [==============================] - 0s 2ms/step - loss: 0.0311\n",
            "Epoch 114/200\n",
            "10/10 [==============================] - 0s 2ms/step - loss: 0.0304\n",
            "Epoch 115/200\n",
            "10/10 [==============================] - 0s 2ms/step - loss: 0.0297\n",
            "Epoch 116/200\n",
            "10/10 [==============================] - 0s 2ms/step - loss: 0.0290\n",
            "Epoch 117/200\n",
            "10/10 [==============================] - 0s 2ms/step - loss: 0.0283\n",
            "Epoch 118/200\n",
            "10/10 [==============================] - 0s 3ms/step - loss: 0.0277\n",
            "Epoch 119/200\n",
            "10/10 [==============================] - 0s 3ms/step - loss: 0.0271\n",
            "Epoch 120/200\n",
            "10/10 [==============================] - 0s 2ms/step - loss: 0.0264\n",
            "Epoch 121/200\n",
            "10/10 [==============================] - 0s 3ms/step - loss: 0.0258\n",
            "Epoch 122/200\n",
            "10/10 [==============================] - 0s 2ms/step - loss: 0.0252\n",
            "Epoch 123/200\n",
            "10/10 [==============================] - 0s 3ms/step - loss: 0.0246\n",
            "Epoch 124/200\n",
            "10/10 [==============================] - 0s 2ms/step - loss: 0.0240\n",
            "Epoch 125/200\n",
            "10/10 [==============================] - 0s 2ms/step - loss: 0.0235\n",
            "Epoch 126/200\n",
            "10/10 [==============================] - 0s 2ms/step - loss: 0.0229\n",
            "Epoch 127/200\n",
            "10/10 [==============================] - 0s 2ms/step - loss: 0.0224\n",
            "Epoch 128/200\n",
            "10/10 [==============================] - 0s 3ms/step - loss: 0.0218\n",
            "Epoch 129/200\n",
            "10/10 [==============================] - 0s 3ms/step - loss: 0.0213\n",
            "Epoch 130/200\n",
            "10/10 [==============================] - 0s 3ms/step - loss: 0.0208\n",
            "Epoch 131/200\n",
            "10/10 [==============================] - 0s 3ms/step - loss: 0.0202\n",
            "Epoch 132/200\n",
            "10/10 [==============================] - 0s 3ms/step - loss: 0.0197\n",
            "Epoch 133/200\n",
            "10/10 [==============================] - 0s 2ms/step - loss: 0.0192\n",
            "Epoch 134/200\n",
            "10/10 [==============================] - 0s 2ms/step - loss: 0.0187\n",
            "Epoch 135/200\n",
            "10/10 [==============================] - 0s 2ms/step - loss: 0.0183\n",
            "Epoch 136/200\n",
            "10/10 [==============================] - 0s 2ms/step - loss: 0.0178\n",
            "Epoch 137/200\n",
            "10/10 [==============================] - 0s 2ms/step - loss: 0.0173\n",
            "Epoch 138/200\n",
            "10/10 [==============================] - 0s 3ms/step - loss: 0.0169\n",
            "Epoch 139/200\n",
            "10/10 [==============================] - 0s 3ms/step - loss: 0.0164\n",
            "Epoch 140/200\n",
            "10/10 [==============================] - 0s 3ms/step - loss: 0.0160\n",
            "Epoch 141/200\n",
            "10/10 [==============================] - 0s 2ms/step - loss: 0.0156\n",
            "Epoch 142/200\n",
            "10/10 [==============================] - 0s 2ms/step - loss: 0.0151\n",
            "Epoch 143/200\n",
            "10/10 [==============================] - 0s 3ms/step - loss: 0.0147\n",
            "Epoch 144/200\n",
            "10/10 [==============================] - 0s 2ms/step - loss: 0.0143\n",
            "Epoch 145/200\n",
            "10/10 [==============================] - 0s 2ms/step - loss: 0.0139\n",
            "Epoch 146/200\n",
            "10/10 [==============================] - 0s 3ms/step - loss: 0.0135\n",
            "Epoch 147/200\n",
            "10/10 [==============================] - 0s 3ms/step - loss: 0.0132\n",
            "Epoch 148/200\n",
            "10/10 [==============================] - 0s 3ms/step - loss: 0.0128\n",
            "Epoch 149/200\n",
            "10/10 [==============================] - 0s 3ms/step - loss: 0.0124\n",
            "Epoch 150/200\n",
            "10/10 [==============================] - 0s 2ms/step - loss: 0.0120\n",
            "Epoch 151/200\n",
            "10/10 [==============================] - 0s 2ms/step - loss: 0.0117\n",
            "Epoch 152/200\n",
            "10/10 [==============================] - 0s 2ms/step - loss: 0.0113\n",
            "Epoch 153/200\n",
            "10/10 [==============================] - 0s 3ms/step - loss: 0.0110\n",
            "Epoch 154/200\n",
            "10/10 [==============================] - 0s 2ms/step - loss: 0.0107\n",
            "Epoch 155/200\n",
            "10/10 [==============================] - 0s 2ms/step - loss: 0.0104\n",
            "Epoch 156/200\n",
            "10/10 [==============================] - 0s 2ms/step - loss: 0.0100\n",
            "Epoch 157/200\n",
            "10/10 [==============================] - 0s 3ms/step - loss: 0.0097\n",
            "Epoch 158/200\n",
            "10/10 [==============================] - 0s 3ms/step - loss: 0.0094\n",
            "Epoch 159/200\n",
            "10/10 [==============================] - 0s 2ms/step - loss: 0.0091\n",
            "Epoch 160/200\n",
            "10/10 [==============================] - 0s 2ms/step - loss: 0.0088\n",
            "Epoch 161/200\n",
            "10/10 [==============================] - 0s 3ms/step - loss: 0.0085\n",
            "Epoch 162/200\n",
            "10/10 [==============================] - 0s 3ms/step - loss: 0.0083\n",
            "Epoch 163/200\n",
            "10/10 [==============================] - 0s 4ms/step - loss: 0.0080\n",
            "Epoch 164/200\n",
            "10/10 [==============================] - 0s 2ms/step - loss: 0.0077\n",
            "Epoch 165/200\n",
            "10/10 [==============================] - 0s 3ms/step - loss: 0.0075\n",
            "Epoch 166/200\n",
            "10/10 [==============================] - 0s 3ms/step - loss: 0.0072\n",
            "Epoch 167/200\n",
            "10/10 [==============================] - 0s 2ms/step - loss: 0.0070\n",
            "Epoch 168/200\n",
            "10/10 [==============================] - 0s 2ms/step - loss: 0.0067\n",
            "Epoch 169/200\n",
            "10/10 [==============================] - 0s 3ms/step - loss: 0.0065\n",
            "Epoch 170/200\n",
            "10/10 [==============================] - 0s 2ms/step - loss: 0.0063\n",
            "Epoch 171/200\n",
            "10/10 [==============================] - 0s 2ms/step - loss: 0.0060\n",
            "Epoch 172/200\n",
            "10/10 [==============================] - 0s 2ms/step - loss: 0.0058\n",
            "Epoch 173/200\n",
            "10/10 [==============================] - 0s 2ms/step - loss: 0.0056\n",
            "Epoch 174/200\n",
            "10/10 [==============================] - 0s 2ms/step - loss: 0.0054\n",
            "Epoch 175/200\n",
            "10/10 [==============================] - 0s 2ms/step - loss: 0.0052\n",
            "Epoch 176/200\n",
            "10/10 [==============================] - 0s 2ms/step - loss: 0.0050\n",
            "Epoch 177/200\n",
            "10/10 [==============================] - 0s 2ms/step - loss: 0.0048\n",
            "Epoch 178/200\n",
            "10/10 [==============================] - 0s 2ms/step - loss: 0.0047\n",
            "Epoch 179/200\n",
            "10/10 [==============================] - 0s 2ms/step - loss: 0.0045\n",
            "Epoch 180/200\n",
            "10/10 [==============================] - 0s 2ms/step - loss: 0.0043\n",
            "Epoch 181/200\n",
            "10/10 [==============================] - 0s 2ms/step - loss: 0.0042\n",
            "Epoch 182/200\n",
            "10/10 [==============================] - 0s 2ms/step - loss: 0.0040\n",
            "Epoch 183/200\n",
            "10/10 [==============================] - 0s 2ms/step - loss: 0.0038\n",
            "Epoch 184/200\n",
            "10/10 [==============================] - 0s 2ms/step - loss: 0.0037\n",
            "Epoch 185/200\n",
            "10/10 [==============================] - 0s 2ms/step - loss: 0.0036\n",
            "Epoch 186/200\n",
            "10/10 [==============================] - 0s 3ms/step - loss: 0.0034\n",
            "Epoch 187/200\n",
            "10/10 [==============================] - 0s 2ms/step - loss: 0.0033\n",
            "Epoch 188/200\n",
            "10/10 [==============================] - 0s 2ms/step - loss: 0.0032\n",
            "Epoch 189/200\n",
            "10/10 [==============================] - 0s 2ms/step - loss: 0.0030\n",
            "Epoch 190/200\n",
            "10/10 [==============================] - 0s 3ms/step - loss: 0.0029\n",
            "Epoch 191/200\n",
            "10/10 [==============================] - 0s 2ms/step - loss: 0.0028\n",
            "Epoch 192/200\n",
            "10/10 [==============================] - 0s 2ms/step - loss: 0.0027\n",
            "Epoch 193/200\n",
            "10/10 [==============================] - 0s 2ms/step - loss: 0.0026\n",
            "Epoch 194/200\n",
            "10/10 [==============================] - 0s 2ms/step - loss: 0.0025\n",
            "Epoch 195/200\n",
            "10/10 [==============================] - 0s 2ms/step - loss: 0.0024\n",
            "Epoch 196/200\n",
            "10/10 [==============================] - 0s 3ms/step - loss: 0.0023\n",
            "Epoch 197/200\n",
            "10/10 [==============================] - 0s 3ms/step - loss: 0.0022\n",
            "Epoch 198/200\n",
            "10/10 [==============================] - 0s 3ms/step - loss: 0.0021\n",
            "Epoch 199/200\n",
            "10/10 [==============================] - 0s 2ms/step - loss: 0.0020\n",
            "Epoch 200/200\n",
            "10/10 [==============================] - 0s 2ms/step - loss: 0.0019\n",
            "RMSE: 248494.35253408342\n",
            "MAE: 163667.0\n",
            "R2 Score: -17.281091914892333\n"
          ]
        },
        {
          "output_type": "stream",
          "name": "stderr",
          "text": [
            "/usr/local/lib/python3.7/dist-packages/seaborn/_decorators.py:43: FutureWarning: Pass the following variables as keyword args: x, y. From version 0.12, the only valid positional argument will be `data`, and passing other arguments without an explicit keyword will result in an error or misinterpretation.\n",
            "  FutureWarning\n",
            "/usr/local/lib/python3.7/dist-packages/seaborn/_decorators.py:43: FutureWarning: Pass the following variables as keyword args: x, y. From version 0.12, the only valid positional argument will be `data`, and passing other arguments without an explicit keyword will result in an error or misinterpretation.\n",
            "  FutureWarning\n"
          ]
        },
        {
          "output_type": "display_data",
          "data": {
            "image/png": "[encoded data removed]",
            "text/plain": [
              "<Figure size 1080x360 with 1 Axes>"
            ]
          },
          "metadata": {
            "needs_background": "light"
          }
        }
      ]
    }
  ]
}